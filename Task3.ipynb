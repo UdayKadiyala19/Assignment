{
 "cells": [
  {
   "cell_type": "markdown",
   "id": "110812e8",
   "metadata": {},
   "source": [
    "Assignment Tasks on String Escape Characters, Indexing, and Slicing:\n",
    "\n",
    "**String Escape Characters:**\n",
    "\n",
    "Task 1:\n",
    "1. Create a string containing a sentence that includes both single and double quotes.\n",
    "2. Use escape characters to include quotes within the string.\n",
    "3. Print the modified string.\n",
    "\n",
    "Task 2:\n",
    "1. Declare a string with a backslash \\ character in it.\n",
    "2. Demonstrate the use of the escape character to print the backslash itself.\n",
    "3. Print the resulting string.\n",
    "\n",
    "Task 3:\n",
    "1. Construct a string containing newline and tab escape sequences.\n",
    "2. Print the string to display the formatted output.\n",
    "\n",
    "**Indexing and Slicing:**\n",
    "\n",
    "Task 4:\n",
    "1.  sentence = \"I want to become Data Scientist\".\n",
    "2. Access and print the `first character` of the string using indexing.\n",
    "3. Access and print the `last character` of the string using negative indexing.\n",
    "\n",
    "Task 5:\n",
    "1. What are `possible ways` yo extract `Scientist`(use forward and reverse)\n",
    "2. Use slicing to extract and print the `first word` from the string.\n",
    "3. Use slicing to extract and print the `last three` characters of the string.\n",
    "\n",
    "Task 6:\n",
    "1. name = \"Innomatics Reserach Labs\"\n",
    "2. Apply slicing to extract a substring that includes the `second to fifth` characters.\n",
    "3. `Print` the extracted substring.\n",
    "\n",
    "Task 7:\n",
    "1. string = \"Python@1234\"\n",
    "2. Use slicing to extract every second character from the string.\n",
    "3. Print the resulting sliced string.\n",
    "\n",
    "Task 8:\n",
    "1.  print last five letters.\n",
    "2. Utilize slicing to reverse the word order in the string.\n",
    "3. Print the string with the words in the reversed order.\n",
    "\n",
    "Task 9:\n",
    "1. a = \"123123123\"\n",
    "2. Apply slicing to extract only the numeric characters at odd positions.\n",
    "3. Print the sliced result.\n",
    "\n",
    "Remember to include explanations or comments for each task's code to ensure clarity. Additionally, encourage students to experiment further with different escape characters and slicing techniques beyond the provided tasks to deepen their understanding."
   ]
  },
  {
   "cell_type": "markdown",
   "id": "92132594",
   "metadata": {},
   "source": [
    "\n",
    "**String Escape Characters:**\n",
    "\n",
    "**Task 1:**\n",
    "1. Create a string containing a sentence that includes both single and double quotes.\n",
    "2. Use escape characters to include quotes within the string.\n",
    "3. Print the modified string.\n"
   ]
  },
  {
   "cell_type": "code",
   "execution_count": 2,
   "id": "7608f3bf",
   "metadata": {},
   "outputs": [
    {
     "name": "stdout",
     "output_type": "stream",
     "text": [
      "My name is 'Uday' and I am Learning \"Data Science\"\n"
     ]
    }
   ],
   "source": [
    "Name= 'My name is \\'Uday\\' and I am Learning \\\"Data Science\\\"'\n",
    "print(Name)"
   ]
  },
  {
   "cell_type": "code",
   "execution_count": 4,
   "id": "10dc66b0",
   "metadata": {},
   "outputs": [],
   "source": [
    "X= \"\\'Hello world!\\'\"  # \\' \\' - returns single qoutes in the output\n",
    "Y=\"\\\"How are you?\\\"\"   # \\\" \\\" - returns double quotes in the output"
   ]
  },
  {
   "cell_type": "code",
   "execution_count": 5,
   "id": "396b4fb5",
   "metadata": {},
   "outputs": [
    {
     "name": "stdout",
     "output_type": "stream",
     "text": [
      "'Hello world!'\n",
      "\"How are you?\"\n"
     ]
    }
   ],
   "source": [
    "print(X)\n",
    "print(Y)"
   ]
  },
  {
   "cell_type": "markdown",
   "id": "f844454a",
   "metadata": {},
   "source": [
    "**Task 2:**\n",
    "1. Declare a string with a backslash \\ character in it.\n",
    "2. Demonstrate the use of the escape character to print the backslash itself.\n",
    "3. Print the resulting string."
   ]
  },
  {
   "cell_type": "code",
   "execution_count": 7,
   "id": "d111b51b",
   "metadata": {},
   "outputs": [
    {
     "name": "stdout",
     "output_type": "stream",
     "text": [
      "sum of the values\\Total number of values\n"
     ]
    }
   ],
   "source": [
    "Average =(\"sum of the values\\\\Total number of values\") # the double backslash returns the single backslkash in the output.\n",
    "print(Average)"
   ]
  },
  {
   "cell_type": "code",
   "execution_count": null,
   "id": "c3edcb17",
   "metadata": {},
   "outputs": [],
   "source": [
    "Average =(r\"sum of the values\\Total number of values\")  #r- which prints the raw string\n",
    "print(Average)"
   ]
  },
  {
   "cell_type": "markdown",
   "id": "c1f313da",
   "metadata": {},
   "source": [
    "#### (\\\\\\\\)- Double Backslash\n",
    "\n",
    "Uses:\n",
    "* To print the backslash in string we need to use the double backslash(\\\\\\\\).\n",
    "* can be used for formulas like average and can be used in file handling."
   ]
  },
  {
   "cell_type": "code",
   "execution_count": 9,
   "id": "a5b4f812",
   "metadata": {},
   "outputs": [
    {
     "name": "stdout",
     "output_type": "stream",
     "text": [
      "C:\\Users\\udayk\\OneDrive\\Desktop\\New folder\n"
     ]
    }
   ],
   "source": [
    "File= \"C:\\\\Users\\\\udayk\\\\OneDrive\\\\Desktop\\\\New folder\"\n",
    "print(File)"
   ]
  },
  {
   "cell_type": "markdown",
   "id": "c29fe90a",
   "metadata": {},
   "source": [
    "**Task 3:**\n",
    "1. Construct a string containing newline and tab escape sequences.\n",
    "2. Print the string to display the formatted output."
   ]
  },
  {
   "cell_type": "code",
   "execution_count": 1,
   "id": "d54606ae",
   "metadata": {},
   "outputs": [],
   "source": [
    "Details= \"His name is Uday,\\tHe is living in hyderabad\\nHe is preparing for a job  \" # \\t- will provide 4spaces  \n",
    "                                                                                     # \\n- will starts from new line "
   ]
  },
  {
   "cell_type": "code",
   "execution_count": 2,
   "id": "37d01a25",
   "metadata": {},
   "outputs": [
    {
     "name": "stdout",
     "output_type": "stream",
     "text": [
      "His name is Uday,\tHe is living in hyderabad\n",
      "He is preparing for a job  \n"
     ]
    }
   ],
   "source": [
    "print(Details)"
   ]
  },
  {
   "cell_type": "markdown",
   "id": "938bb31e",
   "metadata": {},
   "source": [
    "**Indexing and Slicing:**\n",
    "\n",
    "**Task 4:**\n",
    "1.  sentence = \"I want to become Data Scientist\".\n",
    "2. Access and print the `first character` of the string using indexing.\n",
    "3. Access and print the `last character` of the string using negative indexing."
   ]
  },
  {
   "cell_type": "code",
   "execution_count": 54,
   "id": "f50c9349",
   "metadata": {},
   "outputs": [
    {
     "data": {
      "text/plain": [
       "31"
      ]
     },
     "execution_count": 54,
     "metadata": {},
     "output_type": "execute_result"
    }
   ],
   "source": [
    "sentence = \"I want to become Data Scientist\"\n",
    "len(sentence)   # len() function is to check the number of characters present in the string"
   ]
  },
  {
   "cell_type": "code",
   "execution_count": 32,
   "id": "66eed2bd",
   "metadata": {},
   "outputs": [
    {
     "name": "stdout",
     "output_type": "stream",
     "text": [
      "I\n"
     ]
    }
   ],
   "source": [
    "print(sentence[0])"
   ]
  },
  {
   "cell_type": "code",
   "execution_count": 33,
   "id": "f8026211",
   "metadata": {},
   "outputs": [
    {
     "name": "stdout",
     "output_type": "stream",
     "text": [
      "t\n"
     ]
    }
   ],
   "source": [
    "print(sentence[-1])"
   ]
  },
  {
   "cell_type": "markdown",
   "id": "c369e6c8",
   "metadata": {},
   "source": [
    "**Task 5:**\n",
    "1. What are `possible ways` yo extract `Scientist`(use forward and reverse)"
   ]
  },
  {
   "cell_type": "code",
   "execution_count": 90,
   "id": "707c1660",
   "metadata": {},
   "outputs": [
    {
     "data": {
      "text/plain": [
       "31"
      ]
     },
     "execution_count": 90,
     "metadata": {},
     "output_type": "execute_result"
    }
   ],
   "source": [
    "sentence = \"I want to become Data Scientist\"\n",
    "len(sentence)"
   ]
  },
  {
   "cell_type": "code",
   "execution_count": 86,
   "id": "c52fe41e",
   "metadata": {},
   "outputs": [
    {
     "name": "stdout",
     "output_type": "stream",
     "text": [
      " Scientist\n"
     ]
    }
   ],
   "source": [
    "print(sentence[21:31:1])  "
   ]
  },
  {
   "cell_type": "code",
   "execution_count": 87,
   "id": "bfb3ab56",
   "metadata": {},
   "outputs": [
    {
     "name": "stdout",
     "output_type": "stream",
     "text": [
      " Scientist\n"
     ]
    }
   ],
   "source": [
    "print(sentence[21::])"
   ]
  },
  {
   "cell_type": "code",
   "execution_count": 88,
   "id": "0d105c08",
   "metadata": {},
   "outputs": [
    {
     "name": "stdout",
     "output_type": "stream",
     "text": [
      "tsitneicS\n"
     ]
    }
   ],
   "source": [
    "print(sentence[31:21:-1])"
   ]
  },
  {
   "cell_type": "code",
   "execution_count": 89,
   "id": "372643aa",
   "metadata": {},
   "outputs": [
    {
     "name": "stdout",
     "output_type": "stream",
     "text": [
      " Scientist\n"
     ]
    }
   ],
   "source": [
    "print(sentence[-10::1])"
   ]
  },
  {
   "cell_type": "code",
   "execution_count": 49,
   "id": "6e62e3ff",
   "metadata": {},
   "outputs": [
    {
     "name": "stdout",
     "output_type": "stream",
     "text": [
      "tsitneicS\n"
     ]
    }
   ],
   "source": [
    "print(sentence[-1:-10:-1])"
   ]
  },
  {
   "cell_type": "markdown",
   "id": "b97f064b",
   "metadata": {},
   "source": [
    "2. Use slicing to extract and print the `first word` from the string."
   ]
  },
  {
   "cell_type": "code",
   "execution_count": 82,
   "id": "5bd9567e",
   "metadata": {},
   "outputs": [
    {
     "data": {
      "text/plain": [
       "'I want to become Data Scientist'"
      ]
     },
     "execution_count": 82,
     "metadata": {},
     "output_type": "execute_result"
    }
   ],
   "source": [
    "sentence"
   ]
  },
  {
   "cell_type": "code",
   "execution_count": 55,
   "id": "f4689cd1",
   "metadata": {},
   "outputs": [
    {
     "name": "stdout",
     "output_type": "stream",
     "text": [
      "I\n"
     ]
    }
   ],
   "source": [
    "print(sentence[0:1:1])"
   ]
  },
  {
   "cell_type": "markdown",
   "id": "83cf5387",
   "metadata": {},
   "source": [
    "3. Use slicing to extract and print the `last three` characters of the string."
   ]
  },
  {
   "cell_type": "code",
   "execution_count": 83,
   "id": "79e3b24a",
   "metadata": {},
   "outputs": [
    {
     "data": {
      "text/plain": [
       "'I want to become Data Scientist'"
      ]
     },
     "execution_count": 83,
     "metadata": {},
     "output_type": "execute_result"
    }
   ],
   "source": [
    "sentence"
   ]
  },
  {
   "cell_type": "code",
   "execution_count": 56,
   "id": "58895770",
   "metadata": {},
   "outputs": [
    {
     "name": "stdout",
     "output_type": "stream",
     "text": [
      "ist\n"
     ]
    }
   ],
   "source": [
    "print(sentence[-3::1])"
   ]
  },
  {
   "cell_type": "markdown",
   "id": "ebe1a090",
   "metadata": {},
   "source": [
    "**Task 6:**\n",
    "1. name = \"Innomatics Reserach Labs\"\n",
    "2. Apply slicing to extract a substring that includes the `second to fifth` characters.\n",
    "3. `Print` the extracted substring."
   ]
  },
  {
   "cell_type": "code",
   "execution_count": 59,
   "id": "bebef5aa",
   "metadata": {},
   "outputs": [
    {
     "data": {
      "text/plain": [
       "24"
      ]
     },
     "execution_count": 59,
     "metadata": {},
     "output_type": "execute_result"
    }
   ],
   "source": [
    "name= \"Innomatics Reserach Labs\"\n",
    "len(name)"
   ]
  },
  {
   "cell_type": "code",
   "execution_count": 61,
   "id": "5cdfee3e",
   "metadata": {},
   "outputs": [],
   "source": [
    "sub_string= name[2:6:1]"
   ]
  },
  {
   "cell_type": "code",
   "execution_count": 62,
   "id": "3c6e07f6",
   "metadata": {},
   "outputs": [
    {
     "name": "stdout",
     "output_type": "stream",
     "text": [
      "noma\n"
     ]
    }
   ],
   "source": [
    "print(sub_string)"
   ]
  },
  {
   "cell_type": "markdown",
   "id": "6b62700b",
   "metadata": {},
   "source": [
    "**Task 7:**\n",
    "1. string = \"Python@1234\"\n",
    "2. Use slicing to extract every second character from the string.\n",
    "3. Print the resulting sliced string."
   ]
  },
  {
   "cell_type": "code",
   "execution_count": 63,
   "id": "f35013e4",
   "metadata": {},
   "outputs": [
    {
     "data": {
      "text/plain": [
       "11"
      ]
     },
     "execution_count": 63,
     "metadata": {},
     "output_type": "execute_result"
    }
   ],
   "source": [
    "string = \"Python@1234\"\n",
    "len(string)"
   ]
  },
  {
   "cell_type": "code",
   "execution_count": 65,
   "id": "53640328",
   "metadata": {},
   "outputs": [],
   "source": [
    "second_string= string[1::2] "
   ]
  },
  {
   "cell_type": "code",
   "execution_count": 66,
   "id": "27f4b8d4",
   "metadata": {},
   "outputs": [
    {
     "name": "stdout",
     "output_type": "stream",
     "text": [
      "yhn13\n"
     ]
    }
   ],
   "source": [
    "print(second_string)"
   ]
  },
  {
   "cell_type": "markdown",
   "id": "e27da0b1",
   "metadata": {},
   "source": [
    "**Task 8:**\n",
    "1.  print last five letters."
   ]
  },
  {
   "cell_type": "code",
   "execution_count": 68,
   "id": "d6f828d6",
   "metadata": {},
   "outputs": [],
   "source": [
    "string=\"Python@1234\""
   ]
  },
  {
   "cell_type": "code",
   "execution_count": 79,
   "id": "d7edc19e",
   "metadata": {},
   "outputs": [
    {
     "data": {
      "text/plain": [
       "'@1234'"
      ]
     },
     "execution_count": 79,
     "metadata": {},
     "output_type": "execute_result"
    }
   ],
   "source": [
    "string[6::1]"
   ]
  },
  {
   "cell_type": "code",
   "execution_count": 81,
   "id": "1a931770",
   "metadata": {},
   "outputs": [
    {
     "data": {
      "text/plain": [
       "'@1234'"
      ]
     },
     "execution_count": 81,
     "metadata": {},
     "output_type": "execute_result"
    }
   ],
   "source": [
    "string[-5::1]"
   ]
  },
  {
   "cell_type": "markdown",
   "id": "fc3fe880",
   "metadata": {},
   "source": [
    "2. Utilize slicing to reverse the word order in the string."
   ]
  },
  {
   "cell_type": "code",
   "execution_count": 71,
   "id": "20687315",
   "metadata": {},
   "outputs": [],
   "source": [
    "Reversed_string= string[-1::-1]"
   ]
  },
  {
   "cell_type": "markdown",
   "id": "d2e685a7",
   "metadata": {},
   "source": [
    "3. Print the string with the words in the reversed order."
   ]
  },
  {
   "cell_type": "code",
   "execution_count": 72,
   "id": "45f424bb",
   "metadata": {},
   "outputs": [
    {
     "name": "stdout",
     "output_type": "stream",
     "text": [
      "4321@nohtyP\n"
     ]
    }
   ],
   "source": [
    "print(Reversed_string)"
   ]
  },
  {
   "cell_type": "markdown",
   "id": "8d0218c4",
   "metadata": {},
   "source": [
    "**Task 9:**\n",
    "1. a = \"123123123\"\n",
    "2. Apply slicing to extract only the numeric characters at odd positions.\n",
    "3. Print the sliced result."
   ]
  },
  {
   "cell_type": "code",
   "execution_count": 74,
   "id": "b8f3e5d3",
   "metadata": {},
   "outputs": [],
   "source": [
    "a = \"123123123\""
   ]
  },
  {
   "cell_type": "code",
   "execution_count": 76,
   "id": "b2bfa991",
   "metadata": {},
   "outputs": [],
   "source": [
    "Result= a[1::2]"
   ]
  },
  {
   "cell_type": "code",
   "execution_count": 77,
   "id": "c880d211",
   "metadata": {},
   "outputs": [
    {
     "name": "stdout",
     "output_type": "stream",
     "text": [
      "2132\n"
     ]
    }
   ],
   "source": [
    "print(Result)"
   ]
  }
 ],
 "metadata": {
  "kernelspec": {
   "display_name": "Python 3 (ipykernel)",
   "language": "python",
   "name": "python3"
  },
  "language_info": {
   "codemirror_mode": {
    "name": "ipython",
    "version": 3
   },
   "file_extension": ".py",
   "mimetype": "text/x-python",
   "name": "python",
   "nbconvert_exporter": "python",
   "pygments_lexer": "ipython3",
   "version": "3.11.4"
  }
 },
 "nbformat": 4,
 "nbformat_minor": 5
}
