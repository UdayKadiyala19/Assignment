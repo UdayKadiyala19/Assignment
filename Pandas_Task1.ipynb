{
 "cells": [
  {
   "cell_type": "markdown",
   "id": "56ef0008",
   "metadata": {},
   "source": [
    "### pandas Series\n",
    "1. Create pandas series with different data types in different ways\n",
    "2. Find the attributes of Series of [10,30,40,1,3,6,14,18,23] with index starts from 100\n",
    "3. create salaries of 30 employee salaries randomly from 30000-90000 then measure and describe the data using pandas series.\n",
    "4. What are the similaraties and differences between pandas series and nnumpy array.Prove it with code.\n",
    "5. create pandas series with ranges from 100 to 150 then apply indexing and slicing on it."
   ]
  },
  {
   "cell_type": "markdown",
   "id": "15bce7ae",
   "metadata": {},
   "source": [
    "**1. Create pandas series with different data types in different ways**"
   ]
  },
  {
   "cell_type": "code",
   "execution_count": 1,
   "id": "c89f6279",
   "metadata": {},
   "outputs": [],
   "source": [
    "import pandas as pd"
   ]
  },
  {
   "cell_type": "code",
   "execution_count": 2,
   "id": "16b6e44f",
   "metadata": {},
   "outputs": [
    {
     "data": {
      "text/plain": [
       "0    20\n",
       "1    21\n",
       "2    22\n",
       "3    23\n",
       "4    24\n",
       "5    25\n",
       "6    26\n",
       "7    27\n",
       "8    28\n",
       "9    29\n",
       "dtype: int64"
      ]
     },
     "execution_count": 2,
     "metadata": {},
     "output_type": "execute_result"
    }
   ],
   "source": [
    "#from list\n",
    "\n",
    "list1= list(range(20,30))\n",
    "pd.Series(list1)"
   ]
  },
  {
   "cell_type": "code",
   "execution_count": 3,
   "id": "0ed1cab8",
   "metadata": {},
   "outputs": [
    {
     "data": {
      "text/plain": [
       "0    10.0\n",
       "1    20.0\n",
       "2    30.0\n",
       "3    40.0\n",
       "4    50.0\n",
       "5    60.0\n",
       "dtype: float16"
      ]
     },
     "execution_count": 3,
     "metadata": {},
     "output_type": "execute_result"
    }
   ],
   "source": [
    "#from tuple\n",
    "\n",
    "tuple1 = (10,20,30,40,50,60)\n",
    "pd.Series(tuple1,dtype= \"float16\")"
   ]
  },
  {
   "cell_type": "code",
   "execution_count": 6,
   "id": "fcabe6d2",
   "metadata": {},
   "outputs": [
    {
     "data": {
      "text/plain": [
       "0     20\n",
       "1     40\n",
       "2     60\n",
       "3     80\n",
       "4    100\n",
       "5    120\n",
       "dtype: int8"
      ]
     },
     "execution_count": 6,
     "metadata": {},
     "output_type": "execute_result"
    }
   ],
   "source": [
    "#from array\n",
    "\n",
    "import numpy as np\n",
    "a = np.array([20,40,60,80,100,120])\n",
    "pd.Series(a,dtype=\"int8\")"
   ]
  },
  {
   "cell_type": "code",
   "execution_count": 8,
   "id": "0af06bb5",
   "metadata": {},
   "outputs": [
    {
     "data": {
      "text/plain": [
       "rose           red\n",
       "jasmine      white\n",
       "iris        purple\n",
       "Hybiscus       red\n",
       "dtype: object"
      ]
     },
     "execution_count": 8,
     "metadata": {},
     "output_type": "execute_result"
    }
   ],
   "source": [
    "#from dictionary\n",
    "\n",
    "flowers={\"rose\":\"red\",\"jasmine\":\"white\",\"iris\":\"purple\",\"Hybiscus\":\"red\"}\n",
    "pd.Series(flowers)"
   ]
  },
  {
   "cell_type": "markdown",
   "id": "763542ad",
   "metadata": {},
   "source": [
    "**2. Find the attributes of Series of [10,30,40,1,3,6,14,18,23] with index starts from 100**"
   ]
  },
  {
   "cell_type": "code",
   "execution_count": 40,
   "id": "d329cac7",
   "metadata": {},
   "outputs": [
    {
     "data": {
      "text/plain": [
       "100    10\n",
       "101    30\n",
       "102    40\n",
       "103     1\n",
       "104     3\n",
       "105     6\n",
       "106    14\n",
       "107    18\n",
       "108    23\n",
       "dtype: int64"
      ]
     },
     "execution_count": 40,
     "metadata": {},
     "output_type": "execute_result"
    }
   ],
   "source": [
    "num = pd.Series([10,30,40,1,3,6,14,18,23],index=list(range(100,109)))\n",
    "num"
   ]
  },
  {
   "cell_type": "code",
   "execution_count": 41,
   "id": "5017e263",
   "metadata": {},
   "outputs": [
    {
     "name": "stdout",
     "output_type": "stream",
     "text": [
      "<class 'pandas.core.series.Series'>\n",
      "Index: 9 entries, 100 to 108\n",
      "Series name: None\n",
      "Non-Null Count  Dtype\n",
      "--------------  -----\n",
      "9 non-null      int64\n",
      "dtypes: int64(1)\n",
      "memory usage: 144.0 bytes\n"
     ]
    }
   ],
   "source": [
    "num.info()"
   ]
  },
  {
   "cell_type": "code",
   "execution_count": 42,
   "id": "357b8d55",
   "metadata": {},
   "outputs": [
    {
     "data": {
      "text/plain": [
       "100    10\n",
       "101    30\n",
       "102    40\n",
       "103     1\n",
       "104     3\n",
       "dtype: int64"
      ]
     },
     "execution_count": 42,
     "metadata": {},
     "output_type": "execute_result"
    }
   ],
   "source": [
    "num.head()  #returns first five values"
   ]
  },
  {
   "cell_type": "code",
   "execution_count": 43,
   "id": "b308988f",
   "metadata": {},
   "outputs": [
    {
     "data": {
      "text/plain": [
       "104     3\n",
       "105     6\n",
       "106    14\n",
       "107    18\n",
       "108    23\n",
       "dtype: int64"
      ]
     },
     "execution_count": 43,
     "metadata": {},
     "output_type": "execute_result"
    }
   ],
   "source": [
    "num.tail()   #returns last five values"
   ]
  },
  {
   "cell_type": "code",
   "execution_count": 44,
   "id": "09fdbbc1",
   "metadata": {},
   "outputs": [
    {
     "data": {
      "text/plain": [
       "dtype('int64')"
      ]
     },
     "execution_count": 44,
     "metadata": {},
     "output_type": "execute_result"
    }
   ],
   "source": [
    "num.dtype"
   ]
  },
  {
   "cell_type": "code",
   "execution_count": 45,
   "id": "96a94f3a",
   "metadata": {},
   "outputs": [
    {
     "data": {
      "text/plain": [
       "count     9.000000\n",
       "mean     16.111111\n",
       "std      13.033078\n",
       "min       1.000000\n",
       "25%       6.000000\n",
       "50%      14.000000\n",
       "75%      23.000000\n",
       "max      40.000000\n",
       "dtype: float64"
      ]
     },
     "execution_count": 45,
     "metadata": {},
     "output_type": "execute_result"
    }
   ],
   "source": [
    "num.describe() #gives descriptive statastics values"
   ]
  },
  {
   "cell_type": "markdown",
   "id": "adba0531",
   "metadata": {},
   "source": [
    "**3. create salaries of 30 employee salaries randomly from 30000-90000 then measure and describe the data using pandas series.**"
   ]
  },
  {
   "cell_type": "code",
   "execution_count": 15,
   "id": "063d74ad",
   "metadata": {},
   "outputs": [
    {
     "data": {
      "text/plain": [
       "0     44591\n",
       "1     47517\n",
       "2     47008\n",
       "3     61535\n",
       "4     83492\n",
       "5     76129\n",
       "6     72598\n",
       "7     49943\n",
       "8     85530\n",
       "9     69372\n",
       "10    85549\n",
       "11    76957\n",
       "12    53218\n",
       "13    50015\n",
       "14    43174\n",
       "15    72693\n",
       "16    49571\n",
       "17    52706\n",
       "18    45064\n",
       "19    88136\n",
       "20    85140\n",
       "21    64381\n",
       "22    77719\n",
       "23    35689\n",
       "24    45340\n",
       "25    33522\n",
       "26    31188\n",
       "27    53581\n",
       "28    83832\n",
       "29    34626\n",
       "dtype: int32"
      ]
     },
     "execution_count": 15,
     "metadata": {},
     "output_type": "execute_result"
    }
   ],
   "source": [
    "salaries= np.random.randint(30000,90000,30)\n",
    "sal= pd.Series(salaries)\n",
    "sal"
   ]
  },
  {
   "cell_type": "markdown",
   "id": "7342856d",
   "metadata": {},
   "source": [
    "**statastical Measures**"
   ]
  },
  {
   "cell_type": "code",
   "execution_count": 29,
   "id": "e701812f",
   "metadata": {},
   "outputs": [
    {
     "data": {
      "text/plain": [
       "59993.86666666667"
      ]
     },
     "execution_count": 29,
     "metadata": {},
     "output_type": "execute_result"
    }
   ],
   "source": [
    "sal.mean()"
   ]
  },
  {
   "cell_type": "code",
   "execution_count": 30,
   "id": "7ae79873",
   "metadata": {},
   "outputs": [
    {
     "data": {
      "text/plain": [
       "53399.5"
      ]
     },
     "execution_count": 30,
     "metadata": {},
     "output_type": "execute_result"
    }
   ],
   "source": [
    "sal.median()"
   ]
  },
  {
   "cell_type": "code",
   "execution_count": 31,
   "id": "f84ad9e6",
   "metadata": {},
   "outputs": [
    {
     "data": {
      "text/plain": [
       "0     31188\n",
       "1     33522\n",
       "2     34626\n",
       "3     35689\n",
       "4     43174\n",
       "5     44591\n",
       "6     45064\n",
       "7     45340\n",
       "8     47008\n",
       "9     47517\n",
       "10    49571\n",
       "11    49943\n",
       "12    50015\n",
       "13    52706\n",
       "14    53218\n",
       "15    53581\n",
       "16    61535\n",
       "17    64381\n",
       "18    69372\n",
       "19    72598\n",
       "20    72693\n",
       "21    76129\n",
       "22    76957\n",
       "23    77719\n",
       "24    83492\n",
       "25    83832\n",
       "26    85140\n",
       "27    85530\n",
       "28    85549\n",
       "29    88136\n",
       "dtype: int32"
      ]
     },
     "execution_count": 31,
     "metadata": {},
     "output_type": "execute_result"
    }
   ],
   "source": [
    "sal.mode() #values are not repeated so it prints all the values"
   ]
  },
  {
   "cell_type": "code",
   "execution_count": 47,
   "id": "4f895fd2",
   "metadata": {},
   "outputs": [
    {
     "data": {
      "text/plain": [
       "56948"
      ]
     },
     "execution_count": 47,
     "metadata": {},
     "output_type": "execute_result"
    }
   ],
   "source": [
    "Range= sal.max()- sal.min()\n",
    "Range"
   ]
  },
  {
   "cell_type": "code",
   "execution_count": 20,
   "id": "dfc4ad89",
   "metadata": {},
   "outputs": [
    {
     "data": {
      "text/plain": [
       "332349472.3264368"
      ]
     },
     "execution_count": 20,
     "metadata": {},
     "output_type": "execute_result"
    }
   ],
   "source": [
    "sal.var()"
   ]
  },
  {
   "cell_type": "code",
   "execution_count": 24,
   "id": "0705ee4f",
   "metadata": {},
   "outputs": [
    {
     "data": {
      "text/plain": [
       "332349472.32643676"
      ]
     },
     "execution_count": 24,
     "metadata": {},
     "output_type": "execute_result"
    }
   ],
   "source": [
    "sal.cov(sal)"
   ]
  },
  {
   "cell_type": "code",
   "execution_count": 32,
   "id": "37c04ab4",
   "metadata": {},
   "outputs": [
    {
     "data": {
      "text/plain": [
       "18230.454528794307"
      ]
     },
     "execution_count": 32,
     "metadata": {},
     "output_type": "execute_result"
    }
   ],
   "source": [
    "sal.std()"
   ]
  },
  {
   "cell_type": "code",
   "execution_count": 33,
   "id": "892e6565",
   "metadata": {},
   "outputs": [
    {
     "data": {
      "text/plain": [
       "45757.0"
      ]
     },
     "execution_count": 33,
     "metadata": {},
     "output_type": "execute_result"
    }
   ],
   "source": [
    "sal.quantile(0.25)"
   ]
  },
  {
   "cell_type": "code",
   "execution_count": 28,
   "id": "44f4ccc1",
   "metadata": {},
   "outputs": [
    {
     "data": {
      "text/plain": [
       "count       30.000000\n",
       "mean     59993.866667\n",
       "std      18230.454529\n",
       "min      31188.000000\n",
       "25%      45757.000000\n",
       "50%      53399.500000\n",
       "75%      76750.000000\n",
       "max      88136.000000\n",
       "dtype: float64"
      ]
     },
     "execution_count": 28,
     "metadata": {},
     "output_type": "execute_result"
    }
   ],
   "source": [
    "sal.describe()"
   ]
  },
  {
   "cell_type": "markdown",
   "id": "dc21e491",
   "metadata": {},
   "source": [
    "**4. What are the similaraties and differences between pandas series and nnumpy array.Prove it with code.**"
   ]
  },
  {
   "cell_type": "markdown",
   "id": "ba477dd9",
   "metadata": {},
   "source": [
    "Numpy:\n",
    "\n",
    "* Numpy is open source library\n",
    "* it works with numerical data\n",
    "* it works with homogeneous data\n",
    "* NumPy is build on the top of oops,c++\n",
    "* data structure is : nd array\n",
    "* it is not index based\n",
    "\n",
    "Pandas:\n",
    "\n",
    "* Pandas is also open source library\n",
    "* it works on both numerical and text data\n",
    "* it works with heterogeneous data\n",
    "* Pandas is build on the top of Numpy so it has some features of NumPy\n",
    "* It only deals with 1-d array(series),2-d array(dataframe) and 3-d array(panel).\n",
    "* it is index based"
   ]
  },
  {
   "cell_type": "code",
   "execution_count": 56,
   "id": "586f7d5d",
   "metadata": {},
   "outputs": [
    {
     "data": {
      "text/plain": [
       "array([1, 2, 3, 4, 5])"
      ]
     },
     "execution_count": 56,
     "metadata": {},
     "output_type": "execute_result"
    }
   ],
   "source": [
    "a= np.array([1,2,3,4,5]) #it is not index based\n",
    "a"
   ]
  },
  {
   "cell_type": "code",
   "execution_count": 57,
   "id": "6eb83be3",
   "metadata": {},
   "outputs": [
    {
     "data": {
      "text/plain": [
       "0    1\n",
       "1    2\n",
       "2    3\n",
       "3    4\n",
       "4    5\n",
       "dtype: int32"
      ]
     },
     "execution_count": 57,
     "metadata": {},
     "output_type": "execute_result"
    }
   ],
   "source": [
    "pd.Series(a) #it is index based\n",
    "             #it supports numpy array"
   ]
  },
  {
   "cell_type": "markdown",
   "id": "9ee467a6",
   "metadata": {},
   "source": [
    "**5. create pandas series with ranges from 100 to 150 then apply indexing and slicing on it.**"
   ]
  },
  {
   "cell_type": "code",
   "execution_count": 53,
   "id": "d7933804",
   "metadata": {},
   "outputs": [
    {
     "data": {
      "text/plain": [
       "0     100\n",
       "1     101\n",
       "2     102\n",
       "3     103\n",
       "4     104\n",
       "5     105\n",
       "6     106\n",
       "7     107\n",
       "8     108\n",
       "9     109\n",
       "10    110\n",
       "11    111\n",
       "12    112\n",
       "13    113\n",
       "14    114\n",
       "15    115\n",
       "16    116\n",
       "17    117\n",
       "18    118\n",
       "19    119\n",
       "20    120\n",
       "21    121\n",
       "22    122\n",
       "23    123\n",
       "24    124\n",
       "25    125\n",
       "26    126\n",
       "27    127\n",
       "28    128\n",
       "29    129\n",
       "30    130\n",
       "31    131\n",
       "32    132\n",
       "33    133\n",
       "34    134\n",
       "35    135\n",
       "36    136\n",
       "37    137\n",
       "38    138\n",
       "39    139\n",
       "40    140\n",
       "41    141\n",
       "42    142\n",
       "43    143\n",
       "44    144\n",
       "45    145\n",
       "46    146\n",
       "47    147\n",
       "48    148\n",
       "49    149\n",
       "dtype: int64"
      ]
     },
     "execution_count": 53,
     "metadata": {},
     "output_type": "execute_result"
    }
   ],
   "source": [
    "series= pd.Series(list(range(100,150)))\n",
    "series"
   ]
  },
  {
   "cell_type": "code",
   "execution_count": 54,
   "id": "54502735",
   "metadata": {},
   "outputs": [
    {
     "data": {
      "text/plain": [
       "101"
      ]
     },
     "execution_count": 54,
     "metadata": {},
     "output_type": "execute_result"
    }
   ],
   "source": [
    "series[1]"
   ]
  },
  {
   "cell_type": "code",
   "execution_count": 55,
   "id": "31e14a3a",
   "metadata": {},
   "outputs": [
    {
     "data": {
      "text/plain": [
       "1    101\n",
       "3    103\n",
       "5    105\n",
       "7    107\n",
       "9    109\n",
       "dtype: int64"
      ]
     },
     "execution_count": 55,
     "metadata": {},
     "output_type": "execute_result"
    }
   ],
   "source": [
    "series[1:10:2]"
   ]
  },
  {
   "cell_type": "code",
   "execution_count": null,
   "id": "6bc30337",
   "metadata": {},
   "outputs": [],
   "source": []
  }
 ],
 "metadata": {
  "kernelspec": {
   "display_name": "Python 3 (ipykernel)",
   "language": "python",
   "name": "python3"
  },
  "language_info": {
   "codemirror_mode": {
    "name": "ipython",
    "version": 3
   },
   "file_extension": ".py",
   "mimetype": "text/x-python",
   "name": "python",
   "nbconvert_exporter": "python",
   "pygments_lexer": "ipython3",
   "version": "3.11.4"
  }
 },
 "nbformat": 4,
 "nbformat_minor": 5
}
