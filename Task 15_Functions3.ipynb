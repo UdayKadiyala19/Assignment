{
 "cells": [
  {
   "cell_type": "markdown",
   "id": "985dd64b",
   "metadata": {},
   "source": [
    "Task 1: **Leap Year Checker**\n",
    "\n",
    "Write a program that takes a year as input and determines whether it is a leap year or not. A leap year is a year that is divisible by 4, but not divisible by 100, unless it is also divisible by 400. Display an appropriate message indicating whether the year is a leap year or not.\n",
    "\n",
    "Task 2: **Grade Calculator**\n",
    "\n",
    "Write a program that takes a student's score as input (out of 100) and determines their grade based on the following conditions:\n",
    "If the score is 90 or above, the grade is 'A'.\n",
    "If the score is between 80 and 89, the grade is 'B'.\n",
    "If the score is between 70 and 79, the grade is 'C'.\n",
    "If the score is between 60 and 69, the grade is 'D'. If the score is below 60, the grade is 'F'.\n",
    "Display the grade corresponding to the entered score.\n",
    "\n",
    "Task 3: **Calculator**\n",
    "Write a program that takes two numbers as input and performs a mathematical operation (+, -, *, /) based on the user's choice. Use a conditional statement to determine the operation to be performed. Display the result of the calculation.\n",
    "\n",
    "Task 4: **Reverse String**\n",
    "Write a Python function to reverse a string.\n",
    "\n",
    "Task 5: **Palindrome**\n",
    "Write a Python function that checks whether a passed string is a palindrome or not.\n",
    "\n",
    "Task 6: **Counting**\n",
    "Write a Python function that accepts a string and counts the number of upper and lower case letters.\n",
    "\n"
   ]
  },
  {
   "cell_type": "markdown",
   "id": "1ee2fe70",
   "metadata": {},
   "source": [
    "Task 1: **Leap Year Checker**\n",
    "\n",
    "Write a program that takes a year as input and determines whether it is a leap year or not. A leap year is a year that is divisible by 4, but not divisible by 100, unless it is also divisible by 400. Display an appropriate message indicating whether the year is a leap year or not."
   ]
  },
  {
   "cell_type": "markdown",
   "id": "e771fcfb",
   "metadata": {},
   "source": [
    "**Normal Function**"
   ]
  },
  {
   "cell_type": "code",
   "execution_count": 7,
   "id": "90cc6850",
   "metadata": {},
   "outputs": [
    {
     "name": "stdout",
     "output_type": "stream",
     "text": [
      "year is not leap year\n"
     ]
    }
   ],
   "source": [
    "def leap(year):\n",
    "    if (year%4==0) and (year%100 != 0) or (year%400==0):\n",
    "        print(\"year is leap year\")\n",
    "    else:\n",
    "        print(\"year is not leap year\")\n",
    "leap(2022)"
   ]
  },
  {
   "cell_type": "markdown",
   "id": "2b2a85e9",
   "metadata": {},
   "source": [
    "**Lambda Function**"
   ]
  },
  {
   "cell_type": "code",
   "execution_count": 4,
   "id": "4b08e507",
   "metadata": {},
   "outputs": [],
   "source": [
    "a= lambda year:(year%4==0) and (year%100 != 0) or (year%400==0)"
   ]
  },
  {
   "cell_type": "code",
   "execution_count": 5,
   "id": "f73cc20d",
   "metadata": {},
   "outputs": [
    {
     "name": "stdout",
     "output_type": "stream",
     "text": [
      "Enter the year:: 2023\n",
      "year is not a leap year\n"
     ]
    }
   ],
   "source": [
    "year= int(input(\"Enter the year:: \"))\n",
    "a(year)\n",
    "if a(year)==True:\n",
    "    print(\"year is leap year\")\n",
    "else:\n",
    "     print(\"year is not a leap year\") "
   ]
  },
  {
   "cell_type": "markdown",
   "id": "d7bd8888",
   "metadata": {},
   "source": [
    "**Map Function**"
   ]
  },
  {
   "cell_type": "code",
   "execution_count": 6,
   "id": "f226c136",
   "metadata": {},
   "outputs": [],
   "source": [
    "list1= [2021,2022,2023,2024,2025]\n",
    "def fun(year):\n",
    "    if (year%4==0) and (year%100 != 0) or (year%400==0):\n",
    "        return \"Leap year\"\n",
    "    else:\n",
    "        return \"Not a leap year\"\n",
    "New_list= list(map(fun,list1))"
   ]
  },
  {
   "cell_type": "code",
   "execution_count": 8,
   "id": "a07cc0a9",
   "metadata": {},
   "outputs": [
    {
     "data": {
      "text/plain": [
       "['Not a leap year',\n",
       " 'Not a leap year',\n",
       " 'Not a leap year',\n",
       " 'Leap year',\n",
       " 'Not a leap year']"
      ]
     },
     "execution_count": 8,
     "metadata": {},
     "output_type": "execute_result"
    }
   ],
   "source": [
    "New_list"
   ]
  },
  {
   "cell_type": "markdown",
   "id": "858d0107",
   "metadata": {},
   "source": [
    "**Filter Function**"
   ]
  },
  {
   "cell_type": "code",
   "execution_count": 16,
   "id": "7a8059dd",
   "metadata": {},
   "outputs": [],
   "source": [
    "list1= [2021,2022,2023,2024,2025]\n",
    "\n",
    "def fun(year):\n",
    "    if (year%4==0) and (year%100 != 0) or (year%400==0):\n",
    "        return year\n",
    "    \n",
    "leap= list(filter(fun,list1))"
   ]
  },
  {
   "cell_type": "code",
   "execution_count": 17,
   "id": "b9f239cd",
   "metadata": {},
   "outputs": [
    {
     "data": {
      "text/plain": [
       "[2024]"
      ]
     },
     "execution_count": 17,
     "metadata": {},
     "output_type": "execute_result"
    }
   ],
   "source": [
    "leap"
   ]
  },
  {
   "cell_type": "markdown",
   "id": "3b94d311",
   "metadata": {},
   "source": [
    "Task 2: **Grade Calculator**\n",
    "\n",
    "Write a program that takes a student's score as input (out of 100) and determines their grade based on the following conditions:\n",
    "* If the score is 90 or above, the grade is 'A'.\n",
    "* If the score is between 80 and 89, the grade is 'B'.\n",
    "* If the score is between 70 and 79, the grade is 'C'.\n",
    "* If the score is between 60 and 69, the grade is 'D'. If the score is below 60, the grade is 'F'.\n",
    "* Display the grade corresponding to the entered score."
   ]
  },
  {
   "cell_type": "markdown",
   "id": "79d0c7bf",
   "metadata": {},
   "source": [
    "**Noraml Function**"
   ]
  },
  {
   "cell_type": "code",
   "execution_count": 26,
   "id": "77ce9276",
   "metadata": {},
   "outputs": [
    {
     "name": "stdout",
     "output_type": "stream",
     "text": [
      "B\n"
     ]
    }
   ],
   "source": [
    "def grade(score):\n",
    "    \n",
    "    if (score>= 90 and score<= 100):\n",
    "        print(\"A\")\n",
    "    elif (score>= 80 and score<= 89):\n",
    "        print(\"B\")\n",
    "    elif (score>= 70 and score<= 79):\n",
    "        print(\"C\")\n",
    "    elif (score>= 60 and score<= 69):\n",
    "        print(\"D\")\n",
    "    elif (score< 60 and score>= 0):\n",
    "        print(\"F\")\n",
    "    elif (score>100 or score<0):\n",
    "        print(\"Enter valid marks\")\n",
    "        \n",
    "grade(80)"
   ]
  },
  {
   "cell_type": "markdown",
   "id": "52ed44b3",
   "metadata": {},
   "source": [
    "**Map Function**"
   ]
  },
  {
   "cell_type": "code",
   "execution_count": 28,
   "id": "5dd4cf00",
   "metadata": {},
   "outputs": [
    {
     "name": "stdout",
     "output_type": "stream",
     "text": [
      "F\n",
      "F\n",
      "B\n",
      "A\n",
      "A\n",
      "C\n",
      "D\n"
     ]
    }
   ],
   "source": [
    "list1= (22,11,80,99,100,77,65)\n",
    "def grade(score):\n",
    "    if (score>= 90 and score<= 100):\n",
    "        print(\"A\")\n",
    "    elif (score>= 80 and score<= 89):\n",
    "        print(\"B\")\n",
    "    elif (score>= 70 and score<= 79):\n",
    "        print(\"C\")\n",
    "    elif (score>= 60 and score<= 69):\n",
    "        print(\"D\")\n",
    "    elif (score< 60 and score>= 0):\n",
    "        print(\"F\")\n",
    "    elif (score>100 or score<0):\n",
    "        print(\"Enter valid marks\")\n",
    "list2= list(map(grade,list1))"
   ]
  },
  {
   "cell_type": "markdown",
   "id": "4feffd13",
   "metadata": {},
   "source": [
    "Task 3: **Calculator**\n",
    "Write a program that takes two numbers as input and performs a mathematical operation (+, -, *, /) based on the user's choice. Use a conditional statement to determine the operation to be performed. Display the result of the calculation."
   ]
  },
  {
   "cell_type": "markdown",
   "id": "f77ac8a7",
   "metadata": {},
   "source": [
    "**Normal Function**"
   ]
  },
  {
   "cell_type": "code",
   "execution_count": 5,
   "id": "e8066467",
   "metadata": {},
   "outputs": [
    {
     "name": "stdout",
     "output_type": "stream",
     "text": [
      "Enter your choice:-\n",
      "Enter number:3\n",
      "Enter number:2\n"
     ]
    },
    {
     "data": {
      "text/plain": [
       "1"
      ]
     },
     "execution_count": 5,
     "metadata": {},
     "output_type": "execute_result"
    }
   ],
   "source": [
    "choice= input(\"Enter your choice:\")\n",
    "def func(x,y):\n",
    "    if choice == \"+\":\n",
    "        return x+y\n",
    "    elif choice == \"-\":\n",
    "        return x-y\n",
    "    elif choice == \"*\":\n",
    "        return x*y\n",
    "    elif choice == \"/\":\n",
    "        return x/y\n",
    "x= int(input(\"Enter number:\"))\n",
    "y= int(input(\"Enter number:\"))\n",
    "func(x,y)"
   ]
  },
  {
   "cell_type": "markdown",
   "id": "b469c0b9",
   "metadata": {},
   "source": [
    "\n",
    "Task 4: **Reverse String**\n",
    "Write a Python function to reverse a string."
   ]
  },
  {
   "cell_type": "markdown",
   "id": "d75e4b72",
   "metadata": {},
   "source": [
    "**Normal Function**"
   ]
  },
  {
   "cell_type": "code",
   "execution_count": 6,
   "id": "7344970a",
   "metadata": {},
   "outputs": [
    {
     "name": "stdout",
     "output_type": "stream",
     "text": [
      "Enter a string:Innomatics\n"
     ]
    },
    {
     "data": {
      "text/plain": [
       "'scitamonnI'"
      ]
     },
     "execution_count": 6,
     "metadata": {},
     "output_type": "execute_result"
    }
   ],
   "source": [
    "string= input(\"Enter a string:\")\n",
    "def reverse(string):\n",
    "    return string[::-1]\n",
    "reverse(string)"
   ]
  },
  {
   "cell_type": "markdown",
   "id": "0575c84f",
   "metadata": {},
   "source": [
    "**Lambda Function**"
   ]
  },
  {
   "cell_type": "code",
   "execution_count": 8,
   "id": "ed8f84e3",
   "metadata": {},
   "outputs": [
    {
     "data": {
      "text/plain": [
       "'dcba'"
      ]
     },
     "execution_count": 8,
     "metadata": {},
     "output_type": "execute_result"
    }
   ],
   "source": [
    "reverse= lambda string: string[::-1]\n",
    "reverse(\"abcd\")"
   ]
  },
  {
   "cell_type": "markdown",
   "id": "a778e651",
   "metadata": {},
   "source": [
    "**Map Function**"
   ]
  },
  {
   "cell_type": "code",
   "execution_count": 10,
   "id": "1d65f672",
   "metadata": {},
   "outputs": [
    {
     "data": {
      "text/plain": [
       "['yadU', 'hsihtas', 'ias']"
      ]
     },
     "execution_count": 10,
     "metadata": {},
     "output_type": "execute_result"
    }
   ],
   "source": [
    "list1= [\"Uday\",\"sathish\",\"sai\"]\n",
    "def reverse(n):\n",
    "    return n[::-1]\n",
    "list2= list(map(reverse,list1))\n",
    "list2"
   ]
  },
  {
   "cell_type": "markdown",
   "id": "4bc69485",
   "metadata": {},
   "source": [
    "\n",
    "Task 5: **Palindrome**\n",
    "Write a Python function that checks whether a passed string is a palindrome or not."
   ]
  },
  {
   "cell_type": "markdown",
   "id": "9a8983b7",
   "metadata": {},
   "source": [
    "**Normal Function**"
   ]
  },
  {
   "cell_type": "code",
   "execution_count": 19,
   "id": "a419c860",
   "metadata": {},
   "outputs": [
    {
     "name": "stdout",
     "output_type": "stream",
     "text": [
      "Enter the string:: amma\n"
     ]
    },
    {
     "data": {
      "text/plain": [
       "'string is palindrome'"
      ]
     },
     "execution_count": 19,
     "metadata": {},
     "output_type": "execute_result"
    }
   ],
   "source": [
    "string=input(\"Enter the string:: \")\n",
    "def palindrome(string):\n",
    "    if string==string[::-1]:\n",
    "        return \"string is palindrome\"\n",
    "    else:\n",
    "        return \"string is not a palindrome\"\n",
    "palindrome(string)"
   ]
  },
  {
   "cell_type": "markdown",
   "id": "b8f1e613",
   "metadata": {},
   "source": [
    "**Lambda Function**"
   ]
  },
  {
   "cell_type": "code",
   "execution_count": 26,
   "id": "1cb646c1",
   "metadata": {},
   "outputs": [
    {
     "name": "stdout",
     "output_type": "stream",
     "text": [
      "Enter a string:amma\n",
      "string is palindrome\n"
     ]
    }
   ],
   "source": [
    "palindrome= lambda string: string==string[::-1]\n",
    "\n",
    "string = input(\"Enter a string:\")\n",
    "\n",
    "if palindrome(string)==True:\n",
    "    print(\"string is palindrome\")\n",
    "else:\n",
    "    print(\"string is not a palindrome\")"
   ]
  },
  {
   "cell_type": "markdown",
   "id": "08895539",
   "metadata": {},
   "source": [
    "**Map Function**"
   ]
  },
  {
   "cell_type": "code",
   "execution_count": 3,
   "id": "6e0c840b",
   "metadata": {},
   "outputs": [
    {
     "data": {
      "text/plain": [
       "['not a palindrome', 'palindrome', 'not a palindrome', 'palindrome']"
      ]
     },
     "execution_count": 3,
     "metadata": {},
     "output_type": "execute_result"
    }
   ],
   "source": [
    "list1= [\"123\",\"12321\", \"amm\" ,\"mom\"]\n",
    "\n",
    "def palindrome(string):\n",
    "    \n",
    "    if string==string[::-1]:\n",
    "        return \"palindrome\"\n",
    "    else:\n",
    "        return \"not a palindrome\"\n",
    "    \n",
    "list2= list(map(palindrome,list1))\n",
    "list2"
   ]
  },
  {
   "cell_type": "markdown",
   "id": "4c3bb2bb",
   "metadata": {},
   "source": [
    "**Filter Function**"
   ]
  },
  {
   "cell_type": "code",
   "execution_count": 5,
   "id": "9b1b206f",
   "metadata": {},
   "outputs": [],
   "source": [
    "list1= [\"123\",\"12321\", \"amm\" ,\"mom\"]\n",
    "\n",
    "def function(string):\n",
    "    \n",
    "    if string==string[::-1]:\n",
    "        return \"palindrome\"\n",
    "palindrome= list(filter(function,list1))"
   ]
  },
  {
   "cell_type": "code",
   "execution_count": 6,
   "id": "c6424f5f",
   "metadata": {},
   "outputs": [
    {
     "data": {
      "text/plain": [
       "['12321', 'mom']"
      ]
     },
     "execution_count": 6,
     "metadata": {},
     "output_type": "execute_result"
    }
   ],
   "source": [
    "palindrome"
   ]
  },
  {
   "cell_type": "markdown",
   "id": "603de14e",
   "metadata": {},
   "source": [
    "\n",
    "Task 6: **Counting**\n",
    "Write a Python function that accepts a string and counts the number of upper and lower case letters."
   ]
  },
  {
   "cell_type": "code",
   "execution_count": 16,
   "id": "48bcb25d",
   "metadata": {},
   "outputs": [
    {
     "name": "stdout",
     "output_type": "stream",
     "text": [
      "Enter a string:: UdayK\n",
      "['U', 'K']\n",
      "['d', 'a', 'y']\n",
      "Number of upper case letters are::  2\n",
      "Number of lower case letters are::  3\n"
     ]
    }
   ],
   "source": [
    "string= input(\"Enter a string:: \")\n",
    "Upper=[]\n",
    "Lower=[]\n",
    "\n",
    "def count(string):\n",
    "    upper= ['A','B','C','D','E','F','G','H','I','J','K','L','M','N','O','P','Q','R','S','T','U','V','W','X','Y','Z']\n",
    "    lower= ['a','b','c','d','e','f','g','h','i','j','k','l','m','n','o','p','q','r','s','t','u','v','w','x','y','z']\n",
    "    \n",
    "    for i in string:\n",
    "        if i in upper:\n",
    "            Upper.append(i)\n",
    "        elif i in lower:\n",
    "            Lower.append(i)\n",
    "            \n",
    "    print(Upper)\n",
    "    print(Lower)\n",
    "    print(\"Number of upper case letters are:: \",len(Upper))\n",
    "    print(\"Number of lower case letters are:: \",len(Lower))\n",
    "count(string)\n",
    "            "
   ]
  }
 ],
 "metadata": {
  "kernelspec": {
   "display_name": "Python 3 (ipykernel)",
   "language": "python",
   "name": "python3"
  },
  "language_info": {
   "codemirror_mode": {
    "name": "ipython",
    "version": 3
   },
   "file_extension": ".py",
   "mimetype": "text/x-python",
   "name": "python",
   "nbconvert_exporter": "python",
   "pygments_lexer": "ipython3",
   "version": "3.11.4"
  }
 },
 "nbformat": 4,
 "nbformat_minor": 5
}
