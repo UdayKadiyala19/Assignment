{
 "cells": [
  {
   "cell_type": "markdown",
   "id": "c41da540",
   "metadata": {},
   "source": [
    "**Task 1:**\n",
    "\n",
    "1. Load the file 'about_python.txt'into your jupyter notebook. a. Correct wrong statements about python fatures b. How many charactaers present in the data c. How many times 'Python' word is repeated. d. after correcting all ..print complete valid features of the python.\n"
   ]
  },
  {
   "cell_type": "code",
   "execution_count": 74,
   "id": "70adbea9",
   "metadata": {},
   "outputs": [],
   "source": [
    "Python_File= open(\"about_python.txt\",\"r\")\n",
    "Features= Python_File.read()"
   ]
  },
  {
   "cell_type": "code",
   "execution_count": 75,
   "id": "8641be6b",
   "metadata": {},
   "outputs": [],
   "source": [
    "change1=Features.replace(\"compiled\",\"interpreted\")\n",
    "\n",
    "change2= change1.replace(\"paid\",\"free and open-source\")\n",
    "\n",
    "change3= change2.replace(\"statically\",\"dynamically\")\n",
    "\n",
    "change4= change3.replace(\"only supports\",\"supports single and\")\n",
    "\n",
    "change5= change4.replace(\"can only be used for web development.\",\"can be used for web development,machine learning and data science,etc.\")\n",
    "\n",
    "changes= change5.replace(\"Elon Musk\",\"Guido van Rossum\")"
   ]
  },
  {
   "cell_type": "code",
   "execution_count": 76,
   "id": "c012a942",
   "metadata": {},
   "outputs": [
    {
     "name": "stdout",
     "output_type": "stream",
     "text": [
      "Python supports object-oriented programming (OOP) concepts.\n",
      "Python is a interpreted language.\n",
      "Python has a rich ecosystem of third-party libraries.\n",
      "Python is a free and open-source programming language\n",
      "Python uses indentation for code block structuring.\n",
      "Python is dynamically Typed Language\n",
      "Python supports single and double quotes for string literals.\n",
      "Python can be used for web development,machine learning and data science,etc.\n",
      "Python was created by Guido van Rossum.\n"
     ]
    }
   ],
   "source": [
    "print(changes)"
   ]
  },
  {
   "cell_type": "markdown",
   "id": "07cbbed1",
   "metadata": {},
   "source": [
    "**b. How many charactaers present in the data**"
   ]
  },
  {
   "cell_type": "code",
   "execution_count": 44,
   "id": "1eb25a07",
   "metadata": {},
   "outputs": [
    {
     "data": {
      "text/plain": [
       "412"
      ]
     },
     "execution_count": 44,
     "metadata": {},
     "output_type": "execute_result"
    }
   ],
   "source": [
    "File.tell()"
   ]
  },
  {
   "cell_type": "markdown",
   "id": "2bdcb777",
   "metadata": {},
   "source": [
    "**c. How many times 'Python' word is repeated.**"
   ]
  },
  {
   "cell_type": "code",
   "execution_count": 45,
   "id": "599c5f94",
   "metadata": {},
   "outputs": [
    {
     "data": {
      "text/plain": [
       "9"
      ]
     },
     "execution_count": 45,
     "metadata": {},
     "output_type": "execute_result"
    }
   ],
   "source": [
    "Features.count(\"Python\")"
   ]
  },
  {
   "cell_type": "markdown",
   "id": "179b3792",
   "metadata": {},
   "source": [
    "**Task2:**\n",
    "\n",
    "2. Create a file 'File.txt'which expalains python handling whatever you have learnt today(creating,reading,wring and appending...etc) in detail.That reaload the saved file(i.e File.txt) to jupyter notebook."
   ]
  },
  {
   "cell_type": "markdown",
   "id": "9b16af18",
   "metadata": {},
   "source": [
    "**Creating a File**"
   ]
  },
  {
   "cell_type": "code",
   "execution_count": 124,
   "id": "c7d3a1d5",
   "metadata": {},
   "outputs": [],
   "source": [
    "File= open(\"Myfile1.txt\",\"x\")   #creates a new file"
   ]
  },
  {
   "cell_type": "code",
   "execution_count": 125,
   "id": "f505bfc7",
   "metadata": {},
   "outputs": [
    {
     "data": {
      "text/plain": [
       "17"
      ]
     },
     "execution_count": 125,
     "metadata": {},
     "output_type": "execute_result"
    }
   ],
   "source": [
    "File.write(\"Hello How are you\")"
   ]
  },
  {
   "cell_type": "code",
   "execution_count": 126,
   "id": "6d5f3c98",
   "metadata": {},
   "outputs": [],
   "source": [
    "File.close()  "
   ]
  },
  {
   "cell_type": "markdown",
   "id": "0bee1476",
   "metadata": {},
   "source": [
    "**Reading a File**"
   ]
  },
  {
   "cell_type": "markdown",
   "id": "0085e240",
   "metadata": {},
   "source": [
    "*read()*"
   ]
  },
  {
   "cell_type": "code",
   "execution_count": 137,
   "id": "2e883c63",
   "metadata": {},
   "outputs": [],
   "source": [
    "File= open(\"Myfile.txt\",\"r\")"
   ]
  },
  {
   "cell_type": "code",
   "execution_count": 138,
   "id": "f02cfe79",
   "metadata": {},
   "outputs": [
    {
     "name": "stdout",
     "output_type": "stream",
     "text": [
      "Hai\n",
      "Hello\n",
      "What is your name?\n"
     ]
    }
   ],
   "source": [
    "print(File.read())"
   ]
  },
  {
   "cell_type": "markdown",
   "id": "fc647d8d",
   "metadata": {},
   "source": [
    "*readline()*"
   ]
  },
  {
   "cell_type": "code",
   "execution_count": 143,
   "id": "3bc57355",
   "metadata": {},
   "outputs": [],
   "source": [
    "File= open(\"Myfile.txt\")"
   ]
  },
  {
   "cell_type": "code",
   "execution_count": 145,
   "id": "c59c0a57",
   "metadata": {},
   "outputs": [
    {
     "name": "stdout",
     "output_type": "stream",
     "text": [
      "Hello\n",
      "\n"
     ]
    }
   ],
   "source": [
    "print(File.readline())  #readline() prints line by line"
   ]
  },
  {
   "cell_type": "markdown",
   "id": "89336fd2",
   "metadata": {},
   "source": [
    "*readlines()*"
   ]
  },
  {
   "cell_type": "code",
   "execution_count": 146,
   "id": "acab512b",
   "metadata": {},
   "outputs": [],
   "source": [
    "File= open(\"Myfile.txt\")"
   ]
  },
  {
   "cell_type": "code",
   "execution_count": 147,
   "id": "65c14954",
   "metadata": {},
   "outputs": [
    {
     "name": "stdout",
     "output_type": "stream",
     "text": [
      "['Hai\\n', 'Hello\\n', 'What is your name?']\n"
     ]
    }
   ],
   "source": [
    "print(File.readlines())   #readlines() prints strings in list"
   ]
  },
  {
   "cell_type": "markdown",
   "id": "08b3ae2d",
   "metadata": {},
   "source": [
    "*To find number of characters in file*"
   ]
  },
  {
   "cell_type": "code",
   "execution_count": 149,
   "id": "8b0414fa",
   "metadata": {},
   "outputs": [
    {
     "data": {
      "text/plain": [
       "28"
      ]
     },
     "execution_count": 149,
     "metadata": {},
     "output_type": "execute_result"
    }
   ],
   "source": [
    "File.tell()"
   ]
  },
  {
   "cell_type": "markdown",
   "id": "5426f830",
   "metadata": {},
   "source": [
    "**writing in file**"
   ]
  },
  {
   "cell_type": "markdown",
   "id": "eff693e5",
   "metadata": {},
   "source": [
    "*write()*"
   ]
  },
  {
   "cell_type": "code",
   "execution_count": 91,
   "id": "03c9fc9f",
   "metadata": {},
   "outputs": [],
   "source": [
    "File= open(\"Myfile.txt\",\"w\")    #the write function overwrites the existed text in the file.\n",
    "                                #If the file is not created then it will create the file and it will perfom the task"
   ]
  },
  {
   "cell_type": "code",
   "execution_count": 92,
   "id": "95845e84",
   "metadata": {},
   "outputs": [
    {
     "data": {
      "text/plain": [
       "12"
      ]
     },
     "execution_count": 92,
     "metadata": {},
     "output_type": "execute_result"
    }
   ],
   "source": [
    "File.write(\"Good Morning\")"
   ]
  },
  {
   "cell_type": "code",
   "execution_count": 93,
   "id": "1c838094",
   "metadata": {},
   "outputs": [],
   "source": [
    "File.close()"
   ]
  },
  {
   "cell_type": "markdown",
   "id": "186841e3",
   "metadata": {},
   "source": [
    "*writelines()*"
   ]
  },
  {
   "cell_type": "code",
   "execution_count": 120,
   "id": "b6359dac",
   "metadata": {},
   "outputs": [],
   "source": [
    "File= open(\"Myfile.txt\",\"w\")\n",
    "File.writelines([\"Hai\\n\",\"Hello\\n\",\"What is your name?\\n\"])   #It will print text line by line"
   ]
  },
  {
   "cell_type": "code",
   "execution_count": 121,
   "id": "796cc5f9",
   "metadata": {},
   "outputs": [],
   "source": [
    "File.close()"
   ]
  },
  {
   "cell_type": "markdown",
   "id": "967690c7",
   "metadata": {},
   "source": [
    "**Appending in File**"
   ]
  },
  {
   "cell_type": "code",
   "execution_count": 160,
   "id": "f6d4c1b2",
   "metadata": {},
   "outputs": [],
   "source": [
    "File=open(\"Myfile.txt\",\"a\")"
   ]
  },
  {
   "cell_type": "code",
   "execution_count": 161,
   "id": "e4a31cca",
   "metadata": {},
   "outputs": [
    {
     "data": {
      "text/plain": [
       "12"
      ]
     },
     "execution_count": 161,
     "metadata": {},
     "output_type": "execute_result"
    }
   ],
   "source": [
    "File.write(\"How are you?\")   #appending does not overwrites the text.It joins the new text to the existing text in the file"
   ]
  },
  {
   "cell_type": "code",
   "execution_count": 162,
   "id": "31523615",
   "metadata": {},
   "outputs": [],
   "source": [
    "File.close()"
   ]
  },
  {
   "cell_type": "code",
   "execution_count": null,
   "id": "7e37684a",
   "metadata": {},
   "outputs": [],
   "source": []
  }
 ],
 "metadata": {
  "kernelspec": {
   "display_name": "Python 3 (ipykernel)",
   "language": "python",
   "name": "python3"
  },
  "language_info": {
   "codemirror_mode": {
    "name": "ipython",
    "version": 3
   },
   "file_extension": ".py",
   "mimetype": "text/x-python",
   "name": "python",
   "nbconvert_exporter": "python",
   "pygments_lexer": "ipython3",
   "version": "3.11.4"
  }
 },
 "nbformat": 4,
 "nbformat_minor": 5
}
