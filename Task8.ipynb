{
 "cells": [
  {
   "cell_type": "markdown",
   "id": "21c2b7b2",
   "metadata": {},
   "source": [
    "\n",
    "**Task 1: Basic If-Else Statements**\n",
    "Write a Python program that takes an `integer as input` from the user and prints whether it is `multiple of 3 or not` using if-else statements.\n",
    "\n",
    "**Task 2: Nested If Statements**\n",
    "Create a program that `asks the user` for their `age` and `nationality`. Depending on their age and nationality, display a different message using nested if statements. For example, if they are under 18 and from the USA, display `\"You are a minor from the USA.\"`\n",
    "\n",
    "**Task 3: Grade Calculator**\n",
    "Write a program that takes a student's score as input and converts it to a letter grade (A, B, C, D, or F) using if-elif-else statements. Use the following grading scale:\n",
    "- A: 90-100\n",
    "- B: 80-89\n",
    "- C: 70-79\n",
    "- D: 60-69\n",
    "- F: Below 60\n",
    "\n",
    "**Task 4: Leap Year Checker**\n",
    "Create a Python program that checks if a given year is a leap year or not. Use conditional statements to determine whether the year is divisible by 4, 100, and 400 to decide if it's a leap year.\n",
    "\n",
    "**Task 5: BMI Calculator**\n",
    "Write a program that calculates a person's Body Mass Index (BMI) based on their height and weight. Then, use conditional statements to categorize the BMI as Underweight, Normal, Overweight, or Obese. Provide guidance on the healthy range for BMI.(use BMI Formula)\n",
    "\n",
    "**Task 6: Calculator with Menu**\n",
    "Build a simple calculator program that provides a menu with options for addition, subtraction, multiplication, and division. `Take user input for two numbers`and an `operation choice`. Use conditional statements to perform the selected operation and display the result.\n",
    "\n",
    "**Task 7: Temperature Converter**\n",
    "Write a program that `converts temperatures between Celsius and Fahrenhei`t. Allow the user to `choose` the conversion direction and input the temperature value. Use conditional statements to perform the conversion based on the `user's choice`.(Do with conversion formula)\n"
   ]
  },
  {
   "cell_type": "markdown",
   "id": "c1d03f37",
   "metadata": {},
   "source": [
    "**Task 1: Basic If-Else Statements**\n",
    "Write a Python program that takes an `integer as input` from the user and prints whether it is `multiple of 3 or not` using if-else statements."
   ]
  },
  {
   "cell_type": "code",
   "execution_count": 3,
   "id": "cbd45f40",
   "metadata": {},
   "outputs": [
    {
     "name": "stdout",
     "output_type": "stream",
     "text": [
      "Enter the number:2\n",
      "The number is not multiple of 3\n"
     ]
    }
   ],
   "source": [
    "num= int(input(\"Enter the number:\"))\n",
    "if (num%3 == 0):\n",
    "    print(\"The number is multiple of 3\")\n",
    "else:\n",
    "    print(\"The number is not multiple of 3\")"
   ]
  },
  {
   "cell_type": "markdown",
   "id": "539c482d",
   "metadata": {},
   "source": [
    "**Task 2: Nested If Statements**\n",
    "Create a program that `asks the user` for their `age` and `nationality`. Depending on their age and nationality, display a different message using nested if statements. For example, if they are under 18 and from the USA, display `\"You are a minor from the USA.\"`"
   ]
  },
  {
   "cell_type": "code",
   "execution_count": 19,
   "id": "17fb26f0",
   "metadata": {},
   "outputs": [
    {
     "name": "stdout",
     "output_type": "stream",
     "text": [
      "Enter the age:17\n",
      "Enter your nationality:india\n",
      "You are a minor from the india.\n"
     ]
    }
   ],
   "source": [
    "age= int(input(\"Enter the age:\"))\n",
    "nationality= input(\"Enter your nationality:\")\n",
    "if age<18:\n",
    "    if nationality == \"USA\":\n",
    "        print(f\"You are a minor from {nationality}.\")\n",
    "        \n",
    "    print(f\"You are a minor from  {nationality}.\")\n",
    "else:\n",
    "    print(f\"you are major from {nationality}\")"
   ]
  },
  {
   "cell_type": "markdown",
   "id": "15b93982",
   "metadata": {},
   "source": [
    "**Task 3: Grade Calculator**\n",
    "Write a program that takes a student's score as input and converts it to a letter grade (A, B, C, D, or F) using if-elif-else statements. Use the following grading scale:\n",
    "- A: 90-100\n",
    "- B: 80-89\n",
    "- C: 70-79\n",
    "- D: 60-69\n",
    "- F: Below 60"
   ]
  },
  {
   "cell_type": "code",
   "execution_count": 11,
   "id": "7bca327c",
   "metadata": {},
   "outputs": [
    {
     "name": "stdout",
     "output_type": "stream",
     "text": [
      "Enter your score:0\n",
      "F grade\n"
     ]
    }
   ],
   "source": [
    "score= int(input(\"Enter your score:\"))\n",
    "if (score>=90) and (score<=100):\n",
    "    print(\"A grade\")\n",
    "elif (score>=80) and (score<=89):\n",
    "     print(\"B grade\")\n",
    "elif (score>=70) and (score<=79):\n",
    "     print(\"C grade\")\n",
    "elif (score>=60) and (score<=69):\n",
    "     print(\"D grade\")\n",
    "elif (score<0) or (score>100):\n",
    "    print(\"Enter valid score\")\n",
    "else:\n",
    "    print(\"F grade\")"
   ]
  },
  {
   "cell_type": "markdown",
   "id": "a1e969b2",
   "metadata": {},
   "source": [
    "**Task 4: Leap Year Checker**\n",
    "Create a Python program that checks if a given year is a leap year or not. Use conditional statements to determine whether the year is divisible by 4, 100, and 400 to decide if it's a leap year."
   ]
  },
  {
   "cell_type": "code",
   "execution_count": 13,
   "id": "7b493fe0",
   "metadata": {},
   "outputs": [
    {
     "name": "stdout",
     "output_type": "stream",
     "text": [
      "Enter the year:2000\n",
      "2000 is leap year\n"
     ]
    }
   ],
   "source": [
    "year= int(input(\"Enter the year:\"))\n",
    "if (year%4==0) and (year%100 !=0) or (year%400==0):\n",
    "    print(f\"{year} is leap year\")\n",
    "else:\n",
    "    print(\"not leap year\")"
   ]
  },
  {
   "cell_type": "markdown",
   "id": "6199d340",
   "metadata": {},
   "source": [
    "\n",
    "**Task 5: BMI Calculator**\n",
    "Write a program that calculates a person's Body Mass Index (BMI) based on their height and weight. Then, use conditional statements to categorize the BMI as Underweight, Normal, Overweight, or Obese. Provide guidance on the healthy range for BMI.(use BMI Formula)\n"
   ]
  },
  {
   "cell_type": "code",
   "execution_count": 5,
   "id": "a86deb59",
   "metadata": {},
   "outputs": [
    {
     "name": "stdout",
     "output_type": "stream",
     "text": [
      "Enter your weight:20\n",
      "Enter your height:5.11\n",
      "BMI is 8.244385106299163\n",
      "underweight\n"
     ]
    }
   ],
   "source": [
    "weight_in_kgs = float(input(\"Enter your weight:\"))\n",
    "height_in_feets = float(input(\"Enter your height:\"))\n",
    "\n",
    "height= (height_in_feets*0.3048)       #converting feets into meters\n",
    "BMI= (weight_in_kgs/height**2)         #formula= weight(kgs)/(height(m))**2\n",
    "\n",
    "print(\"BMI is\",BMI)\n",
    "\n",
    "if (BMI<=18.5) and (BMI>0):\n",
    "    print(\"underweight\")\n",
    "    \n",
    "elif (BMI>18.5) and (BMI<=24.9):\n",
    "    print(\"Normal\")\n",
    "    \n",
    "elif (BMI>24.9) and (BMI<=29.9):\n",
    "    print(\"Overweight\")\n",
    "    \n",
    "elif (BMI<0):\n",
    "    print(\"provide valid weight and height\")\n",
    "    \n",
    "else:\n",
    "    print(\"obesity\")"
   ]
  },
  {
   "cell_type": "markdown",
   "id": "0cf044c5",
   "metadata": {},
   "source": [
    "**Task 6: Calculator with Menu**\n",
    "Build a simple calculator program that provides a menu with options for addition, subtraction, multiplication, and division. `Take user input for two numbers`and an `operation choice`. Use conditional statements to perform the selected operation and display the result."
   ]
  },
  {
   "cell_type": "code",
   "execution_count": 19,
   "id": "edabf6cc",
   "metadata": {},
   "outputs": [
    {
     "name": "stdout",
     "output_type": "stream",
     "text": [
      "Enter the number1:6\n",
      "Enter the number2:70\n",
      "Enter your choice:subtraction\n",
      "subtraction of two numbers is: -64\n"
     ]
    }
   ],
   "source": [
    "num1= int(input(\"Enter the number1:\"))\n",
    "num2= int(input(\"Enter the number2:\"))\n",
    "choice= input(\"Enter your choice:\")\n",
    "if choice== 'addition':\n",
    "    A= num1+num2\n",
    "    print(\"Addition of two numbers is:\",A)\n",
    "    \n",
    "elif choice== 'subtraction':\n",
    "    B = num1-num2\n",
    "    print(\"subtraction of two numbers is:\",B)\n",
    "    \n",
    "elif choice== 'multiplication':\n",
    "    C = num1*num2\n",
    "    print(\"multiplication of two numbers is:\",C)\n",
    "    \n",
    "elif choice== 'division':\n",
    "    D = num1/num2\n",
    "    print(\"division of two numbers is:\",D)\n",
    "else:\n",
    "    print(\"Enter valid choice\")"
   ]
  },
  {
   "cell_type": "markdown",
   "id": "5e86df12",
   "metadata": {},
   "source": [
    "**Task 7: Temperature Converter**\n",
    "Write a program that `converts temperatures between Celsius and Fahrenhei`t. Allow the user to `choose` the conversion direction and input the temperature value. Use conditional statements to perform the conversion based on the `user's choice`.(Do with conversion formula)"
   ]
  },
  {
   "cell_type": "code",
   "execution_count": 6,
   "id": "677b8a9e",
   "metadata": {},
   "outputs": [],
   "source": [
    "conversion farmulas\n",
    "#celsius-->farenhiet  = (9/5*temp)+32\n",
    "# farenhiet--> celsius =(temp-32)*5/9"
   ]
  },
  {
   "cell_type": "code",
   "execution_count": 17,
   "id": "c242dac7",
   "metadata": {},
   "outputs": [
    {
     "name": "stdout",
     "output_type": "stream",
     "text": [
      "Enter the temperature:30\n",
      "Enter your choice:celsius\n",
      "The temperature in celsius is: -1.1111111111111112\n"
     ]
    }
   ],
   "source": [
    "temp= int(input(\"Enter the temperature:\"))\n",
    "choice= input(\"Enter your choice:\")\n",
    "\n",
    "if choice == \"Farenheit\":\n",
    "    Farenheit = (9/5 *temp)+32\n",
    "    print(\"The temperature in farenheit is:\",Farenheit)\n",
    "    \n",
    "elif choice == \"celsius\":\n",
    "    celsius= (temp -32)*5/9\n",
    "    print(\"The temperature in celsius is:\",celsius)\n",
    "    \n",
    "else:\n",
    "    print(\"Enter valid choice\")"
   ]
  }
 ],
 "metadata": {
  "kernelspec": {
   "display_name": "Python 3 (ipykernel)",
   "language": "python",
   "name": "python3"
  },
  "language_info": {
   "codemirror_mode": {
    "name": "ipython",
    "version": 3
   },
   "file_extension": ".py",
   "mimetype": "text/x-python",
   "name": "python",
   "nbconvert_exporter": "python",
   "pygments_lexer": "ipython3",
   "version": "3.11.4"
  }
 },
 "nbformat": 4,
 "nbformat_minor": 5
}
