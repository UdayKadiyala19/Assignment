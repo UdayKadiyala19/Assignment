{
 "cells": [
  {
   "cell_type": "markdown",
   "id": "bafac592",
   "metadata": {},
   "source": [
    "Create a Python script that simulates a simple login system. The script should prompt the user to enter their username and password. If the entered username and password match the predefined credentials, the script should log a successful login event to a log file. If the credentials do not match, it should log a failed login attempt to the log file. Example Output Assuming the predefined credentials are username: \"user123\" and password: \"pass123\", here's an example output of the script:"
   ]
  },
  {
   "cell_type": "markdown",
   "id": "bd048804",
   "metadata": {},
   "source": [
    "**LOGIN**"
   ]
  },
  {
   "cell_type": "code",
   "execution_count": 20,
   "id": "c7bed9f8",
   "metadata": {},
   "outputs": [],
   "source": [
    "import time"
   ]
  },
  {
   "cell_type": "code",
   "execution_count": 11,
   "id": "b3131113",
   "metadata": {},
   "outputs": [
    {
     "name": "stdout",
     "output_type": "stream",
     "text": [
      "Please enter your Username:user123\n",
      "Please enter your password:pass123\n"
     ]
    }
   ],
   "source": [
    "username= input(\"Please enter your Username:\")\n",
    "password= input(\"Please enter your password:\")"
   ]
  },
  {
   "cell_type": "code",
   "execution_count": 25,
   "id": "3e5c58fa",
   "metadata": {},
   "outputs": [
    {
     "name": "stdout",
     "output_type": "stream",
     "text": [
      "Please enter your Username:user123\n",
      "Please enter your password:pass123\n",
      "Login successful for user123 (09/29/2023, 16:13:48)\n"
     ]
    }
   ],
   "source": [
    "Username= input(\"Please enter your Username:\")\n",
    "Password= input(\"Please enter your password:\")\n",
    "\n",
    "T= time.strftime(\"%m/%d/%Y, %H:%M:%S\")\n",
    "\n",
    "def Login(Username,Password):\n",
    "    \n",
    "    if (username == Username) and (password==Password):\n",
    "        print(f\"Login successful for {username} ({T})\")\n",
    "    else:\n",
    "        print(f\"Login failed for {Username} ({T})\")\n",
    "        \n",
    "Login(Username,Password)"
   ]
  },
  {
   "cell_type": "markdown",
   "id": "eb624c03",
   "metadata": {},
   "source": [
    "**Create any 5 of following modules**\n",
    "\n",
    "a. Restaurant\n",
    "\n",
    "b. IPL\n",
    "\n",
    "c. Mathematics\n",
    "\n",
    "d. Data Science\n",
    "\n",
    "e. India\n",
    "\n",
    "f. Shopping mall\n",
    "\n",
    "g. Amazon_price\n",
    "\n",
    "Do some research while creating them"
   ]
  },
  {
   "cell_type": "markdown",
   "id": "daa34790",
   "metadata": {},
   "source": [
    "**Restaurent**"
   ]
  },
  {
   "cell_type": "code",
   "execution_count": 45,
   "id": "129416f8",
   "metadata": {},
   "outputs": [],
   "source": [
    "import restaurent as rt"
   ]
  },
  {
   "cell_type": "code",
   "execution_count": null,
   "id": "dfd5459c",
   "metadata": {},
   "outputs": [],
   "source": [
    "def menu():\n",
    "    print(\"Biryanis\\nMandi\\nStarters\\nVeg Starters\\nVeg Currys\\nMutton Currys\\nchineese\\nThickshakes\\nJuices\\nIcecreams\\ndesserts\")\n",
    "\n",
    "def Recommended():\n",
    "    print(\"Chicken Biryani\\nMutton Biryani\\nVeg Biryani\\nEgg biryani\\nchineese\\ndesserts\")\n",
    "\n",
    "def prices():\n",
    "    print(\"Chicken Biryani -- 299\")\n",
    "    print(\"Mutton Biryani -- 449\")\n",
    "    print(\"Veg Biryani -- 249\")\n",
    "    print(\"Egg Biryani --249\")\n",
    "    print(\"Noodles -- 149\")\n",
    "    print(\"Veg Starters -- 149\")\n",
    "    print(\"Egg Starters -- 199\")\n",
    "    print(\"Veg Currys -- 149\")\n",
    "    print(\"Desserts -- 79\")\n",
    "    print(\"Thick Shakes -- 50\")\n",
    "    print(\"Juices -- 40\")\n",
    "    \n",
    "def branches():\n",
    "    print(\"Nizamabad\\nSecundrabad\\nKhammam\\nJublee Hills\")   \n",
    "\n",
    "def workers():\n",
    "    print(\"Sai\\nUday\\nSathish\\nsuresh\\nGeetha\\nVinay\\nSrinu\\nRAmesh\")\n"
   ]
  },
  {
   "cell_type": "code",
   "execution_count": 46,
   "id": "32f8d649",
   "metadata": {},
   "outputs": [
    {
     "name": "stdout",
     "output_type": "stream",
     "text": [
      "Biryanis\n",
      "Mandi\n",
      "Starters\n",
      "Veg Starters\n",
      "Veg Currys\n",
      "Mutton Currys\n",
      "chineese\n",
      "Thickshakes\n",
      "Juices\n",
      "Icecreams\n",
      "desserts\n"
     ]
    }
   ],
   "source": [
    "rt.menu()"
   ]
  },
  {
   "cell_type": "code",
   "execution_count": 47,
   "id": "e2feb49c",
   "metadata": {},
   "outputs": [
    {
     "name": "stdout",
     "output_type": "stream",
     "text": [
      "Chicken Biryani -- 299\n",
      "Mutton Biryani -- 449\n",
      "Veg Biryani -- 249\n",
      "Egg Biryani --249\n",
      "Noodles -- 149\n",
      "Veg Starters -- 149\n",
      "Egg Starters -- 199\n",
      "Veg Currys -- 149\n",
      "Desserts -- 79\n",
      "Thick Shakes -- 50\n",
      "Juices -- 40\n"
     ]
    }
   ],
   "source": [
    "rt.prices()"
   ]
  },
  {
   "cell_type": "code",
   "execution_count": 48,
   "id": "83a3e88e",
   "metadata": {},
   "outputs": [
    {
     "name": "stdout",
     "output_type": "stream",
     "text": [
      "Chicken Biryani\n",
      "Mutton Biryani\n",
      "Veg Biryani\n",
      "Egg biryani\n",
      "chineese\n",
      "desserts\n"
     ]
    }
   ],
   "source": [
    "rt.Recommended()"
   ]
  },
  {
   "cell_type": "code",
   "execution_count": 49,
   "id": "35d01299",
   "metadata": {},
   "outputs": [
    {
     "name": "stdout",
     "output_type": "stream",
     "text": [
      "Sai\n",
      "Uday\n",
      "Sathish\n",
      "suresh\n",
      "Geetha\n",
      "Vinay\n",
      "Srinu\n",
      "RAmesh\n"
     ]
    }
   ],
   "source": [
    "rt.workers()"
   ]
  },
  {
   "cell_type": "code",
   "execution_count": 50,
   "id": "c2a84aa7",
   "metadata": {},
   "outputs": [
    {
     "name": "stdout",
     "output_type": "stream",
     "text": [
      "Nizamabad\n",
      "Secundrabad\n",
      "Khammam\n",
      "Jublee Hills\n"
     ]
    }
   ],
   "source": [
    "rt.branches()"
   ]
  },
  {
   "cell_type": "markdown",
   "id": "35127c27",
   "metadata": {},
   "source": [
    "**IPL**"
   ]
  },
  {
   "cell_type": "code",
   "execution_count": 31,
   "id": "9150a48b",
   "metadata": {},
   "outputs": [],
   "source": [
    "import ipl as i"
   ]
  },
  {
   "cell_type": "code",
   "execution_count": 32,
   "id": "ab53db5c",
   "metadata": {},
   "outputs": [],
   "source": [
    "def Teams():\n",
    "    '''These are the teams are playing in IPL'''\n",
    "    print(\"1.SRH\\n2.RCB\\n3.CSK\\n4.MI\\n5.LSG\\n6.RR\\n7.GT\\n8.KKR\\n9.DC\\n10.PBKS\")\n",
    "\n",
    "    \n",
    "def winners():\n",
    "    '''These are the winning teams of IPL'''\n",
    "    print(\"MI won 5 times\\nCSK won 5 times\\nKKR won 2 times\\nSRH won 1 time\\nRR won 1 time\\nDC won 1 time\")\n",
    "    \n",
    "def PrizeMoney():\n",
    "    '''These are the prize money for winners in different years'''\n",
    "    print(\"year - prize money\\n2023 - 20crore\\n2022 - 20crore\\n2021 - 20crore\\n2020 - 10crore\\n2019 - 20crore\\n2018 - 20crore\")\n",
    "    \n",
    "\n",
    "def prizemoney_Runners():\n",
    "    '''These are the prize money for Runners in different years'''\n",
    "    print(\"year - prize money\\n2023 - 13crore\\n2022 - 13crore\\n2021 - 12.5crore\\n2020 - 6.25crore\\n2019 - 12.5crore\\n2018 - 12.5crore\")\n",
    "\n",
    "    \n",
    "def successful_teams():\n",
    "    '''These are the most successful teams'''\n",
    "    print(\"MI\\nCSK\")\n",
    "\n",
    "def captains():\n",
    "    '''These are the captains for each te\\nVivo\\nDream11\\nTataams'''\n",
    "    print(\"Team\\t- Captain\\nCSK\\t- M.S.Dhoni\\nDC\\t- David Warner\\nGT\\t- Hardik Pandya\\nKKR\\t- Nitish Rana\\nLSG\\t- K.L.Rahul\\nMI\\t- Rohit Sharma\\nPBKS\\t- Shikhar Dhawan\\nRR\\t- Sanju Samson\\nRCB\\t- Faf Du Plesis\\nSRH\\t- Aiden Markram\")\n",
    "\n",
    "def Administrator():\n",
    "    '''This is the administrator of IPL'''\n",
    "    print(\"BCCI\")\n",
    "    \n",
    "def Defunct_teams():\n",
    "    '''These are the teams that are no longer existed'''\n",
    "    print(\"1. Deccan Chargers\\n2. Kochi Tuskers Kerala\\n3. Pune Warriors India\\n4. Rising Pune Supergiant\\n5. Gujarat Lions\")\n",
    "    \n",
    "def Title_sponsor():\n",
    "    '''These are the tilte sponsors till the years'''\n",
    "    print(\"DLF\\nPepsi\\nVivo\\nDream11\\nTata\")"
   ]
  },
  {
   "cell_type": "code",
   "execution_count": 33,
   "id": "fcc97782",
   "metadata": {},
   "outputs": [
    {
     "name": "stdout",
     "output_type": "stream",
     "text": [
      "1.SRH\n",
      "2.RCB\n",
      "3.CSK\n",
      "4.MI\n",
      "5.LSG\n",
      "6.RR\n",
      "7.GT\n",
      "8.KKR\n",
      "9.DC\n",
      "10.PBKS\n"
     ]
    }
   ],
   "source": [
    "i.Teams()"
   ]
  },
  {
   "cell_type": "code",
   "execution_count": 34,
   "id": "91eecd4d",
   "metadata": {},
   "outputs": [
    {
     "name": "stdout",
     "output_type": "stream",
     "text": [
      "Team\t- Captain\n",
      "CSK\t- M.S.Dhoni\n",
      "DC\t- David Warner\n",
      "GT\t- Hardik Pandya\n",
      "KKR\t- Nitish Rana\n",
      "LSG\t- K.L.Rahul\n",
      "MI\t- Rohit Sharma\n",
      "PBKS\t- Shikhar Dhawan\n",
      "RR\t- Sanju Samson\n",
      "RCB\t- Faf Du Plesis\n",
      "SRH\t- Aiden Markram\n"
     ]
    }
   ],
   "source": [
    "i.captains()"
   ]
  },
  {
   "cell_type": "code",
   "execution_count": 40,
   "id": "8f156d73",
   "metadata": {},
   "outputs": [
    {
     "name": "stdout",
     "output_type": "stream",
     "text": [
      "BCCI\n"
     ]
    }
   ],
   "source": [
    "i.Administrator()"
   ]
  },
  {
   "cell_type": "code",
   "execution_count": 35,
   "id": "120615d4",
   "metadata": {},
   "outputs": [
    {
     "name": "stdout",
     "output_type": "stream",
     "text": [
      "MI\n",
      "CSK\n"
     ]
    }
   ],
   "source": [
    "i.successful_teams()"
   ]
  },
  {
   "cell_type": "code",
   "execution_count": 36,
   "id": "c9e16dff",
   "metadata": {},
   "outputs": [
    {
     "name": "stdout",
     "output_type": "stream",
     "text": [
      "year - prize money\n",
      "2023 - 20crore\n",
      "2022 - 20crore\n",
      "2021 - 20crore\n",
      "2020 - 10crore\n",
      "2019 - 20crore\n",
      "2018 - 20crore\n"
     ]
    }
   ],
   "source": [
    "i.PrizeMoney()"
   ]
  },
  {
   "cell_type": "code",
   "execution_count": 37,
   "id": "c26e6f3d",
   "metadata": {},
   "outputs": [
    {
     "name": "stdout",
     "output_type": "stream",
     "text": [
      "year - prize money\n",
      "2023 - 13crore\n",
      "2022 - 13crore\n",
      "2021 - 12.5crore\n",
      "2020 - 6.25crore\n",
      "2019 - 12.5crore\n",
      "2018 - 12.5crore\n"
     ]
    }
   ],
   "source": [
    "i.prizemoney_Runners()"
   ]
  },
  {
   "cell_type": "code",
   "execution_count": 38,
   "id": "ff647e46",
   "metadata": {},
   "outputs": [
    {
     "name": "stdout",
     "output_type": "stream",
     "text": [
      "1. Deccan Chargers\n",
      "2. Kochi Tuskers Kerala\n",
      "3. Pune Warriors India\n",
      "4. Rising Pune Supergiant\n",
      "5. Gujarat Lions\n"
     ]
    }
   ],
   "source": [
    "i.Defunct_teams()"
   ]
  },
  {
   "cell_type": "code",
   "execution_count": 39,
   "id": "1098c832",
   "metadata": {},
   "outputs": [
    {
     "name": "stdout",
     "output_type": "stream",
     "text": [
      "DLF\n",
      "Pepsi\n",
      "Vivo\n",
      "Dream11\n",
      "Tata\n"
     ]
    }
   ],
   "source": [
    "i.Title_sponsor()"
   ]
  },
  {
   "cell_type": "code",
   "execution_count": 41,
   "id": "0267fe48",
   "metadata": {},
   "outputs": [
    {
     "name": "stdout",
     "output_type": "stream",
     "text": [
      "MI won 5 times\n",
      "CSK won 5 times\n",
      "KKR won 2 times\n",
      "SRH won 1 time\n",
      "RR won 1 time\n",
      "DC won 1 time\n"
     ]
    }
   ],
   "source": [
    "i.winners()"
   ]
  },
  {
   "cell_type": "markdown",
   "id": "97adfeeb",
   "metadata": {},
   "source": [
    "**Data Science**"
   ]
  },
  {
   "cell_type": "code",
   "execution_count": 51,
   "id": "72ade160",
   "metadata": {},
   "outputs": [],
   "source": [
    "import datascience as ds"
   ]
  },
  {
   "cell_type": "code",
   "execution_count": null,
   "id": "82b545a0",
   "metadata": {},
   "outputs": [],
   "source": [
    "def programmingLanguage():\n",
    "    '''Anyone of the programming language should learn'''\n",
    "    print(\"1. Python\\n2. R\\n3. SQL\")\n",
    "\n",
    "def math():\n",
    "    print(\"1. Statistics\\n2. Linear Algebra\\n3. Differential Calculas\\n4. Discrete Math\")\n",
    "\n",
    "def dataAnalysis():\n",
    "    print(\"1. Feature Engineering\\n2. Data Wranging\\n3. EDA\")\n",
    "    \n",
    "def machineLearning():\n",
    "    print(\"1. Classification\\n2. Regression\\n3. Reinforcement Learning\\n4. Deep Learning\\n5. Clustering\")\n",
    "    \n",
    "def webScrapping():\n",
    "    print(\"1. Beautiful Soup\\n2. Scrappy\\n3. URLLIB\")\n",
    "\n",
    "def visualisation():\n",
    "    print(\"1. Tableau\\n2. Scatter Plot\\n3. Power BI\")\n"
   ]
  },
  {
   "cell_type": "code",
   "execution_count": 52,
   "id": "7853bc48",
   "metadata": {},
   "outputs": [
    {
     "name": "stdout",
     "output_type": "stream",
     "text": [
      "1. Python\n",
      "2. R\n",
      "3. SQL\n"
     ]
    }
   ],
   "source": [
    "ds.programmingLanguage()"
   ]
  },
  {
   "cell_type": "code",
   "execution_count": 53,
   "id": "358fe38c",
   "metadata": {},
   "outputs": [
    {
     "name": "stdout",
     "output_type": "stream",
     "text": [
      "1. Statistics\n",
      "2. Linear Algebra\n",
      "3. Differential Calculas\n",
      "4. Discrete Math\n"
     ]
    }
   ],
   "source": [
    "ds.math()"
   ]
  },
  {
   "cell_type": "code",
   "execution_count": 54,
   "id": "4fbe05ba",
   "metadata": {},
   "outputs": [
    {
     "name": "stdout",
     "output_type": "stream",
     "text": [
      "1. Feature Engineering\n",
      "2. Data Wranging\n",
      "3. EDA\n"
     ]
    }
   ],
   "source": [
    "ds.dataAnalysis()"
   ]
  },
  {
   "cell_type": "code",
   "execution_count": 55,
   "id": "c207b143",
   "metadata": {},
   "outputs": [
    {
     "name": "stdout",
     "output_type": "stream",
     "text": [
      "1. Classification\n",
      "2. Regression\n",
      "3. Reinforcement Learning\n",
      "4. Deep Learning\n",
      "5. Clustering\n"
     ]
    }
   ],
   "source": [
    "ds.machineLearning()"
   ]
  },
  {
   "cell_type": "code",
   "execution_count": 57,
   "id": "fe4bdc46",
   "metadata": {},
   "outputs": [
    {
     "name": "stdout",
     "output_type": "stream",
     "text": [
      "1. Beautiful Soup\n",
      "2. Scrappy\n",
      "3. URLLIB\n"
     ]
    }
   ],
   "source": [
    "ds.webScrapping()"
   ]
  },
  {
   "cell_type": "code",
   "execution_count": 56,
   "id": "24ea6074",
   "metadata": {},
   "outputs": [
    {
     "name": "stdout",
     "output_type": "stream",
     "text": [
      "1. Tableau\n",
      "2. Scatter Plot\n",
      "3. Power BI\n"
     ]
    }
   ],
   "source": [
    "ds.visualisation()"
   ]
  },
  {
   "cell_type": "markdown",
   "id": "abf5f887",
   "metadata": {},
   "source": [
    "**INDIA**"
   ]
  },
  {
   "cell_type": "code",
   "execution_count": 58,
   "id": "8d69eb15",
   "metadata": {},
   "outputs": [],
   "source": [
    "import india as b"
   ]
  },
  {
   "cell_type": "code",
   "execution_count": null,
   "id": "3cd22319",
   "metadata": {},
   "outputs": [],
   "source": [
    "def northstates():\n",
    "    print(\"Jammu & Kashmir \\nHimachal Pradesh\\nPunjab\\nUttarakhand\\nHaryana\\nDelhi\\nRajasthan \\nUttar Pradesh \\nChandigarh\")\n",
    "\n",
    "\n",
    "def southstates():\n",
    "    print(\"Andhra Pradesh\\nKarnataka\\nKerala\\nTamil Nadu\\nTelangana\")\n",
    "\n",
    "def eaststates():\n",
    "    print(\"Bihar\\nJharkhand\\nOdisha\\nWest Bengal\\nArunachal Pradesh\\nAssam\\nManipur\\nMeghalaya\\nMizoram\\nNagaland\\nSikkim\\nTripura\")\n",
    "\n",
    "\n",
    "def weststates():\n",
    "    print(\"Goa\\nGujarat\\nMaharashtra\")\n",
    "\n",
    "def Rivers():\n",
    "    print(\"Ganga\\nYamuna\\nIndus\\nGodavari\\nBrahmaputra\\nNarmada\\nCauvery\")\n",
    "    \n",
    "def languages():\n",
    "    print(\"Telugu\\nAssamese\\nBangla\\nBodo\\nDogri\\nGujarati\\nHindi\\nKashmiri\\nKannada\\nKonkani\\nMaithili\\nMalayalam\\nManipuri\\nMarathi\\nNepali\\nOriya\\nPunjabi\\nTamil\\nSantali\\nSindhi\\nUrdu.\")"
   ]
  },
  {
   "cell_type": "code",
   "execution_count": 59,
   "id": "f501b310",
   "metadata": {},
   "outputs": [
    {
     "name": "stdout",
     "output_type": "stream",
     "text": [
      "Andhra Pradesh\n",
      "Karnataka\n",
      "Kerala\n",
      "Tamil Nadu\n",
      "Telangana\n"
     ]
    }
   ],
   "source": [
    "b.southstates()"
   ]
  },
  {
   "cell_type": "code",
   "execution_count": 60,
   "id": "1e12e3df",
   "metadata": {},
   "outputs": [
    {
     "name": "stdout",
     "output_type": "stream",
     "text": [
      "Jammu & Kashmir \n",
      "Himachal Pradesh\n",
      "Punjab\n",
      "Uttarakhand\n",
      "Haryana\n",
      "Delhi\n",
      "Rajasthan \n",
      "Uttar Pradesh \n",
      "Chandigarh\n"
     ]
    }
   ],
   "source": [
    "b.northstates()"
   ]
  },
  {
   "cell_type": "code",
   "execution_count": 61,
   "id": "35edd6e6",
   "metadata": {},
   "outputs": [
    {
     "name": "stdout",
     "output_type": "stream",
     "text": [
      "Bihar\n",
      "Jharkhand\n",
      "Odisha\n",
      "West Bengal\n",
      "Arunachal Pradesh\n",
      "Assam\n",
      "Manipur\n",
      "Meghalaya\n",
      "Mizoram\n",
      "Nagaland\n",
      "Sikkim\n",
      "Tripura\n"
     ]
    }
   ],
   "source": [
    "b.eaststates()"
   ]
  },
  {
   "cell_type": "code",
   "execution_count": 62,
   "id": "048305a6",
   "metadata": {},
   "outputs": [
    {
     "name": "stdout",
     "output_type": "stream",
     "text": [
      "Goa\n",
      "Gujarat\n",
      "Maharashtra\n"
     ]
    }
   ],
   "source": [
    "b.weststates()"
   ]
  },
  {
   "cell_type": "code",
   "execution_count": 63,
   "id": "fbcb285f",
   "metadata": {},
   "outputs": [
    {
     "name": "stdout",
     "output_type": "stream",
     "text": [
      "Ganga\n",
      "Yamuna\n",
      "Indus\n",
      "Godavari\n",
      "Brahmaputra\n",
      "Narmada\n",
      "Cauvery\n"
     ]
    }
   ],
   "source": [
    "b.Rivers()"
   ]
  },
  {
   "cell_type": "markdown",
   "id": "a7d5518e",
   "metadata": {},
   "source": [
    "**SHOPPING MALL**"
   ]
  },
  {
   "cell_type": "code",
   "execution_count": 65,
   "id": "7f943827",
   "metadata": {},
   "outputs": [],
   "source": [
    "import shoppingmall as sm"
   ]
  },
  {
   "cell_type": "code",
   "execution_count": null,
   "id": "28103be7",
   "metadata": {},
   "outputs": [],
   "source": [
    "def ground_floor():\n",
    "    print(\"1. Goods\\n2. parking\")\n",
    "    \n",
    "def first_floor():\n",
    "    print(\"1. children wear\\n2. women's wear\\n3. Men's wear\\n4. Baby wear\")\n",
    "    \n",
    "def second_floor():\n",
    "    print(\"1. Gold jewelry\\n2. Silver jewelry\\n3. Diamond jewelry\")\n",
    "    \n",
    "def third_floor():\n",
    "    print(\"1. cosmetics\\n2. make-up items\")\n",
    "    \n",
    "def fourth_floor():\n",
    "    print(\"1. Food Sections\\n2. Bakeries\\n3. Restaurents\")\n",
    "    \n",
    "def fifth_floor():\n",
    "    print(\"1.Gaming zone\\n2.spa\\n3.online games\\n4.Beauty parlour\")\n",
    "    \n",
    "def sixth_floor():\n",
    "    print(\"1. Theatre\\n2. Multiplex\")"
   ]
  },
  {
   "cell_type": "code",
   "execution_count": 68,
   "id": "146a6980",
   "metadata": {},
   "outputs": [
    {
     "name": "stdout",
     "output_type": "stream",
     "text": [
      "1. Goods\n",
      "2. parking\n"
     ]
    }
   ],
   "source": [
    "sm.ground_floor()"
   ]
  },
  {
   "cell_type": "code",
   "execution_count": 66,
   "id": "941a317a",
   "metadata": {},
   "outputs": [
    {
     "name": "stdout",
     "output_type": "stream",
     "text": [
      "1. children wear\n",
      "2. women's wear\n",
      "3. Men's wear\n",
      "4. Baby wear\n"
     ]
    }
   ],
   "source": [
    "sm.first_floor()"
   ]
  },
  {
   "cell_type": "code",
   "execution_count": 69,
   "id": "76bc1b6b",
   "metadata": {},
   "outputs": [
    {
     "name": "stdout",
     "output_type": "stream",
     "text": [
      "1. Gold jewelry\n",
      "2. Silver jewelry\n",
      "3. Diamond jewelry\n"
     ]
    }
   ],
   "source": [
    "sm.second_floor()"
   ]
  },
  {
   "cell_type": "code",
   "execution_count": 70,
   "id": "db3afb8e",
   "metadata": {},
   "outputs": [
    {
     "name": "stdout",
     "output_type": "stream",
     "text": [
      "1. cosmetics\n",
      "2. make-up items\n"
     ]
    }
   ],
   "source": [
    "sm.third_floor()"
   ]
  },
  {
   "cell_type": "code",
   "execution_count": 71,
   "id": "3aad130c",
   "metadata": {},
   "outputs": [
    {
     "name": "stdout",
     "output_type": "stream",
     "text": [
      "1. Food Sections\n",
      "2. Bakeries\n",
      "3. Restaurents\n"
     ]
    }
   ],
   "source": [
    "sm.fourth_floor()"
   ]
  },
  {
   "cell_type": "code",
   "execution_count": 72,
   "id": "0519688b",
   "metadata": {},
   "outputs": [
    {
     "name": "stdout",
     "output_type": "stream",
     "text": [
      "1.Gaming zone\n",
      "2.spa\n",
      "3.online games\n",
      "4.Beauty parlour\n"
     ]
    }
   ],
   "source": [
    "sm.fifth_floor()"
   ]
  },
  {
   "cell_type": "code",
   "execution_count": 73,
   "id": "e7e01f85",
   "metadata": {},
   "outputs": [
    {
     "name": "stdout",
     "output_type": "stream",
     "text": [
      "1. Theatre\n",
      "2. Multiplex\n"
     ]
    }
   ],
   "source": [
    "sm.sixth_floor()"
   ]
  },
  {
   "cell_type": "code",
   "execution_count": null,
   "id": "f9c75a9e",
   "metadata": {},
   "outputs": [],
   "source": []
  }
 ],
 "metadata": {
  "kernelspec": {
   "display_name": "Python 3 (ipykernel)",
   "language": "python",
   "name": "python3"
  },
  "language_info": {
   "codemirror_mode": {
    "name": "ipython",
    "version": 3
   },
   "file_extension": ".py",
   "mimetype": "text/x-python",
   "name": "python",
   "nbconvert_exporter": "python",
   "pygments_lexer": "ipython3",
   "version": "3.11.4"
  }
 },
 "nbformat": 4,
 "nbformat_minor": 5
}
