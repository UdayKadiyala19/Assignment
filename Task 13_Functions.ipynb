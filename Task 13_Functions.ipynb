{
 "cells": [
  {
   "cell_type": "markdown",
   "id": "89ffda57",
   "metadata": {},
   "source": [
    "1. Write a function called \"add_numbers\" that takes two integers as input and returns their sum.\n",
    "\n",
    "2. Write a function called \"multiply_numbers\" that takes two integers as input and returns their product.\n",
    "\n",
    "3. Write a function called \"calculate_average\" that takes a list of numbers as input and returns the average of thosenumbers.\n",
    "\n",
    "4. Write a function called \"is_even\" that takes an integer as input and returns True if the number is even, and False otherwise.\n",
    "\n",
    "5. Write a function called \"reverse_string\" that takes a string as input and returns the reverse of that string.\n",
    "\n",
    "6. Write a function called \"count_vowels\" that takes a string as input and returns the number of vowels (a, e, i, o, u) in that string.\n",
    "\n",
    "7. Write a function called \"find_max\" that takes a list of numbers as input and returns the maximum value in that list.\n",
    "\n",
    "8. Write a function called \"find_min\" that takes a list of numbers as input and returns the minimum value in that list."
   ]
  },
  {
   "cell_type": "markdown",
   "id": "6fb63783",
   "metadata": {},
   "source": [
    "**1.** Write a function called \"add_numbers\" that takes two integers as input and returns their sum."
   ]
  },
  {
   "cell_type": "code",
   "execution_count": 1,
   "id": "37b9bf9a",
   "metadata": {},
   "outputs": [
    {
     "name": "stdout",
     "output_type": "stream",
     "text": [
      "Enter number1:2\n",
      "Enter number2:3\n",
      "5\n"
     ]
    }
   ],
   "source": [
    "def add_numbers(x,y):\n",
    "    print(x+y)\n",
    "x= int(input(\"Enter number1:\"))\n",
    "y= int(input(\"Enter number2:\"))\n",
    "add_numbers(x,y)"
   ]
  },
  {
   "cell_type": "markdown",
   "id": "05c8e1fa",
   "metadata": {},
   "source": [
    "**2.** Write a function called \"multiply_numbers\" that takes two integers as input and returns their product."
   ]
  },
  {
   "cell_type": "code",
   "execution_count": 4,
   "id": "37b1c74a",
   "metadata": {},
   "outputs": [
    {
     "name": "stdout",
     "output_type": "stream",
     "text": [
      "Enter number1:3\n",
      "Enter number2:3\n",
      "9\n"
     ]
    }
   ],
   "source": [
    "def multiply_numbers(a,b):\n",
    "    print(a*b)\n",
    "a= int(input(\"Enter number1:\"))\n",
    "b= int(input(\"Enter number2:\"))\n",
    "multiply_numbers(a,b)"
   ]
  },
  {
   "cell_type": "markdown",
   "id": "1b539450",
   "metadata": {},
   "source": [
    "**3.** Write a function called \"calculate_average\" that takes a list of numbers as input and returns the average of thosenumbers."
   ]
  },
  {
   "cell_type": "code",
   "execution_count": 35,
   "id": "bc8959de",
   "metadata": {},
   "outputs": [
    {
     "name": "stdout",
     "output_type": "stream",
     "text": [
      "Enter number:4\n",
      "[1, 2, 3, 4]\n",
      "The average of list of integers is: 2.5\n"
     ]
    }
   ],
   "source": [
    "n= int(input(\"Enter number:\"))\n",
    "def calculate_average():\n",
    "    list1= list(range(1,n+1))\n",
    "    average= sum(list1)/len(list1) \n",
    "    print(list1)\n",
    "    print(\"The average of list of integers is:\",average)\n",
    "calculate_average()"
   ]
  },
  {
   "cell_type": "markdown",
   "id": "daf310ea",
   "metadata": {},
   "source": [
    "**4.** Write a function called \"is_even\" that takes an integer as input and returns True if the number is even, and False otherwise.\n"
   ]
  },
  {
   "cell_type": "code",
   "execution_count": 13,
   "id": "ce9aed56",
   "metadata": {},
   "outputs": [
    {
     "name": "stdout",
     "output_type": "stream",
     "text": [
      "Enter a integer:3\n",
      "False\n"
     ]
    }
   ],
   "source": [
    "n= int(input(\"Enter a integer:\"))\n",
    "def is_even():\n",
    "    if n%2==0:\n",
    "        print(\"True\")\n",
    "    else:\n",
    "        print(\"False\")\n",
    "is_even()"
   ]
  },
  {
   "cell_type": "markdown",
   "id": "14eaf70e",
   "metadata": {},
   "source": [
    "**5.** Write a function called \"reverse_string\" that takes a string as input and returns the reverse of that string.\n"
   ]
  },
  {
   "cell_type": "code",
   "execution_count": 14,
   "id": "cc09c0dd",
   "metadata": {},
   "outputs": [
    {
     "name": "stdout",
     "output_type": "stream",
     "text": [
      "Enter a string:Innomatics\n",
      "scitamonnI\n"
     ]
    }
   ],
   "source": [
    "string1= input(\"Enter a string:\")\n",
    "def reverse_string():\n",
    "    a= string1[::-1]\n",
    "    print(a)\n",
    "reverse_string()"
   ]
  },
  {
   "cell_type": "markdown",
   "id": "6cdbca9a",
   "metadata": {},
   "source": [
    "**6.** Write a function called \"count_vowels\" that takes a string as input and returns the number of vowels (a, e, i, o, u) in that string."
   ]
  },
  {
   "cell_type": "code",
   "execution_count": 4,
   "id": "55d99a79",
   "metadata": {},
   "outputs": [],
   "source": [
    "def count_vowels():\n",
    "    string2= input(\"Enter a string:\")\n",
    "    A= (\"a\",\"e\",\"i\",\"o\",\"u\")\n",
    "    total= 0\n",
    "    \n",
    "    for i in string2:\n",
    "        if i in A:\n",
    "            total= total+len(i)\n",
    "        else:\n",
    "            continue\n",
    "            \n",
    "    print(\"total number of vowels are:\",total)"
   ]
  },
  {
   "cell_type": "code",
   "execution_count": 5,
   "id": "64183b05",
   "metadata": {},
   "outputs": [
    {
     "name": "stdout",
     "output_type": "stream",
     "text": [
      "Enter a string:innomatics\n",
      "total number of vowels are: 4\n"
     ]
    }
   ],
   "source": [
    "count_vowels()"
   ]
  },
  {
   "cell_type": "code",
   "execution_count": 15,
   "id": "b54d3adb",
   "metadata": {},
   "outputs": [
    {
     "name": "stdout",
     "output_type": "stream",
     "text": [
      "Enter a string:inno\n",
      "number of vowels are: 2\n"
     ]
    }
   ],
   "source": [
    "def count_vowels():\n",
    "    n=[]\n",
    "    A= (\"a\",\"e\",\"i\",\"o\",\"u\")\n",
    "    string= input(\"Enter a string:\")\n",
    "    for i in string:\n",
    "        if i in A:\n",
    "            n.append(i)\n",
    "        else:\n",
    "            pass\n",
    "    print(\"number of vowels are:\",len(n))\n",
    "count_vowels()"
   ]
  },
  {
   "cell_type": "code",
   "execution_count": 16,
   "id": "769ec391",
   "metadata": {},
   "outputs": [],
   "source": [
    "def count_vowels(string):\n",
    "    n=[]\n",
    "    A= (\"a\",\"e\",\"i\",\"o\",\"u\")\n",
    "    \n",
    "    for i in string:\n",
    "        if i in A:\n",
    "            n.append(i)\n",
    "        else:\n",
    "            pass\n",
    "        \n",
    "    print(\"number of vowels are:\",len(n))"
   ]
  },
  {
   "cell_type": "code",
   "execution_count": 17,
   "id": "0185619c",
   "metadata": {},
   "outputs": [
    {
     "name": "stdout",
     "output_type": "stream",
     "text": [
      "Enter a string:uday\n",
      "number of vowels are: 2\n"
     ]
    }
   ],
   "source": [
    "string= input(\"Enter a string:\")\n",
    "count_vowels(string)"
   ]
  },
  {
   "cell_type": "markdown",
   "id": "23a86406",
   "metadata": {},
   "source": [
    "**7.** Write a function called \"find_max\" that takes a list of numbers as input and returns the maximum value in that list."
   ]
  },
  {
   "cell_type": "code",
   "execution_count": 33,
   "id": "3e2c6291",
   "metadata": {},
   "outputs": [],
   "source": [
    "list1= []\n",
    "def find_max(list1):\n",
    "    num= int(input(\"Enter how many numbers you want to add:\"))\n",
    "    \n",
    "    for i in range(1,num+1):\n",
    "        num= int(input(f\"Enter number{i}:\"))\n",
    "        list1.append(num)\n",
    "        \n",
    "    a= max(list1)\n",
    "    print(\"maximum value:\", a)"
   ]
  },
  {
   "cell_type": "code",
   "execution_count": 34,
   "id": "07388539",
   "metadata": {},
   "outputs": [
    {
     "name": "stdout",
     "output_type": "stream",
     "text": [
      "Enter how many numbers you want to add:4\n",
      "Enter number1:1\n",
      "Enter number2:22\n",
      "Enter number3:45\n",
      "Enter number4:78\n",
      "maximum value: 78\n"
     ]
    }
   ],
   "source": [
    "find_max(list1)"
   ]
  },
  {
   "cell_type": "markdown",
   "id": "bf7d815c",
   "metadata": {},
   "source": [
    "**8.** Write a function called \"find_min\" that takes a list of numbers as input and returns the minimum value in that list."
   ]
  },
  {
   "cell_type": "code",
   "execution_count": 31,
   "id": "51f43471",
   "metadata": {},
   "outputs": [],
   "source": [
    "def find_min():\n",
    "    list2= []\n",
    "    num= int(input(\"Enter how many numbers you want to add:\"))\n",
    "    \n",
    "    for i in range(1,num+1):\n",
    "        num= int(input(f\"Enter number{i}:\"))\n",
    "        list2.append(num)\n",
    "        \n",
    "    a= min(list2)\n",
    "    print(\"minimum value:\", a)"
   ]
  },
  {
   "cell_type": "code",
   "execution_count": 32,
   "id": "9dd9975a",
   "metadata": {},
   "outputs": [
    {
     "name": "stdout",
     "output_type": "stream",
     "text": [
      "Enter how many numbers you want to add:5\n",
      "Enter number1:1\n",
      "Enter number2:2\n",
      "Enter number3:3\n",
      "Enter number4:4\n",
      "Enter number5:5\n",
      "minimum value: 1\n"
     ]
    }
   ],
   "source": [
    "find_min()"
   ]
  }
 ],
 "metadata": {
  "kernelspec": {
   "display_name": "Python 3 (ipykernel)",
   "language": "python",
   "name": "python3"
  },
  "language_info": {
   "codemirror_mode": {
    "name": "ipython",
    "version": 3
   },
   "file_extension": ".py",
   "mimetype": "text/x-python",
   "name": "python",
   "nbconvert_exporter": "python",
   "pygments_lexer": "ipython3",
   "version": "3.11.4"
  }
 },
 "nbformat": 4,
 "nbformat_minor": 5
}
