{
 "cells": [
  {
   "cell_type": "markdown",
   "id": "4dcacd07",
   "metadata": {},
   "source": [
    "**Creation of ndarray**\n",
    "1. Write python code to create 3d array in different ways with 15 elements.\n",
    "\n",
    "2. Array Creation:\n",
    "\n",
    "     a. Create a 4D NumPy array containing the first 12 positive integers as arr1.\n",
    "     \n",
    "     b. Create a 3D NumPy array1 with 20 random elements containing integers between 0 and 1.\n",
    "     \n",
    "3. Find all attributes of array1 and array2\n",
    "4. Apply measure and describe the data (attributes and descriptive statistics) to above arrays using NumPy.\n"
   ]
  },
  {
   "cell_type": "markdown",
   "id": "da749f68",
   "metadata": {},
   "source": [
    "**1. Write python code to create 3d array in different ways with 15 elements.**"
   ]
  },
  {
   "cell_type": "code",
   "execution_count": 1,
   "id": "9a974885",
   "metadata": {},
   "outputs": [],
   "source": [
    "import numpy as np"
   ]
  },
  {
   "cell_type": "code",
   "execution_count": 19,
   "id": "a76615f2",
   "metadata": {},
   "outputs": [
    {
     "name": "stdout",
     "output_type": "stream",
     "text": [
      "[[[ 1  2  3  4  5  6  7  8  9 10 11 12 13 14 15]]]\n"
     ]
    },
    {
     "data": {
      "text/plain": [
       "3"
      ]
     },
     "execution_count": 19,
     "metadata": {},
     "output_type": "execute_result"
    }
   ],
   "source": [
    "arr1= np.array([1,2,3,4,5,6,7,8,9,10,11,12,13,14,15],ndmin=3) #creating using ndmin\n",
    "print(arr1)\n",
    "arr1.ndim"
   ]
  },
  {
   "cell_type": "code",
   "execution_count": 20,
   "id": "b48b161d",
   "metadata": {},
   "outputs": [
    {
     "name": "stdout",
     "output_type": "stream",
     "text": [
      "[[[ 1  2  3  4  5]\n",
      "  [ 6  7  8  9 10]\n",
      "  [11 12 13 14 15]]]\n"
     ]
    },
    {
     "data": {
      "text/plain": [
       "3"
      ]
     },
     "execution_count": 20,
     "metadata": {},
     "output_type": "execute_result"
    }
   ],
   "source": [
    "arr2 = np.array([1,2,3,4,5,6,7,8,9,10,11,12,13,14,15]).reshape(1,3,5) #creating using reshape()\n",
    "print(arr2)\n",
    "arr2.ndim"
   ]
  },
  {
   "cell_type": "code",
   "execution_count": 24,
   "id": "7a10dfdc",
   "metadata": {},
   "outputs": [
    {
     "name": "stdout",
     "output_type": "stream",
     "text": [
      "[[[ 1  2  3  4  5  6  7  8  9 10 11 12 13 14 15]]]\n"
     ]
    },
    {
     "data": {
      "text/plain": [
       "3"
      ]
     },
     "execution_count": 24,
     "metadata": {},
     "output_type": "execute_result"
    }
   ],
   "source": [
    "arr2 = np.array([1,2,3,4,5,6,7,8,9,10,11,12,13,14,15]).reshape(1,1,15)\n",
    "print(arr2)\n",
    "arr2.ndim"
   ]
  },
  {
   "cell_type": "code",
   "execution_count": 13,
   "id": "227aba47",
   "metadata": {},
   "outputs": [
    {
     "name": "stdout",
     "output_type": "stream",
     "text": [
      "[[[1 2 3 4 5 6 7 8 9]]]\n"
     ]
    },
    {
     "data": {
      "text/plain": [
       "3"
      ]
     },
     "execution_count": 13,
     "metadata": {},
     "output_type": "execute_result"
    }
   ],
   "source": [
    "arr3= np.array([[[1,2,3,4,5,6,7,8,9]]]) #creating using []\n",
    "print(arr3)\n",
    "arr3.ndim"
   ]
  },
  {
   "cell_type": "markdown",
   "id": "1ecd6bbb",
   "metadata": {},
   "source": [
    "**2. Array Creation:**\n",
    "\n",
    "a. Create a 4D NumPy array containing the first 12 positive integers as arr1."
   ]
  },
  {
   "cell_type": "code",
   "execution_count": 230,
   "id": "2b0cf278",
   "metadata": {},
   "outputs": [
    {
     "name": "stdout",
     "output_type": "stream",
     "text": [
      "[[[[ 1  2  3]\n",
      "   [ 4  5  6]\n",
      "   [ 7  8  9]\n",
      "   [10 11 12]]]]\n"
     ]
    },
    {
     "data": {
      "text/plain": [
       "4"
      ]
     },
     "execution_count": 230,
     "metadata": {},
     "output_type": "execute_result"
    }
   ],
   "source": [
    "arr1 = np.arange(1,13).reshape(1,1,4,3)\n",
    "print(arr1)\n",
    "arr1.ndim"
   ]
  },
  {
   "cell_type": "markdown",
   "id": "d22814e8",
   "metadata": {},
   "source": [
    "b. Create a 3D NumPy array1 with 20 random elements containing integers between 0 and 1."
   ]
  },
  {
   "cell_type": "code",
   "execution_count": 34,
   "id": "f1a66f89",
   "metadata": {},
   "outputs": [
    {
     "data": {
      "text/plain": [
       "array([0, 1, 1, 0, 0, 0, 1, 0, 1, 0, 1, 1, 0, 0, 0, 0, 1, 0, 0, 0])"
      ]
     },
     "execution_count": 34,
     "metadata": {},
     "output_type": "execute_result"
    }
   ],
   "source": [
    "import random \n",
    "array1 = np.random.randint(0,2,20)\n",
    "array1"
   ]
  },
  {
   "cell_type": "markdown",
   "id": "f65dbb39",
   "metadata": {},
   "source": [
    "**3. Find all attributes of array1 and array2**"
   ]
  },
  {
   "cell_type": "code",
   "execution_count": 260,
   "id": "05a22035",
   "metadata": {},
   "outputs": [
    {
     "data": {
      "text/plain": [
       "array([[[[ 1,  2,  3],\n",
       "         [ 4,  5,  6],\n",
       "         [ 7,  8,  9],\n",
       "         [10, 11, 12]]]])"
      ]
     },
     "execution_count": 260,
     "metadata": {},
     "output_type": "execute_result"
    }
   ],
   "source": [
    "arr1   #attributes of array1"
   ]
  },
  {
   "cell_type": "code",
   "execution_count": 52,
   "id": "dbcaa553",
   "metadata": {},
   "outputs": [
    {
     "data": {
      "text/plain": [
       "dtype('int32')"
      ]
     },
     "execution_count": 52,
     "metadata": {},
     "output_type": "execute_result"
    }
   ],
   "source": [
    "arr1.dtype"
   ]
  },
  {
   "cell_type": "code",
   "execution_count": 53,
   "id": "6f7ede88",
   "metadata": {},
   "outputs": [
    {
     "data": {
      "text/plain": [
       "12"
      ]
     },
     "execution_count": 53,
     "metadata": {},
     "output_type": "execute_result"
    }
   ],
   "source": [
    "arr1.size"
   ]
  },
  {
   "cell_type": "code",
   "execution_count": 54,
   "id": "6365ce31",
   "metadata": {},
   "outputs": [
    {
     "data": {
      "text/plain": [
       "48"
      ]
     },
     "execution_count": 54,
     "metadata": {},
     "output_type": "execute_result"
    }
   ],
   "source": [
    "arr1.nbytes"
   ]
  },
  {
   "cell_type": "code",
   "execution_count": 55,
   "id": "195b4ec8",
   "metadata": {},
   "outputs": [
    {
     "data": {
      "text/plain": [
       "4"
      ]
     },
     "execution_count": 55,
     "metadata": {},
     "output_type": "execute_result"
    }
   ],
   "source": [
    "arr1.itemsize"
   ]
  },
  {
   "cell_type": "code",
   "execution_count": 56,
   "id": "de6927ad",
   "metadata": {},
   "outputs": [
    {
     "data": {
      "text/plain": [
       "4"
      ]
     },
     "execution_count": 56,
     "metadata": {},
     "output_type": "execute_result"
    }
   ],
   "source": [
    "arr1.ndim"
   ]
  },
  {
   "cell_type": "code",
   "execution_count": 45,
   "id": "d4361614",
   "metadata": {},
   "outputs": [
    {
     "data": {
      "text/plain": [
       "array([ 1.        ,  1.63157895,  2.26315789,  2.89473684,  3.52631579,\n",
       "        4.15789474,  4.78947368,  5.42105263,  6.05263158,  6.68421053,\n",
       "        7.31578947,  7.94736842,  8.57894737,  9.21052632,  9.84210526,\n",
       "       10.47368421, 11.10526316, 11.73684211, 12.36842105, 13.        ])"
      ]
     },
     "execution_count": 45,
     "metadata": {},
     "output_type": "execute_result"
    }
   ],
   "source": [
    "array2 = np.linspace(1,13,20)  #attributes of array2\n",
    "array2"
   ]
  },
  {
   "cell_type": "code",
   "execution_count": 46,
   "id": "5613d75f",
   "metadata": {},
   "outputs": [
    {
     "data": {
      "text/plain": [
       "dtype('float64')"
      ]
     },
     "execution_count": 46,
     "metadata": {},
     "output_type": "execute_result"
    }
   ],
   "source": [
    "array2.dtype"
   ]
  },
  {
   "cell_type": "code",
   "execution_count": 47,
   "id": "df2efe34",
   "metadata": {},
   "outputs": [
    {
     "data": {
      "text/plain": [
       "20"
      ]
     },
     "execution_count": 47,
     "metadata": {},
     "output_type": "execute_result"
    }
   ],
   "source": [
    "array2.size"
   ]
  },
  {
   "cell_type": "code",
   "execution_count": 48,
   "id": "0f43c98e",
   "metadata": {},
   "outputs": [
    {
     "data": {
      "text/plain": [
       "160"
      ]
     },
     "execution_count": 48,
     "metadata": {},
     "output_type": "execute_result"
    }
   ],
   "source": [
    "array2.nbytes"
   ]
  },
  {
   "cell_type": "code",
   "execution_count": 49,
   "id": "c8465042",
   "metadata": {},
   "outputs": [
    {
     "data": {
      "text/plain": [
       "1"
      ]
     },
     "execution_count": 49,
     "metadata": {},
     "output_type": "execute_result"
    }
   ],
   "source": [
    "array2.ndim"
   ]
  },
  {
   "cell_type": "code",
   "execution_count": 50,
   "id": "ec9b5880",
   "metadata": {},
   "outputs": [
    {
     "data": {
      "text/plain": [
       "8"
      ]
     },
     "execution_count": 50,
     "metadata": {},
     "output_type": "execute_result"
    }
   ],
   "source": [
    "array2.itemsize"
   ]
  },
  {
   "cell_type": "markdown",
   "id": "4d6bf9c5",
   "metadata": {},
   "source": [
    "**4. Apply measure and describe the data (attributes and descriptive statistics) to above arrays using NumPy.**"
   ]
  },
  {
   "cell_type": "markdown",
   "id": "00a5691d",
   "metadata": {},
   "source": [
    "#### For arr1"
   ]
  },
  {
   "cell_type": "code",
   "execution_count": 261,
   "id": "8eba655a",
   "metadata": {},
   "outputs": [
    {
     "data": {
      "text/plain": [
       "array([[[[ 1,  2,  3],\n",
       "         [ 4,  5,  6],\n",
       "         [ 7,  8,  9],\n",
       "         [10, 11, 12]]]])"
      ]
     },
     "execution_count": 261,
     "metadata": {},
     "output_type": "execute_result"
    }
   ],
   "source": [
    "arr1"
   ]
  },
  {
   "cell_type": "markdown",
   "id": "cd505d24",
   "metadata": {},
   "source": [
    "Describe:\n",
    "    \n",
    "* Rows X columns = 4rows X 3columns\n",
    "* datatype = int32\n",
    "* outliers = 0\n",
    "* missing values =0"
   ]
  },
  {
   "cell_type": "markdown",
   "id": "7d3d26d7",
   "metadata": {},
   "source": [
    "**Measure of central tendency**"
   ]
  },
  {
   "cell_type": "code",
   "execution_count": 262,
   "id": "bfa32396",
   "metadata": {},
   "outputs": [
    {
     "data": {
      "text/plain": [
       "6.5"
      ]
     },
     "execution_count": 262,
     "metadata": {},
     "output_type": "execute_result"
    }
   ],
   "source": [
    "arr1.mean() #mean"
   ]
  },
  {
   "cell_type": "code",
   "execution_count": 263,
   "id": "be11edd7",
   "metadata": {},
   "outputs": [
    {
     "data": {
      "text/plain": [
       "6.5"
      ]
     },
     "execution_count": 263,
     "metadata": {},
     "output_type": "execute_result"
    }
   ],
   "source": [
    "np.median(arr1) #median"
   ]
  },
  {
   "cell_type": "markdown",
   "id": "6719de07",
   "metadata": {},
   "source": [
    "**Measure of spread**"
   ]
  },
  {
   "cell_type": "code",
   "execution_count": 264,
   "id": "a630ecc8",
   "metadata": {},
   "outputs": [
    {
     "data": {
      "text/plain": [
       "11"
      ]
     },
     "execution_count": 264,
     "metadata": {},
     "output_type": "execute_result"
    }
   ],
   "source": [
    "Range= arr1.max()-arr1.min()\n",
    "Range"
   ]
  },
  {
   "cell_type": "code",
   "execution_count": 265,
   "id": "d421d8f5",
   "metadata": {},
   "outputs": [
    {
     "data": {
      "text/plain": [
       "11"
      ]
     },
     "execution_count": 265,
     "metadata": {},
     "output_type": "execute_result"
    }
   ],
   "source": [
    "Range = np.max(arr1)-np.min(arr1)\n",
    "Range"
   ]
  },
  {
   "cell_type": "code",
   "execution_count": 266,
   "id": "515842df",
   "metadata": {},
   "outputs": [
    {
     "data": {
      "text/plain": [
       "11.916666666666666"
      ]
     },
     "execution_count": 266,
     "metadata": {},
     "output_type": "execute_result"
    }
   ],
   "source": [
    "np.var(arr1)"
   ]
  },
  {
   "cell_type": "code",
   "execution_count": 267,
   "id": "8f0c75df",
   "metadata": {},
   "outputs": [
    {
     "data": {
      "text/plain": [
       "3.452052529534663"
      ]
     },
     "execution_count": 267,
     "metadata": {},
     "output_type": "execute_result"
    }
   ],
   "source": [
    "np.std(arr1)"
   ]
  },
  {
   "cell_type": "markdown",
   "id": "505c4d48",
   "metadata": {},
   "source": [
    "**IQR**"
   ]
  },
  {
   "cell_type": "code",
   "execution_count": 268,
   "id": "d2b9a7f0",
   "metadata": {},
   "outputs": [
    {
     "data": {
      "text/plain": [
       "3.75"
      ]
     },
     "execution_count": 268,
     "metadata": {},
     "output_type": "execute_result"
    }
   ],
   "source": [
    "Q1= np.percentile(arr1,25)\n",
    "Q1"
   ]
  },
  {
   "cell_type": "code",
   "execution_count": 269,
   "id": "d09baa2c",
   "metadata": {},
   "outputs": [
    {
     "data": {
      "text/plain": [
       "6.5"
      ]
     },
     "execution_count": 269,
     "metadata": {},
     "output_type": "execute_result"
    }
   ],
   "source": [
    "Q2= np.percentile(arr1,50)\n",
    "Q2"
   ]
  },
  {
   "cell_type": "code",
   "execution_count": 73,
   "id": "5b0e87de",
   "metadata": {},
   "outputs": [
    {
     "data": {
      "text/plain": [
       "9.25"
      ]
     },
     "execution_count": 73,
     "metadata": {},
     "output_type": "execute_result"
    }
   ],
   "source": [
    "Q3= np.percentile(arr1,75)\n",
    "Q3"
   ]
  },
  {
   "cell_type": "code",
   "execution_count": 75,
   "id": "d6f64d9c",
   "metadata": {},
   "outputs": [
    {
     "data": {
      "text/plain": [
       "5.5"
      ]
     },
     "execution_count": 75,
     "metadata": {},
     "output_type": "execute_result"
    }
   ],
   "source": [
    "IQR = Q3-Q1\n",
    "IQR"
   ]
  },
  {
   "cell_type": "code",
   "execution_count": 77,
   "id": "a2e0b0e1",
   "metadata": {},
   "outputs": [
    {
     "data": {
      "text/plain": [
       "-4.5"
      ]
     },
     "execution_count": 77,
     "metadata": {},
     "output_type": "execute_result"
    }
   ],
   "source": [
    "lower = Q1-(1.5*IQR)\n",
    "lower"
   ]
  },
  {
   "cell_type": "code",
   "execution_count": 78,
   "id": "dbff1edd",
   "metadata": {},
   "outputs": [
    {
     "data": {
      "text/plain": [
       "17.5"
      ]
     },
     "execution_count": 78,
     "metadata": {},
     "output_type": "execute_result"
    }
   ],
   "source": [
    "upper = Q3+(1.5*IQR)\n",
    "upper"
   ]
  },
  {
   "cell_type": "code",
   "execution_count": 84,
   "id": "5ada2904",
   "metadata": {},
   "outputs": [
    {
     "name": "stdout",
     "output_type": "stream",
     "text": [
      "[]\n",
      "[]\n"
     ]
    }
   ],
   "source": [
    "print(arr1[arr1>upper])      #Outlier = no outliers\n",
    "\n",
    "print(arr1[arr1<lower])"
   ]
  },
  {
   "cell_type": "markdown",
   "id": "dcb14681",
   "metadata": {},
   "source": [
    "#### For array2"
   ]
  },
  {
   "cell_type": "code",
   "execution_count": 151,
   "id": "be7882ce",
   "metadata": {},
   "outputs": [
    {
     "data": {
      "text/plain": [
       "array([ 1.        ,  1.63157895,  2.26315789,  2.89473684,  3.52631579,\n",
       "        4.15789474,  4.78947368,  5.42105263,  6.05263158,  6.68421053,\n",
       "        7.31578947,  7.94736842,  8.57894737,  9.21052632,  9.84210526,\n",
       "       10.47368421, 11.10526316, 11.73684211, 12.36842105, 13.        ])"
      ]
     },
     "execution_count": 151,
     "metadata": {},
     "output_type": "execute_result"
    }
   ],
   "source": [
    "array2 = np.linspace(1,13,20)\n",
    "array2"
   ]
  },
  {
   "cell_type": "markdown",
   "id": "bd3eb6f4",
   "metadata": {},
   "source": [
    "**Describe**\n",
    "\n",
    "* rows x columns = 4rows X 5column\n",
    "* datatype = float64\n",
    "* missing values = 0\n",
    "* outliers= 0"
   ]
  },
  {
   "cell_type": "markdown",
   "id": "e3e69ee0",
   "metadata": {},
   "source": [
    "**Measure of central tendency**"
   ]
  },
  {
   "cell_type": "code",
   "execution_count": 87,
   "id": "b11fe4a4",
   "metadata": {},
   "outputs": [
    {
     "data": {
      "text/plain": [
       "7.0"
      ]
     },
     "execution_count": 87,
     "metadata": {},
     "output_type": "execute_result"
    }
   ],
   "source": [
    "#Mean\n",
    "\n",
    "array2.mean()"
   ]
  },
  {
   "cell_type": "code",
   "execution_count": 88,
   "id": "e096b962",
   "metadata": {},
   "outputs": [
    {
     "data": {
      "text/plain": [
       "7.0"
      ]
     },
     "execution_count": 88,
     "metadata": {},
     "output_type": "execute_result"
    }
   ],
   "source": [
    "#Meadian\n",
    "\n",
    "np.median(array2)"
   ]
  },
  {
   "cell_type": "markdown",
   "id": "d286e370",
   "metadata": {},
   "source": [
    "**Measure of spread**"
   ]
  },
  {
   "cell_type": "code",
   "execution_count": 89,
   "id": "970da125",
   "metadata": {},
   "outputs": [
    {
     "data": {
      "text/plain": [
       "12.0"
      ]
     },
     "execution_count": 89,
     "metadata": {},
     "output_type": "execute_result"
    }
   ],
   "source": [
    "#range\n",
    "\n",
    "Range = max(array2)- min(array2)\n",
    "Range"
   ]
  },
  {
   "cell_type": "code",
   "execution_count": 90,
   "id": "c25c1140",
   "metadata": {},
   "outputs": [
    {
     "data": {
      "text/plain": [
       "13.263157894736839"
      ]
     },
     "execution_count": 90,
     "metadata": {},
     "output_type": "execute_result"
    }
   ],
   "source": [
    "#variance\n",
    "\n",
    "np.var(array2)"
   ]
  },
  {
   "cell_type": "code",
   "execution_count": 91,
   "id": "0a35f14f",
   "metadata": {},
   "outputs": [
    {
     "data": {
      "text/plain": [
       "3.6418618720013036"
      ]
     },
     "execution_count": 91,
     "metadata": {},
     "output_type": "execute_result"
    }
   ],
   "source": [
    "#standard deviation\n",
    "\n",
    "np.std(array2)"
   ]
  },
  {
   "cell_type": "markdown",
   "id": "5a9bc368",
   "metadata": {},
   "source": [
    "**IQR**"
   ]
  },
  {
   "cell_type": "code",
   "execution_count": 93,
   "id": "9c681cf2",
   "metadata": {},
   "outputs": [
    {
     "data": {
      "text/plain": [
       "4.0"
      ]
     },
     "execution_count": 93,
     "metadata": {},
     "output_type": "execute_result"
    }
   ],
   "source": [
    "Q1 = np.percentile(array2,25)\n",
    "Q1"
   ]
  },
  {
   "cell_type": "code",
   "execution_count": 94,
   "id": "c529a5d5",
   "metadata": {},
   "outputs": [
    {
     "data": {
      "text/plain": [
       "7.0"
      ]
     },
     "execution_count": 94,
     "metadata": {},
     "output_type": "execute_result"
    }
   ],
   "source": [
    "Q2 = np.percentile(array2,50)\n",
    "Q2"
   ]
  },
  {
   "cell_type": "code",
   "execution_count": 95,
   "id": "51c39db8",
   "metadata": {},
   "outputs": [
    {
     "data": {
      "text/plain": [
       "10.0"
      ]
     },
     "execution_count": 95,
     "metadata": {},
     "output_type": "execute_result"
    }
   ],
   "source": [
    "Q3 = np.percentile(array2,75)\n",
    "Q3"
   ]
  },
  {
   "cell_type": "code",
   "execution_count": 96,
   "id": "967d0f01",
   "metadata": {},
   "outputs": [
    {
     "data": {
      "text/plain": [
       "6.0"
      ]
     },
     "execution_count": 96,
     "metadata": {},
     "output_type": "execute_result"
    }
   ],
   "source": [
    "IQR = Q3-Q1\n",
    "IQR"
   ]
  },
  {
   "cell_type": "code",
   "execution_count": 97,
   "id": "6708e14c",
   "metadata": {},
   "outputs": [
    {
     "data": {
      "text/plain": [
       "-5.0"
      ]
     },
     "execution_count": 97,
     "metadata": {},
     "output_type": "execute_result"
    }
   ],
   "source": [
    "lower_limits = Q1- (1.5 * IQR)\n",
    "lower_limits"
   ]
  },
  {
   "cell_type": "code",
   "execution_count": 98,
   "id": "33103f6c",
   "metadata": {},
   "outputs": [
    {
     "data": {
      "text/plain": [
       "19.0"
      ]
     },
     "execution_count": 98,
     "metadata": {},
     "output_type": "execute_result"
    }
   ],
   "source": [
    "upper_limits = Q3 + (1.5 * IQR)\n",
    "upper_limits"
   ]
  },
  {
   "cell_type": "code",
   "execution_count": 99,
   "id": "aab18675",
   "metadata": {},
   "outputs": [
    {
     "name": "stdout",
     "output_type": "stream",
     "text": [
      "[]\n",
      "[]\n"
     ]
    }
   ],
   "source": [
    "print(array2[array2>upper])      #Outlier = no outliers\n",
    "\n",
    "print(array2[array2<lower])"
   ]
  },
  {
   "cell_type": "markdown",
   "id": "026a2b39",
   "metadata": {},
   "source": [
    "**Array Slicing and Indexing:**\n",
    "\n",
    "a. Creating Arrays:\n",
    "   \n",
    "   - Create a 1-dimensional NumPy array  arr1 with the values [0, 11, 26, 73, 42, 51, 6,77, 8,29].\n",
    "   - Create a 2-dimensional NumPy array  arr2  with the values  [[0, 1, 2], [3, 4, 5], [6, 7, 8]].\n",
    "      \n",
    "b.Basic Indexing:\n",
    " \n",
    "   - Print the element at index 3 of  arr1.\n",
    "   - Print the element at row 2, column 1 of  arr2\n",
    "\n",
    "c. Array Slicing:\n",
    "   \n",
    "   - Print the first five elements of arr1.\n",
    "   - Print the subarray of `arr2` consisting of the last two rows and the first two columns.\n",
    "   - Print every second element starting from index 1 up to index 7 of arr1.\n"
   ]
  },
  {
   "cell_type": "code",
   "execution_count": 106,
   "id": "1973bb97",
   "metadata": {},
   "outputs": [],
   "source": [
    "arr1= np.array([0, 11, 26, 73, 42, 51, 6,77, 8,29])\n",
    "arr2=np.array([[0, 1, 2], [3, 4, 5], [6, 7, 8]])"
   ]
  },
  {
   "cell_type": "code",
   "execution_count": 101,
   "id": "45f3a18f",
   "metadata": {},
   "outputs": [
    {
     "data": {
      "text/plain": [
       "26"
      ]
     },
     "execution_count": 101,
     "metadata": {},
     "output_type": "execute_result"
    }
   ],
   "source": [
    "arr1[2]"
   ]
  },
  {
   "cell_type": "code",
   "execution_count": 108,
   "id": "25d95232",
   "metadata": {},
   "outputs": [
    {
     "data": {
      "text/plain": [
       "4"
      ]
     },
     "execution_count": 108,
     "metadata": {},
     "output_type": "execute_result"
    }
   ],
   "source": [
    "arr2[1][1]"
   ]
  },
  {
   "cell_type": "code",
   "execution_count": 112,
   "id": "0941d0d1",
   "metadata": {},
   "outputs": [
    {
     "data": {
      "text/plain": [
       "array([ 0, 11, 26, 73, 42])"
      ]
     },
     "execution_count": 112,
     "metadata": {},
     "output_type": "execute_result"
    }
   ],
   "source": [
    "arr1[:5]"
   ]
  },
  {
   "cell_type": "code",
   "execution_count": 137,
   "id": "b7227a78",
   "metadata": {},
   "outputs": [
    {
     "data": {
      "text/plain": [
       "array([[3, 4],\n",
       "       [6, 7]])"
      ]
     },
     "execution_count": 137,
     "metadata": {},
     "output_type": "execute_result"
    }
   ],
   "source": [
    "arr2[1:,0:2]"
   ]
  },
  {
   "cell_type": "code",
   "execution_count": 139,
   "id": "606d217e",
   "metadata": {},
   "outputs": [
    {
     "data": {
      "text/plain": [
       "array([11, 73, 51])"
      ]
     },
     "execution_count": 139,
     "metadata": {},
     "output_type": "execute_result"
    }
   ],
   "source": [
    "arr1[1:7:2]"
   ]
  },
  {
   "cell_type": "markdown",
   "id": "7d19d7ae",
   "metadata": {},
   "source": [
    "**Data Type Manipulation**\n",
    "\n",
    "a. Creating Arrays with Specific Data Types:\n",
    "   \n",
    "   - Create a 1-dimensional NumPy array `int_array` with the values `[1, 2, 3, 4, 5]` and the data type `int16`.\n",
    "   - Create a 1-dimensional NumPy array `float_array` with the values `[0.1, 0.2, 0.3, 0.4, 0.5]` and the data type `float64`."
   ]
  },
  {
   "cell_type": "code",
   "execution_count": 147,
   "id": "08dd0df0",
   "metadata": {},
   "outputs": [
    {
     "name": "stdout",
     "output_type": "stream",
     "text": [
      "int16\n",
      "float64\n"
     ]
    }
   ],
   "source": [
    "int_array= np.array([1, 2, 3, 4, 5],dtype= \"int16\")\n",
    "float_array= np.array([0.1, 0.2, 0.3, 0.4, 0.5])\n",
    "print(int_array.dtype)\n",
    "print(float_array.dtype)"
   ]
  },
  {
   "cell_type": "markdown",
   "id": "6b2d8695",
   "metadata": {},
   "source": [
    "b. Data Type Conversion:\n",
    "   \n",
    "   - Convert the `float_array` to an array with data type `int32`. Print the result.\n",
    "   - Convert the `int_array` to an array with data type `float32`. Print the result."
   ]
  },
  {
   "cell_type": "code",
   "execution_count": 145,
   "id": "e0e561e2",
   "metadata": {},
   "outputs": [
    {
     "data": {
      "text/plain": [
       "dtype('int32')"
      ]
     },
     "execution_count": 145,
     "metadata": {},
     "output_type": "execute_result"
    }
   ],
   "source": [
    "a= np.array(int_array,dtype=\"int32\")\n",
    "a.dtype"
   ]
  },
  {
   "cell_type": "code",
   "execution_count": 149,
   "id": "48b2ccb0",
   "metadata": {},
   "outputs": [
    {
     "data": {
      "text/plain": [
       "dtype('float32')"
      ]
     },
     "execution_count": 149,
     "metadata": {},
     "output_type": "execute_result"
    }
   ],
   "source": [
    "b= np.array(float_array,dtype=\"float32\")\n",
    "b.dtype"
   ]
  },
  {
   "cell_type": "markdown",
   "id": "7889108f",
   "metadata": {},
   "source": [
    "**Generating Random Numbers:**\n",
    "\n",
    "1.\tUse numpy.random.randint() to create an array rand_integers containing 10 random integers between 0 and 100 (inclusive).\n"
   ]
  },
  {
   "cell_type": "code",
   "execution_count": 154,
   "id": "b24ca39f",
   "metadata": {},
   "outputs": [
    {
     "data": {
      "text/plain": [
       "array([84, 45, 18, 47, 17, 36, 21,  6, 53, 48])"
      ]
     },
     "execution_count": 154,
     "metadata": {},
     "output_type": "execute_result"
    }
   ],
   "source": [
    "rand_integers= np.random.randint(0,101,10)\n",
    "rand_integers"
   ]
  },
  {
   "cell_type": "markdown",
   "id": "9298c6c7",
   "metadata": {},
   "source": [
    "2.\tUse numpy.random.uniform() to create an array rand_uniform containing 5 random numbers sampled from a uniform distribution between -1 and 1."
   ]
  },
  {
   "cell_type": "code",
   "execution_count": 156,
   "id": "592cf1f4",
   "metadata": {},
   "outputs": [
    {
     "data": {
      "text/plain": [
       "array([ 0.86487611, -0.31051501, -0.59137934, -0.99224823, -0.54941451])"
      ]
     },
     "execution_count": 156,
     "metadata": {},
     "output_type": "execute_result"
    }
   ],
   "source": [
    "rand_uniform= np.random.uniform(-1,1,5)\n",
    "rand_uniform"
   ]
  },
  {
   "cell_type": "markdown",
   "id": "c3d5a6ab",
   "metadata": {},
   "source": [
    "3. Create an array rand_matrix with random integers between 50 and 100 (inclusive).and reshape it to 2-dimensional (4 x 4) matrix."
   ]
  },
  {
   "cell_type": "code",
   "execution_count": 166,
   "id": "e224fe58",
   "metadata": {},
   "outputs": [
    {
     "data": {
      "text/plain": [
       "array([[98, 60, 96, 90],\n",
       "       [96, 63, 94, 52],\n",
       "       [68, 63, 50, 56],\n",
       "       [68, 67, 82, 63]])"
      ]
     },
     "execution_count": 166,
     "metadata": {},
     "output_type": "execute_result"
    }
   ],
   "source": [
    "rand_matrix = np.random.randint(50,100,16).reshape(4,4)\n",
    "rand_matrix"
   ]
  },
  {
   "cell_type": "markdown",
   "id": "85b6fec3",
   "metadata": {},
   "source": [
    "**4.\tApply descriptive statistics for rand_matrix.**"
   ]
  },
  {
   "cell_type": "markdown",
   "id": "132766ad",
   "metadata": {},
   "source": [
    "**measure of central tendency**"
   ]
  },
  {
   "cell_type": "code",
   "execution_count": 168,
   "id": "dd13a625",
   "metadata": {},
   "outputs": [
    {
     "data": {
      "text/plain": [
       "72.875"
      ]
     },
     "execution_count": 168,
     "metadata": {},
     "output_type": "execute_result"
    }
   ],
   "source": [
    "rand_matrix.mean()    #mean"
   ]
  },
  {
   "cell_type": "code",
   "execution_count": 170,
   "id": "147b2496",
   "metadata": {},
   "outputs": [
    {
     "data": {
      "text/plain": [
       "67.5"
      ]
     },
     "execution_count": 170,
     "metadata": {},
     "output_type": "execute_result"
    }
   ],
   "source": [
    "np.median(rand_matrix)   #median"
   ]
  },
  {
   "cell_type": "markdown",
   "id": "ad42d703",
   "metadata": {},
   "source": [
    "**Measure of spread**"
   ]
  },
  {
   "cell_type": "code",
   "execution_count": 171,
   "id": "783b4bb0",
   "metadata": {},
   "outputs": [
    {
     "data": {
      "text/plain": [
       "48"
      ]
     },
     "execution_count": 171,
     "metadata": {},
     "output_type": "execute_result"
    }
   ],
   "source": [
    "Range = np.max(rand_matrix)-np.min(rand_matrix)\n",
    "Range"
   ]
  },
  {
   "cell_type": "code",
   "execution_count": 172,
   "id": "3304e12f",
   "metadata": {},
   "outputs": [
    {
     "data": {
      "text/plain": [
       "269.234375"
      ]
     },
     "execution_count": 172,
     "metadata": {},
     "output_type": "execute_result"
    }
   ],
   "source": [
    "np.var(rand_matrix)   #variance"
   ]
  },
  {
   "cell_type": "code",
   "execution_count": 173,
   "id": "db7f711e",
   "metadata": {},
   "outputs": [
    {
     "data": {
      "text/plain": [
       "16.4083629591742"
      ]
     },
     "execution_count": 173,
     "metadata": {},
     "output_type": "execute_result"
    }
   ],
   "source": [
    "np.std(rand_matrix)    #standard deviation"
   ]
  },
  {
   "cell_type": "markdown",
   "id": "922bbac0",
   "metadata": {},
   "source": [
    "#### IQR"
   ]
  },
  {
   "cell_type": "code",
   "execution_count": 176,
   "id": "99d3c169",
   "metadata": {},
   "outputs": [
    {
     "data": {
      "text/plain": [
       "62.25"
      ]
     },
     "execution_count": 176,
     "metadata": {},
     "output_type": "execute_result"
    }
   ],
   "source": [
    "Q1= np.percentile(rand_matrix,25)\n",
    "Q1"
   ]
  },
  {
   "cell_type": "code",
   "execution_count": 177,
   "id": "c7e346b4",
   "metadata": {},
   "outputs": [
    {
     "data": {
      "text/plain": [
       "67.5"
      ]
     },
     "execution_count": 177,
     "metadata": {},
     "output_type": "execute_result"
    }
   ],
   "source": [
    "Q2= np.percentile(rand_matrix,50)\n",
    "Q2"
   ]
  },
  {
   "cell_type": "code",
   "execution_count": 178,
   "id": "0ba0b78c",
   "metadata": {},
   "outputs": [
    {
     "data": {
      "text/plain": [
       "91.0"
      ]
     },
     "execution_count": 178,
     "metadata": {},
     "output_type": "execute_result"
    }
   ],
   "source": [
    "Q3= np.percentile(rand_matrix,75)\n",
    "Q3"
   ]
  },
  {
   "cell_type": "code",
   "execution_count": 179,
   "id": "5ad71c0c",
   "metadata": {},
   "outputs": [
    {
     "data": {
      "text/plain": [
       "28.75"
      ]
     },
     "execution_count": 179,
     "metadata": {},
     "output_type": "execute_result"
    }
   ],
   "source": [
    "IQR= Q3-Q1\n",
    "IQR"
   ]
  },
  {
   "cell_type": "code",
   "execution_count": 181,
   "id": "02e561a9",
   "metadata": {},
   "outputs": [
    {
     "data": {
      "text/plain": [
       "19.125"
      ]
     },
     "execution_count": 181,
     "metadata": {},
     "output_type": "execute_result"
    }
   ],
   "source": [
    "Lower_limit = Q1-(1.5*IQR)\n",
    "Lower_limit"
   ]
  },
  {
   "cell_type": "code",
   "execution_count": 183,
   "id": "cd08b26b",
   "metadata": {},
   "outputs": [
    {
     "data": {
      "text/plain": [
       "134.125"
      ]
     },
     "execution_count": 183,
     "metadata": {},
     "output_type": "execute_result"
    }
   ],
   "source": [
    "Upper_limit= Q3+(1.5*IQR)\n",
    "Upper_limit"
   ]
  },
  {
   "cell_type": "code",
   "execution_count": 187,
   "id": "edbb0679",
   "metadata": {},
   "outputs": [
    {
     "name": "stdout",
     "output_type": "stream",
     "text": [
      "[]\n",
      "[]\n"
     ]
    }
   ],
   "source": [
    "print(rand_matrix[rand_matrix > Upper_limit])  #Outliers = No outliers\n",
    "print(rand_matrix[rand_matrix < Lower_limit])"
   ]
  },
  {
   "cell_type": "markdown",
   "id": "afdd1c7f",
   "metadata": {},
   "source": [
    "**Analyze the Data:**\n",
    "\n",
    "Salaries = [87877, 54494, 54804, 85051, 52453, 31250, 94868, 66349, 39828, 60501, 58570, 74906, 41671, 51428, 56414, 98446, 56819, 82833, 50477, 62898, 99658, 89224, 34225, 79172, 32199, 63795, 90947, 55723, 64557, 3113638]\n",
    "\n",
    "\n",
    "\n",
    "\n",
    "Describe the data using numpy array.\n",
    "Measure the following:\n",
    "\n",
    "1.\tHow many employees are getting more less than 50000?\n",
    "\n",
    "2.\tIs it following Normal Distribution?\n",
    "\n",
    "3.\tWhat is the median salary?\n",
    "\n",
    "4.\tWhat is the range of salaries for this company?\n",
    "\n",
    "5.\tFind the salaries between average salary and 75% of salaries?\n",
    "\n",
    "6.\tHow many employees are getting less than 25 % of salaries ?"
   ]
  },
  {
   "cell_type": "code",
   "execution_count": 252,
   "id": "b82df399",
   "metadata": {},
   "outputs": [],
   "source": [
    "Salaries = [87877, 54494, 54804, 85051, 52453, 31250, 94868, 66349, 39828, 60501, 58570, 74906, 41671, 51428, 56414, 98446, 56819, 82833, 50477, 62898, 99658, 89224, 34225, 79172, 32199, 63795, 90947, 55723, 64557, 3113638]"
   ]
  },
  {
   "cell_type": "code",
   "execution_count": 253,
   "id": "9787ac41",
   "metadata": {},
   "outputs": [
    {
     "data": {
      "text/plain": [
       "array([  87877,   54494,   54804,   85051,   52453,   31250,   94868,\n",
       "         66349,   39828,   60501,   58570,   74906,   41671,   51428,\n",
       "         56414,   98446,   56819,   82833,   50477,   62898,   99658,\n",
       "         89224,   34225,   79172,   32199,   63795,   90947,   55723,\n",
       "         64557, 3113638])"
      ]
     },
     "execution_count": 253,
     "metadata": {},
     "output_type": "execute_result"
    }
   ],
   "source": [
    "sal = np.array(Salaries)\n",
    "sal"
   ]
  },
  {
   "cell_type": "code",
   "execution_count": 254,
   "id": "f0b1f0a0",
   "metadata": {},
   "outputs": [
    {
     "data": {
      "text/plain": [
       "5"
      ]
     },
     "execution_count": 254,
     "metadata": {},
     "output_type": "execute_result"
    }
   ],
   "source": [
    "len(sal[sal<50000])"
   ]
  },
  {
   "cell_type": "code",
   "execution_count": 255,
   "id": "8f05a553",
   "metadata": {},
   "outputs": [
    {
     "data": {
      "text/plain": [
       "61699.5"
      ]
     },
     "execution_count": 255,
     "metadata": {},
     "output_type": "execute_result"
    }
   ],
   "source": [
    "np.median(sal)"
   ]
  },
  {
   "cell_type": "code",
   "execution_count": 256,
   "id": "d9d89d6d",
   "metadata": {},
   "outputs": [
    {
     "data": {
      "text/plain": [
       "3082388"
      ]
     },
     "execution_count": 256,
     "metadata": {},
     "output_type": "execute_result"
    }
   ],
   "source": [
    "Range= max(sal)- min(sal)\n",
    "Range"
   ]
  },
  {
   "cell_type": "code",
   "execution_count": 275,
   "id": "cdb882cb",
   "metadata": {},
   "outputs": [
    {
     "name": "stdout",
     "output_type": "stream",
     "text": [
      "84496.5\n",
      "166169.16666666666\n"
     ]
    }
   ],
   "source": [
    "Q3= np.percentile(sal,75)\n",
    "m = np.mean(sal)\n",
    "print(Q3)\n",
    "print(m)"
   ]
  },
  {
   "cell_type": "code",
   "execution_count": 278,
   "id": "27806dd4",
   "metadata": {},
   "outputs": [
    {
     "data": {
      "text/plain": [
       "array([], dtype=int32)"
      ]
     },
     "execution_count": 278,
     "metadata": {},
     "output_type": "execute_result"
    }
   ],
   "source": [
    "sal= sal[(sal > m) & (sal <=Q3)]\n",
    "sal"
   ]
  },
  {
   "cell_type": "code",
   "execution_count": 249,
   "id": "9c873b49",
   "metadata": {},
   "outputs": [
    {
     "data": {
      "text/plain": [
       "8"
      ]
     },
     "execution_count": 249,
     "metadata": {},
     "output_type": "execute_result"
    }
   ],
   "source": [
    "Q1= np.percentile(sal,25)\n",
    "len(sal[sal<Q1])"
   ]
  },
  {
   "cell_type": "code",
   "execution_count": null,
   "id": "c9b67733",
   "metadata": {},
   "outputs": [],
   "source": []
  }
 ],
 "metadata": {
  "kernelspec": {
   "display_name": "Python 3 (ipykernel)",
   "language": "python",
   "name": "python3"
  },
  "language_info": {
   "codemirror_mode": {
    "name": "ipython",
    "version": 3
   },
   "file_extension": ".py",
   "mimetype": "text/x-python",
   "name": "python",
   "nbconvert_exporter": "python",
   "pygments_lexer": "ipython3",
   "version": "3.11.4"
  }
 },
 "nbformat": 4,
 "nbformat_minor": 5
}
