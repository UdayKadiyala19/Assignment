{
 "cells": [
  {
   "cell_type": "markdown",
   "id": "b24867f7",
   "metadata": {},
   "source": [
    "1. Ask user to  enter a  website name and check whether it is valid or not(True/False)\n",
    "\n",
    "\n",
    "2. name = \"Innomatics\", course = \"Data Science\"\n",
    "   write python code in `different ways` to show output as :\n",
    "   `\"Hello World I am learning Data Science in Innomatics\"`\n",
    "   \n",
    "   \n",
    "3. Replace `Science` with `Analysis` in the above output.\n",
    "\n",
    "\n",
    "4. `string = '     Hello World I am learning Python in Innomatics   '`\n",
    "    a. How many characters are there in the string.\n",
    "    b. Slice only 'Python' from above string\n",
    "    c. Remove white spaces on both sides then find no.of characters in the string.\n",
    "    d. Convert the string in Upper case\n",
    "    \n",
    "    \n",
    "5. What is the index number of 'World' in above string.\n",
    "\n",
    "\n",
    "6. Split the string with respect to `whitespace`.after that `store` that splitted into a variable and find the `data type`of that variable.\n",
    "\n",
    "\n",
    "7. How many times 'a' is `repeated` in above string.\n"
   ]
  },
  {
   "cell_type": "markdown",
   "id": "60195542",
   "metadata": {},
   "source": [
    "**1.** Ask user to  enter a  website name and check whether it is valid or not(True/False)"
   ]
  },
  {
   "cell_type": "code",
   "execution_count": 1,
   "id": "72b5e955",
   "metadata": {},
   "outputs": [
    {
     "name": "stdout",
     "output_type": "stream",
     "text": [
      "Enter website name:www.google.com\n"
     ]
    }
   ],
   "source": [
    "website_name= input(\"Enter website name:\")"
   ]
  },
  {
   "cell_type": "code",
   "execution_count": 3,
   "id": "f9e1405b",
   "metadata": {},
   "outputs": [
    {
     "name": "stdout",
     "output_type": "stream",
     "text": [
      "True\n",
      "True\n"
     ]
    }
   ],
   "source": [
    "print(website_name.startswith(\"www.\"))\n",
    "print(website_name.endswith(\".com\"))"
   ]
  },
  {
   "cell_type": "markdown",
   "id": "2704920c",
   "metadata": {},
   "source": [
    "**2.** name = \"Innomatics\", course = \"Data Science\"\n",
    "   write python code in `different ways` to show output as :\n",
    "   `\"Hello World I am learning Data Science in Innomatics\"`"
   ]
  },
  {
   "cell_type": "code",
   "execution_count": 5,
   "id": "86ba5eef",
   "metadata": {},
   "outputs": [
    {
     "name": "stdout",
     "output_type": "stream",
     "text": [
      "Hello world I am learning Data Science in Innomatics\n"
     ]
    }
   ],
   "source": [
    "name = \"Innomatics\"\n",
    "course = \"Data Science\"\n",
    "print(\"Hello world I am learning \"+course+\" in \"+name)"
   ]
  },
  {
   "cell_type": "code",
   "execution_count": 6,
   "id": "d93d8a5b",
   "metadata": {},
   "outputs": [
    {
     "name": "stdout",
     "output_type": "stream",
     "text": [
      "Hello world I am learning  Data Science  in  Innomatics\n"
     ]
    }
   ],
   "source": [
    "name = \"Innomatics\"\n",
    "course = \"Data Science\"\n",
    "print(\"Hello world I am learning \",course,\" in \",name)"
   ]
  },
  {
   "cell_type": "code",
   "execution_count": 7,
   "id": "15165975",
   "metadata": {},
   "outputs": [
    {
     "name": "stdout",
     "output_type": "stream",
     "text": [
      "Hello world I am learning Data Science in Innomatics\n"
     ]
    }
   ],
   "source": [
    "name = \"Innomatics\"\n",
    "course = \"Data Science\"\n",
    "print(\"Hello world I am learning {} in {}\".format(course,name))"
   ]
  },
  {
   "cell_type": "code",
   "execution_count": 8,
   "id": "9c4cbda3",
   "metadata": {},
   "outputs": [
    {
     "name": "stdout",
     "output_type": "stream",
     "text": [
      "Hello world I am learning Data Science in Innomatics\n"
     ]
    }
   ],
   "source": [
    "name = \"Innomatics\"\n",
    "course = \"Data Science\"\n",
    "print(f\"Hello world I am learning {course} in {name}\")"
   ]
  },
  {
   "cell_type": "markdown",
   "id": "37a35d32",
   "metadata": {},
   "source": [
    "**3.** Replace `Science` with `Analysis` in the above output."
   ]
  },
  {
   "cell_type": "code",
   "execution_count": 11,
   "id": "cb347240",
   "metadata": {},
   "outputs": [],
   "source": [
    "name = \"Innomatics\"\n",
    "course = \"Data Science\"\n",
    "X=(f\"Hello world I am learning {course} in {name}\")"
   ]
  },
  {
   "cell_type": "code",
   "execution_count": 13,
   "id": "eb332783",
   "metadata": {},
   "outputs": [
    {
     "data": {
      "text/plain": [
       "'Hello world I am learning Data Analysis in Innomatics'"
      ]
     },
     "execution_count": 13,
     "metadata": {},
     "output_type": "execute_result"
    }
   ],
   "source": [
    "X.replace(\"Science\",\"Analysis\")"
   ]
  },
  {
   "cell_type": "markdown",
   "id": "d9d0f83d",
   "metadata": {},
   "source": [
    "**4.** `string = '     Hello World I am learning Python in Innomatics   '`\n",
    "    a. How many characters are there in the string.\n",
    "    b. Slice only 'Python' from above string\n",
    "    c. Remove white spaces on both sides then find no.of characters in the string.\n",
    "    d. Convert the string in Upper case\n",
    "    "
   ]
  },
  {
   "cell_type": "code",
   "execution_count": 14,
   "id": "37c880d4",
   "metadata": {},
   "outputs": [],
   "source": [
    "string = '     Hello World I am learning Python in Innomatics   '"
   ]
  },
  {
   "cell_type": "code",
   "execution_count": 15,
   "id": "358e189f",
   "metadata": {},
   "outputs": [
    {
     "data": {
      "text/plain": [
       "54"
      ]
     },
     "execution_count": 15,
     "metadata": {},
     "output_type": "execute_result"
    }
   ],
   "source": [
    "len(string)"
   ]
  },
  {
   "cell_type": "code",
   "execution_count": 18,
   "id": "95606097",
   "metadata": {},
   "outputs": [
    {
     "data": {
      "text/plain": [
       "'Python'"
      ]
     },
     "execution_count": 18,
     "metadata": {},
     "output_type": "execute_result"
    }
   ],
   "source": [
    "string[-23:-17:]"
   ]
  },
  {
   "cell_type": "code",
   "execution_count": 21,
   "id": "536fa9e1",
   "metadata": {},
   "outputs": [
    {
     "data": {
      "text/plain": [
       "'Hello World I am learning Python in Innomatics'"
      ]
     },
     "execution_count": 21,
     "metadata": {},
     "output_type": "execute_result"
    }
   ],
   "source": [
    "WS= string.strip()\n",
    "WS"
   ]
  },
  {
   "cell_type": "code",
   "execution_count": 22,
   "id": "2260aac4",
   "metadata": {},
   "outputs": [
    {
     "data": {
      "text/plain": [
       "46"
      ]
     },
     "execution_count": 22,
     "metadata": {},
     "output_type": "execute_result"
    }
   ],
   "source": [
    "len(WS)"
   ]
  },
  {
   "cell_type": "code",
   "execution_count": 23,
   "id": "37b03a96",
   "metadata": {},
   "outputs": [
    {
     "data": {
      "text/plain": [
       "'     HELLO WORLD I AM LEARNING PYTHON IN INNOMATICS   '"
      ]
     },
     "execution_count": 23,
     "metadata": {},
     "output_type": "execute_result"
    }
   ],
   "source": [
    "string.upper()"
   ]
  },
  {
   "cell_type": "markdown",
   "id": "986bcfc6",
   "metadata": {},
   "source": [
    "**5.** What is the index number of 'World' in above string."
   ]
  },
  {
   "cell_type": "code",
   "execution_count": 26,
   "id": "6134d023",
   "metadata": {},
   "outputs": [
    {
     "data": {
      "text/plain": [
       "11"
      ]
     },
     "execution_count": 26,
     "metadata": {},
     "output_type": "execute_result"
    }
   ],
   "source": [
    "string.index(\"World\")"
   ]
  },
  {
   "cell_type": "markdown",
   "id": "b10a970f",
   "metadata": {},
   "source": [
    "**6.** Split the string with respect to `whitespace`.after that `store` that splitted into a variable and find the `data type`of that variable.\n"
   ]
  },
  {
   "cell_type": "code",
   "execution_count": 29,
   "id": "ef67f6e8",
   "metadata": {},
   "outputs": [
    {
     "data": {
      "text/plain": [
       "['',\n",
       " '',\n",
       " '',\n",
       " '',\n",
       " '',\n",
       " 'Hello',\n",
       " 'World',\n",
       " 'I',\n",
       " 'am',\n",
       " 'learning',\n",
       " 'Python',\n",
       " 'in',\n",
       " 'Innomatics',\n",
       " '',\n",
       " '',\n",
       " '']"
      ]
     },
     "execution_count": 29,
     "metadata": {},
     "output_type": "execute_result"
    }
   ],
   "source": [
    "A= string.split(\" \")\n",
    "A"
   ]
  },
  {
   "cell_type": "code",
   "execution_count": 30,
   "id": "0f00e735",
   "metadata": {},
   "outputs": [
    {
     "data": {
      "text/plain": [
       "list"
      ]
     },
     "execution_count": 30,
     "metadata": {},
     "output_type": "execute_result"
    }
   ],
   "source": [
    "type(A)"
   ]
  },
  {
   "cell_type": "markdown",
   "id": "d61ae04d",
   "metadata": {},
   "source": [
    "**7.** How many times 'a' is `repeated` in above string."
   ]
  },
  {
   "cell_type": "code",
   "execution_count": 32,
   "id": "fe8bcd83",
   "metadata": {},
   "outputs": [
    {
     "data": {
      "text/plain": [
       "3"
      ]
     },
     "execution_count": 32,
     "metadata": {},
     "output_type": "execute_result"
    }
   ],
   "source": [
    "string.count(\"a\")"
   ]
  }
 ],
 "metadata": {
  "kernelspec": {
   "display_name": "Python 3 (ipykernel)",
   "language": "python",
   "name": "python3"
  },
  "language_info": {
   "codemirror_mode": {
    "name": "ipython",
    "version": 3
   },
   "file_extension": ".py",
   "mimetype": "text/x-python",
   "name": "python",
   "nbconvert_exporter": "python",
   "pygments_lexer": "ipython3",
   "version": "3.11.4"
  }
 },
 "nbformat": 4,
 "nbformat_minor": 5
}
