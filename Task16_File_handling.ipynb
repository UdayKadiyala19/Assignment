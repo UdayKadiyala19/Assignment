{
 "cells": [
  {
   "cell_type": "markdown",
   "id": "c41da540",
   "metadata": {},
   "source": [
    "**Task 1:**\n",
    "\n",
    "1. Load the file 'about_python.txt'into your jupyter notebook. a. Correct wrong statements about python fatures b. How many charactaers present in the data c. How many times 'Python' word is repeated. d. after correcting all ..print complete valid features of the python.\n"
   ]
  },
  {
   "cell_type": "code",
   "execution_count": 74,
   "id": "70adbea9",
   "metadata": {},
   "outputs": [],
   "source": [
    "Python_File= open(\"about_python.txt\",\"r\")\n",
    "Features= Python_File.read()"
   ]
  },
  {
   "cell_type": "code",
   "execution_count": 75,
   "id": "8641be6b",
   "metadata": {},
   "outputs": [],
   "source": [
    "change1=Features.replace(\"compiled\",\"interpreted\")\n",
    "\n",
    "change2= change1.replace(\"paid\",\"free and open-source\")\n",
    "\n",
    "change3= change2.replace(\"statically\",\"dynamically\")\n",
    "\n",
    "change4= change3.replace(\"only supports\",\"supports single and\")\n",
    "\n",
    "change5= change4.replace(\"can only be used for web development.\",\"can be used for web development,machine learning and data science,etc.\")\n",
    "\n",
    "changes= change5.replace(\"Elon Musk\",\"Guido van Rossum\")"
   ]
  },
  {
   "cell_type": "code",
   "execution_count": 76,
   "id": "c012a942",
   "metadata": {},
   "outputs": [
    {
     "name": "stdout",
     "output_type": "stream",
     "text": [
      "Python supports object-oriented programming (OOP) concepts.\n",
      "Python is a interpreted language.\n",
      "Python has a rich ecosystem of third-party libraries.\n",
      "Python is a free and open-source programming language\n",
      "Python uses indentation for code block structuring.\n",
      "Python is dynamically Typed Language\n",
      "Python supports single and double quotes for string literals.\n",
      "Python can be used for web development,machine learning and data science,etc.\n",
      "Python was created by Guido van Rossum.\n"
     ]
    }
   ],
   "source": [
    "print(changes)"
   ]
  },
  {
   "cell_type": "markdown",
   "id": "07cbbed1",
   "metadata": {},
   "source": [
    "**b. How many charactaers present in the data**"
   ]
  },
  {
   "cell_type": "code",
   "execution_count": 44,
   "id": "1eb25a07",
   "metadata": {},
   "outputs": [
    {
     "data": {
      "text/plain": [
       "412"
      ]
     },
     "execution_count": 44,
     "metadata": {},
     "output_type": "execute_result"
    }
   ],
   "source": [
    "File.tell()"
   ]
  },
  {
   "cell_type": "markdown",
   "id": "2bdcb777",
   "metadata": {},
   "source": [
    "**c. How many times 'Python' word is repeated.**"
   ]
  },
  {
   "cell_type": "code",
   "execution_count": 45,
   "id": "599c5f94",
   "metadata": {},
   "outputs": [
    {
     "data": {
      "text/plain": [
       "9"
      ]
     },
     "execution_count": 45,
     "metadata": {},
     "output_type": "execute_result"
    }
   ],
   "source": [
    "Features.count(\"Python\")"
   ]
  },
  {
   "cell_type": "markdown",
   "id": "179b3792",
   "metadata": {},
   "source": [
    "**Task2:**\n",
    "\n",
    "2. Create a file 'File.txt'which expalains python handling whatever you have learnt today(creating,reading,wring and appending...etc) in detail.That reaload the saved file(i.e File.txt) to jupyter notebook."
   ]
  },
  {
   "cell_type": "code",
   "execution_count": 22,
   "id": "015adfc3",
   "metadata": {},
   "outputs": [],
   "source": [
    "file= open(\"File.txt\",\"w\")"
   ]
  },
  {
   "cell_type": "code",
   "execution_count": 23,
   "id": "a6ec3581",
   "metadata": {},
   "outputs": [
    {
     "data": {
      "text/plain": [
       "494"
      ]
     },
     "execution_count": 23,
     "metadata": {},
     "output_type": "execute_result"
    }
   ],
   "source": [
    "file.write(\"File handling- File handling means how we store the data in files.\\noperations in pyhton file handling are\\nopen- opening the file using open()\\ncreate- creating a file, if the file is created with existed filename it will throw an error.\\nread-reading file can show the existed text in the file.\\nwrite- writing in the file can overwrites the text in the file.\\nIf the file is not created, write function create the file and write in the file\\nappend- append used to join the data to the existed data\")"
   ]
  },
  {
   "cell_type": "code",
   "execution_count": 24,
   "id": "6a398825",
   "metadata": {},
   "outputs": [],
   "source": [
    "file.close()"
   ]
  },
  {
   "cell_type": "code",
   "execution_count": 25,
   "id": "3db823fe",
   "metadata": {},
   "outputs": [],
   "source": [
    "file= open(\"File.txt\",\"r\")"
   ]
  },
  {
   "cell_type": "code",
   "execution_count": 26,
   "id": "62ff26b1",
   "metadata": {},
   "outputs": [
    {
     "name": "stdout",
     "output_type": "stream",
     "text": [
      "File handling- File handling means how we store the data in files.\n",
      "operations in pyhton file handling are\n",
      "open- opening the file using open()\n",
      "create- creating a file, if the file is created with existed filename it will throw an error.\n",
      "read-reading file can show the existed text in the file.\n",
      "write- writing in the file can overwrites the text in the file.\n",
      "If the file is not created, write function create the file and write in the file\n",
      "append- append used to join the data to the existed data\n"
     ]
    }
   ],
   "source": [
    "print(file.read())"
   ]
  }
 ],
 "metadata": {
  "kernelspec": {
   "display_name": "Python 3 (ipykernel)",
   "language": "python",
   "name": "python3"
  },
  "language_info": {
   "codemirror_mode": {
    "name": "ipython",
    "version": 3
   },
   "file_extension": ".py",
   "mimetype": "text/x-python",
   "name": "python",
   "nbconvert_exporter": "python",
   "pygments_lexer": "ipython3",
   "version": "3.11.4"
  }
 },
 "nbformat": 4,
 "nbformat_minor": 5
}
