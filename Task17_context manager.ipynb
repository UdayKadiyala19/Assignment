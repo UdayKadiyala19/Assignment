{
 "cells": [
  {
   "cell_type": "markdown",
   "id": "8dc8a778",
   "metadata": {},
   "source": [
    "\n",
    "`use context manager`\n",
    "\n",
    "**Create a file**\n",
    "Write a Python program that creates a text file named \"data.txt\" and add data about python programming (should contain at least 5 lines)\n",
    "\n",
    "**Read and Display File Contents**\n",
    "Write a Python program that reads a text file named \"data.txt\" and displays its contents on the screen.\n",
    "\n",
    "**Count Words in a File**\n",
    "Write a Python program that reads a text file named \"data.txt\" and counts the total number of words in the file. Display the word count on the screen.\n",
    "\n",
    "**Search and Replace**\n",
    "Create a Python program that reads a text file named \"data.txt\" and asks the user to enter a word to search for. If the word is found in the file, replace all occurrences of the word with a new word provided by the user.\n",
    "\n",
    "**Append to a File**\n",
    "Write a Python program that prompts the user to enter a sentence. Append this sentence to an existing file named \"notes.txt\". Make sure the newly added sentence starts on a new line.\n",
    "\n",
    "\n"
   ]
  },
  {
   "cell_type": "markdown",
   "id": "a43af615",
   "metadata": {},
   "source": [
    "**Create a file**\n",
    "Write a Python program that creates a text file named \"data.txt\" and add data about python programming (should contain at least 5 lines)"
   ]
  },
  {
   "cell_type": "code",
   "execution_count": 22,
   "id": "19c2ecaa",
   "metadata": {},
   "outputs": [],
   "source": [
    "with open(\"data.txt\",\"w+\") as python:\n",
    "    python.write(\"Python is a high-level, general-purpose programming language.\\nIts design philosophy emphasizes code readability with the use of significant indentation.\\nPython is dynamically typed and garbage-collected.\\nIt supports multiple programming paradigms, including structured, object-oriented and functional programming.\\nPython is free and open-source language.\\nPython is an interpreted language.\")"
   ]
  },
  {
   "cell_type": "markdown",
   "id": "753930a6",
   "metadata": {},
   "source": [
    "**Read and Display File Contents**\n",
    "Write a Python program that reads a text file named \"data.txt\" and displays its contents on the screen."
   ]
  },
  {
   "cell_type": "code",
   "execution_count": 23,
   "id": "5b78d097",
   "metadata": {},
   "outputs": [
    {
     "name": "stdout",
     "output_type": "stream",
     "text": [
      "Python is a high-level, general-purpose programming language.\n",
      "Its design philosophy emphasizes code readability with the use of significant indentation.\n",
      "Python is dynamically typed and garbage-collected.\n",
      "It supports multiple programming paradigms, including structured, object-oriented and functional programming.\n",
      "Python is free and open-source language.\n",
      "Python is an interpreted language.\n"
     ]
    }
   ],
   "source": [
    "python= open(\"data.txt\")\n",
    "print(python.read())"
   ]
  },
  {
   "cell_type": "markdown",
   "id": "ef7f760f",
   "metadata": {},
   "source": [
    "**Count Words in a File**\n",
    "Write a Python program that reads a text file named \"data.txt\" and counts the total number of words in the file. Display the word count on the screen."
   ]
  },
  {
   "cell_type": "code",
   "execution_count": 32,
   "id": "4b949bb6",
   "metadata": {},
   "outputs": [],
   "source": [
    "with open(\"data.txt\",\"w+\") as python:\n",
    "    python.write(\"Python is a high-level, general-purpose programming language. Its design philosophy emphasizes code readability with the use of significant indentation. Python is dynamically typed and garbage-collected. It supports multiple programming paradigms, including structured, object-oriented and functional programming. Python is free and open-source language. Python is an interpreted language.\")"
   ]
  },
  {
   "cell_type": "code",
   "execution_count": 33,
   "id": "280d523f",
   "metadata": {},
   "outputs": [],
   "source": [
    "python= open(\"data.txt\")\n",
    "string= python.read()"
   ]
  },
  {
   "cell_type": "code",
   "execution_count": 35,
   "id": "cbc6af9f",
   "metadata": {},
   "outputs": [],
   "source": [
    "a=string.split()"
   ]
  },
  {
   "cell_type": "code",
   "execution_count": 39,
   "id": "62bbd24b",
   "metadata": {},
   "outputs": [
    {
     "name": "stdout",
     "output_type": "stream",
     "text": [
      "['Python', 'is', 'a', 'high-level,', 'general-purpose', 'programming', 'language.', 'Its', 'design', 'philosophy', 'emphasizes', 'code', 'readability', 'with', 'the', 'use', 'of', 'significant', 'indentation.', 'Python', 'is', 'dynamically', 'typed', 'and', 'garbage-collected.', 'It', 'supports', 'multiple', 'programming', 'paradigms,', 'including', 'structured,', 'object-oriented', 'and', 'functional', 'programming.', 'Python', 'is', 'free', 'and', 'open-source', 'language.', 'Python', 'is', 'an', 'interpreted', 'language.']\n"
     ]
    }
   ],
   "source": [
    "print(a)"
   ]
  },
  {
   "cell_type": "code",
   "execution_count": 40,
   "id": "378a21be",
   "metadata": {},
   "outputs": [
    {
     "data": {
      "text/plain": [
       "47"
      ]
     },
     "execution_count": 40,
     "metadata": {},
     "output_type": "execute_result"
    }
   ],
   "source": [
    "len(a)"
   ]
  },
  {
   "cell_type": "markdown",
   "id": "cc68c59f",
   "metadata": {},
   "source": [
    "**Search and Replace**\n",
    "Create a Python program that reads a text file named \"data.txt\" and asks the user to enter a word to search for. If the word is found in the file, replace all occurrences of the word with a new word provided by the user."
   ]
  },
  {
   "cell_type": "code",
   "execution_count": 44,
   "id": "bc44cee0",
   "metadata": {},
   "outputs": [],
   "source": [
    "with open(\"data.txt\",\"w+\") as python:\n",
    "    python.write(\"Python is a high-level, general-purpose programming language. Its design philosophy emphasizes code readability with the use of significant indentation. Python is dynamically typed and garbage-collected. It supports multiple programming paradigms, including structured, object-oriented and functional programming. Python is free and open-source language. Python is an interpreted language.\")"
   ]
  },
  {
   "cell_type": "code",
   "execution_count": 46,
   "id": "83633d79",
   "metadata": {},
   "outputs": [
    {
     "name": "stdout",
     "output_type": "stream",
     "text": [
      "Python is a high-level, general-purpose programming language. Its design philosophy emphasizes code readability with the use of significant indentation. Python is dynamically typed and garbage-collected. It supports multiple programming paradigms, including structured, object-oriented and functional programming. Python is free and open-source language. Python is an interpreted language.\n"
     ]
    }
   ],
   "source": [
    "python= open(\"data.txt\")\n",
    "string= python.read()\n",
    "print(string)"
   ]
  },
  {
   "cell_type": "code",
   "execution_count": 47,
   "id": "02c71042",
   "metadata": {},
   "outputs": [
    {
     "name": "stdout",
     "output_type": "stream",
     "text": [
      "Enter a word:Python\n",
      "Enter a new word:PYTHON\n",
      "PYTHON is a high-level, general-purpose programming language. Its design philosophy emphasizes code readability with the use of significant indentation. PYTHON is dynamically typed and garbage-collected. It supports multiple programming paradigms, including structured, object-oriented and functional programming. PYTHON is free and open-source language. PYTHON is an interpreted language.\n"
     ]
    }
   ],
   "source": [
    "word= input(\"Enter a word:\")\n",
    "new_word=input(\"Enter a new word:\")\n",
    "if word in string:\n",
    "    print(string.replace(word,new_word))"
   ]
  },
  {
   "cell_type": "markdown",
   "id": "8db6704a",
   "metadata": {},
   "source": [
    "**Append to a File**\n",
    "Write a Python program that prompts the user to enter a sentence. Append this sentence to an existing file named \"notes.txt\". Make sure the newly added sentence starts on a new line.\n"
   ]
  },
  {
   "cell_type": "code",
   "execution_count": 67,
   "id": "d6ed0db7",
   "metadata": {},
   "outputs": [
    {
     "name": "stdout",
     "output_type": "stream",
     "text": [
      "Enter your sentence:Thank you\n"
     ]
    }
   ],
   "source": [
    "with open(\"notes.txt\",\"a+\") as File1:\n",
    "    File1.write(\"welcome to innomatics\")\n",
    "    File1.write(f\"\\n{sentence}\")\n",
    "sentence= input(\"Enter your sentence:\")"
   ]
  },
  {
   "cell_type": "code",
   "execution_count": 68,
   "id": "f5db9e92",
   "metadata": {},
   "outputs": [
    {
     "name": "stdout",
     "output_type": "stream",
     "text": [
      "welcome to innomatics\n",
      "Thank you\n"
     ]
    }
   ],
   "source": [
    "File1= open(\"notes.txt\",\"r\")\n",
    "new= File1.read()\n",
    "print(new)"
   ]
  },
  {
   "cell_type": "code",
   "execution_count": null,
   "id": "eca68827",
   "metadata": {},
   "outputs": [],
   "source": []
  }
 ],
 "metadata": {
  "kernelspec": {
   "display_name": "Python 3 (ipykernel)",
   "language": "python",
   "name": "python3"
  },
  "language_info": {
   "codemirror_mode": {
    "name": "ipython",
    "version": 3
   },
   "file_extension": ".py",
   "mimetype": "text/x-python",
   "name": "python",
   "nbconvert_exporter": "python",
   "pygments_lexer": "ipython3",
   "version": "3.11.4"
  }
 },
 "nbformat": 4,
 "nbformat_minor": 5
}
