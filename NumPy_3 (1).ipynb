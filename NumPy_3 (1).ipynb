{
 "cells": [
  {
   "cell_type": "markdown",
   "id": "cc8d4d50",
   "metadata": {},
   "source": [
    "### Data Cleaning using numpy"
   ]
  },
  {
   "cell_type": "markdown",
   "id": "a9f62f05",
   "metadata": {},
   "source": [
    "**The following are the student marks of a class**\n",
    "[44,24,np.nan,59,32,96,188,52,62,58,52,120,np.nan,np.nan,3,56,81,59,,122,92,np.nan,87,96,97,1,19,2,53, 44]\n",
    "\n"
   ]
  },
  {
   "cell_type": "markdown",
   "id": "69b2a360",
   "metadata": {},
   "source": [
    "1. Find the no of outliers and missing values?\n",
    "2. replace the outliers with 45 and missing value with 87.\n",
    "3. what is the average marks of students after 2nd step?\n",
    "4. How many students got less than 60 marks?\n",
    "5. what is the maximum marks?\n",
    "6. Convert the marks to float32."
   ]
  },
  {
   "cell_type": "markdown",
   "id": "3692b4ec",
   "metadata": {},
   "source": [
    "### Solving Linear Equations"
   ]
  },
  {
   "cell_type": "markdown",
   "id": "b5172cfe",
   "metadata": {},
   "source": [
    "\n",
    "    \n",
    "1. 2x + 3y - z = 10\n",
    "\n",
    "    x - y + 2z = 5\n",
    "    \n",
    "    3x + 2y + z = 12\n",
    "    \n",
    "    \n",
    "    \n",
    "2. 2x + y - z + 3w = 8\n",
    "\n",
    "    3x - 2y + 2z + 2w = 1\n",
    "    \n",
    "    x + 3y - 2z + w = 7\n",
    "    \n",
    "    4x - y + z - 2w = 3\n",
    "   \n",
    "   \n",
    "   \n",
    "3. 4x + 2y - 3z = 10\n",
    "\n",
    "    -2x + 3y + z = -3\n",
    "    \n",
    "    x - y + 2z = 4\n",
    "    \n",
    "Solve the system of equations using NumPy's linalg.solve function.\n"
   ]
  },
  {
   "cell_type": "markdown",
   "id": "5bebe166",
   "metadata": {},
   "source": [
    "### Conditional Selection with np.where()"
   ]
  },
  {
   "cell_type": "markdown",
   "id": "036735c5",
   "metadata": {},
   "source": [
    "\n",
    "1.\tGenerate a random 1D array A of 10 integers between 1 and 100.\n",
    "\n",
    "2.\tUse np.where() to find the indices where the elements of A are greater than 50.\n",
    "\n",
    "3.\tCreate a new array B that contains elements from A where the condition is met.\n",
    "\n",
    "4.\tCalculate the mean of array B and print it along with arrays A and B."
   ]
  },
  {
   "cell_type": "markdown",
   "id": "f935d75b",
   "metadata": {},
   "source": [
    "### Replace Values with np.where()"
   ]
  },
  {
   "cell_type": "markdown",
   "id": "9c5ac3b7",
   "metadata": {},
   "source": [
    "1.\tCreate a 4x4 random integer matrix C with values between -10 and 10.\n",
    "\n",
    "2.\tUse np.where() to replace all negative values in matrix C with 0.\n",
    "\n",
    "3.\tPrint the original matrix C and the modified matrix."
   ]
  },
  {
   "cell_type": "code",
   "execution_count": null,
   "id": "c0ed96c9",
   "metadata": {},
   "outputs": [],
   "source": []
  },
  {
   "cell_type": "code",
   "execution_count": null,
   "id": "961ba4b0",
   "metadata": {},
   "outputs": [],
   "source": []
  },
  {
   "cell_type": "markdown",
   "id": "6f5696e7",
   "metadata": {},
   "source": [
    "**The following are the student marks of a class**\n",
    "[44,24,np.nan,59,32,96,188,52,62,58,52,120,np.nan,np.nan,3,56,81,59,,122,92,np.nan,87,96,97,1,19,2,53, 44]\n"
   ]
  },
  {
   "cell_type": "markdown",
   "id": "8cbff82a",
   "metadata": {},
   "source": [
    "1. Find the no of outliers and missing values?\n",
    "2. replace the outliers with 45 and missing value with 87.\n",
    "3. what is the average marks of students after 2nd step?\n",
    "4. How many students got less than 60 marks?\n",
    "5. what is the maximum marks?\n",
    "6. Convert the marks to float32."
   ]
  },
  {
   "cell_type": "code",
   "execution_count": 1,
   "id": "512ce4e9",
   "metadata": {},
   "outputs": [],
   "source": [
    "import numpy as np"
   ]
  },
  {
   "cell_type": "code",
   "execution_count": 27,
   "id": "13dfb9ba",
   "metadata": {},
   "outputs": [
    {
     "data": {
      "text/plain": [
       "array([ 44.,  24.,  nan,  59.,  32.,  96., 188.,  52.,  62.,  58.,  52.,\n",
       "       120.,  nan,  nan,   3.,  56.,  81.,  59., 122.,  92.,  nan,  87.,\n",
       "        96.,  97.,   1.,  19.,   2.,  53.,  44.])"
      ]
     },
     "execution_count": 27,
     "metadata": {},
     "output_type": "execute_result"
    }
   ],
   "source": [
    "student_marks= np.array([44,24,np.nan,59,32,96,188,52,62,58,52,120,np.nan,np.nan,3,56,81,59,122,92,np.nan,87,96,97,1,19,2,53, 44])\n",
    "student_marks"
   ]
  },
  {
   "cell_type": "code",
   "execution_count": 61,
   "id": "2d61a722",
   "metadata": {},
   "outputs": [
    {
     "name": "stdout",
     "output_type": "stream",
     "text": [
      "number of missing values are: 4\n"
     ]
    }
   ],
   "source": [
    "missing_values = np.sum(np.isnan(student_marks))\n",
    "\n",
    "print(\"number of missing values are:\",missing_values)"
   ]
  },
  {
   "cell_type": "code",
   "execution_count": 70,
   "id": "354fe092",
   "metadata": {},
   "outputs": [
    {
     "name": "stdout",
     "output_type": "stream",
     "text": [
      "number of outliers are : 3\n"
     ]
    }
   ],
   "source": [
    "outliers = np.sum((student_marks>100) | (student_marks<0))\n",
    "\n",
    "print(\"number of outliers are :\",outliers)"
   ]
  },
  {
   "cell_type": "code",
   "execution_count": 62,
   "id": "5569f587",
   "metadata": {},
   "outputs": [
    {
     "data": {
      "text/plain": [
       "array([ 44.,  24.,  87.,  59.,  32.,  96., 188.,  52.,  62.,  58.,  52.,\n",
       "       120.,  87.,  87.,   3.,  56.,  81.,  59., 122.,  92.,  87.,  87.,\n",
       "        96.,  97.,   1.,  19.,   2.,  53.,  44.])"
      ]
     },
     "execution_count": 62,
     "metadata": {},
     "output_type": "execute_result"
    }
   ],
   "source": [
    "a = np.where(np.isnan(student_marks),87,student_marks)  #replacing missing values with 87\n",
    "a"
   ]
  },
  {
   "cell_type": "code",
   "execution_count": 64,
   "id": "eddc1030",
   "metadata": {},
   "outputs": [],
   "source": [
    "cond= (a>100) | (a<0)   #let's assume that the marks less than 0 and greater than 100 will be outliers"
   ]
  },
  {
   "cell_type": "code",
   "execution_count": 65,
   "id": "ed479725",
   "metadata": {},
   "outputs": [
    {
     "data": {
      "text/plain": [
       "array([44., 24., 87., 59., 32., 96., 45., 52., 62., 58., 52., 45., 87.,\n",
       "       87.,  3., 56., 81., 59., 45., 92., 87., 87., 96., 97.,  1., 19.,\n",
       "        2., 53., 44.])"
      ]
     },
     "execution_count": 65,
     "metadata": {},
     "output_type": "execute_result"
    }
   ],
   "source": [
    "new_marks = np.where(cond,45,a)   #replacing outlier with 45\n",
    "new_marks"
   ]
  },
  {
   "cell_type": "code",
   "execution_count": 66,
   "id": "fc70cad3",
   "metadata": {},
   "outputs": [
    {
     "data": {
      "text/plain": [
       "56.96551724137931"
      ]
     },
     "execution_count": 66,
     "metadata": {},
     "output_type": "execute_result"
    }
   ],
   "source": [
    "np.mean(new_marks)"
   ]
  },
  {
   "cell_type": "code",
   "execution_count": 67,
   "id": "8e20faf0",
   "metadata": {},
   "outputs": [
    {
     "data": {
      "text/plain": [
       "18"
      ]
     },
     "execution_count": 67,
     "metadata": {},
     "output_type": "execute_result"
    }
   ],
   "source": [
    "len(new_marks[new_marks<60])"
   ]
  },
  {
   "cell_type": "code",
   "execution_count": 68,
   "id": "8cf25a53",
   "metadata": {},
   "outputs": [
    {
     "data": {
      "text/plain": [
       "97.0"
      ]
     },
     "execution_count": 68,
     "metadata": {},
     "output_type": "execute_result"
    }
   ],
   "source": [
    "np.max(new_marks)"
   ]
  },
  {
   "cell_type": "code",
   "execution_count": 69,
   "id": "e28d4a0a",
   "metadata": {},
   "outputs": [
    {
     "data": {
      "text/plain": [
       "array([44., 24., 87., 59., 32., 96., 45., 52., 62., 58., 52., 45., 87.,\n",
       "       87.,  3., 56., 81., 59., 45., 92., 87., 87., 96., 97.,  1., 19.,\n",
       "        2., 53., 44.], dtype=float32)"
      ]
     },
     "execution_count": 69,
     "metadata": {},
     "output_type": "execute_result"
    }
   ],
   "source": [
    "np.array(new_marks).astype(\"float32\")"
   ]
  },
  {
   "cell_type": "markdown",
   "id": "0915b191",
   "metadata": {},
   "source": [
    "### Solving Linear Equations\n",
    "    \n",
    "1. 2x + 3y - z = 10\n",
    "\n",
    "    x - y + 2z = 5\n",
    "    \n",
    "    3x + 2y + z = 12\n",
    "\n",
    "    \n",
    "Solve the system of equations using NumPy's linalg.solve function.\n"
   ]
  },
  {
   "cell_type": "code",
   "execution_count": 73,
   "id": "7f2e0643",
   "metadata": {},
   "outputs": [
    {
     "data": {
      "text/plain": [
       "array([-6.75539944e+15,  6.75539944e+15,  6.75539944e+15])"
      ]
     },
     "execution_count": 73,
     "metadata": {},
     "output_type": "execute_result"
    }
   ],
   "source": [
    "a = np.array([[2,3,-1],[1,-1,2],[3,2,1]])\n",
    "b = np.array([10,5,12])\n",
    "\n",
    "np.linalg.solve(a,b)"
   ]
  },
  {
   "cell_type": "markdown",
   "id": "0233ef47",
   "metadata": {},
   "source": [
    "2. 2x + y - z + 3w = 8\n",
    "\n",
    "    3x - 2y + 2z + 2w = 1\n",
    "    \n",
    "    x + 3y - 2z + w = 7\n",
    "    \n",
    "    4x - y + z - 2w = 3\n",
    "   \n",
    " \n",
    "    \n",
    "Solve the system of equations using NumPy's linalg.solve function.\n"
   ]
  },
  {
   "cell_type": "code",
   "execution_count": 130,
   "id": "d521a0ce",
   "metadata": {},
   "outputs": [
    {
     "data": {
      "text/plain": [
       "array([ 1.73170732, -0.75609756, -3.46341463,  0.6097561 ])"
      ]
     },
     "execution_count": 130,
     "metadata": {},
     "output_type": "execute_result"
    }
   ],
   "source": [
    "c= np.array([[2,1,-1,3],[3,-2,2,2],[1,3,-2,1],[4,-1,1,-2]])\n",
    "d= np.array([8,1,7,3])\n",
    "\n",
    "np.linalg.solve(c,d)"
   ]
  },
  {
   "cell_type": "markdown",
   "id": "c530174e",
   "metadata": {},
   "source": [
    "3. 4x + 2y - 3z = 10\n",
    "\n",
    "    -2x + 3y + z = -3\n",
    "    \n",
    "    x - y + 2z = 4\n",
    "    \n",
    "Solve the system of equations using NumPy's linalg.solve function.\n"
   ]
  },
  {
   "cell_type": "code",
   "execution_count": 131,
   "id": "5cb415a3",
   "metadata": {},
   "outputs": [
    {
     "data": {
      "text/plain": [
       "array([2.85365854, 0.6097561 , 0.87804878])"
      ]
     },
     "execution_count": 131,
     "metadata": {},
     "output_type": "execute_result"
    }
   ],
   "source": [
    "e = np.array([[4,2,-3],[-2,3,1],[1,-1,2]])\n",
    "f = np.array([10,-3,4])\n",
    "\n",
    "np.linalg.solve(e,f)"
   ]
  },
  {
   "cell_type": "markdown",
   "id": "dbe51593",
   "metadata": {},
   "source": [
    "### Conditional Selection with np.where()"
   ]
  },
  {
   "cell_type": "markdown",
   "id": "94dea022",
   "metadata": {},
   "source": [
    "1.\tGenerate a random 1D array A of 10 integers between 1 and 100.\n",
    "\n",
    "2.\tUse np.where() to find the indices where the elements of A are greater than 50.\n",
    "\n",
    "3.\tCreate a new array B that contains elements from A where the condition is met.\n",
    "\n",
    "4.\tCalculate the mean of array B and print it along with arrays A and B."
   ]
  },
  {
   "cell_type": "code",
   "execution_count": 119,
   "id": "c9bb0ed5",
   "metadata": {},
   "outputs": [
    {
     "data": {
      "text/plain": [
       "array([33,  6, 83, 52, 25, 81, 81, 33, 21,  9])"
      ]
     },
     "execution_count": 119,
     "metadata": {},
     "output_type": "execute_result"
    }
   ],
   "source": [
    "A= np.random.randint(1,100,10)\n",
    "A"
   ]
  },
  {
   "cell_type": "code",
   "execution_count": 120,
   "id": "26750dd4",
   "metadata": {},
   "outputs": [],
   "source": [
    "indices= np.where(A>50)"
   ]
  },
  {
   "cell_type": "code",
   "execution_count": 121,
   "id": "74698b3f",
   "metadata": {},
   "outputs": [],
   "source": [
    "B= A[indices]\n",
    "M= np.mean(B)"
   ]
  },
  {
   "cell_type": "code",
   "execution_count": 122,
   "id": "21c1764e",
   "metadata": {},
   "outputs": [
    {
     "name": "stdout",
     "output_type": "stream",
     "text": [
      "A is : [33  6 83 52 25 81 81 33 21  9]\n",
      "B is : [83 52 81 81]\n",
      "mean of B is : 74.25\n"
     ]
    }
   ],
   "source": [
    "print(\"A is :\",A)\n",
    "print(\"B is :\",B)\n",
    "print(\"mean of B is :\",M)"
   ]
  },
  {
   "cell_type": "markdown",
   "id": "46786349",
   "metadata": {},
   "source": [
    "### Replace Values with np.where()"
   ]
  },
  {
   "cell_type": "markdown",
   "id": "94320cb0",
   "metadata": {},
   "source": [
    "1.\tCreate a 4x4 random integer matrix C with values between -10 and 10.\n",
    "\n",
    "2.\tUse np.where() to replace all negative values in matrix C with 0.\n",
    "\n",
    "3.\tPrint the original matrix C and the modified matrix."
   ]
  },
  {
   "cell_type": "code",
   "execution_count": 124,
   "id": "57810955",
   "metadata": {},
   "outputs": [
    {
     "data": {
      "text/plain": [
       "array([[ 0,  8,  8,  2],\n",
       "       [ 8,  0, -5,  3],\n",
       "       [-5,  9, -7,  7],\n",
       "       [-6,  5, -5,  3]])"
      ]
     },
     "execution_count": 124,
     "metadata": {},
     "output_type": "execute_result"
    }
   ],
   "source": [
    "C= np.random.randint(-10,10,size=(4,4))\n",
    "C"
   ]
  },
  {
   "cell_type": "code",
   "execution_count": 127,
   "id": "978e70ed",
   "metadata": {},
   "outputs": [],
   "source": [
    "B= np.where(C<=0,0,C)"
   ]
  },
  {
   "cell_type": "code",
   "execution_count": 129,
   "id": "6bf59285",
   "metadata": {},
   "outputs": [
    {
     "data": {
      "text/plain": [
       "array([[0, 8, 8, 2],\n",
       "       [8, 0, 0, 3],\n",
       "       [0, 9, 0, 7],\n",
       "       [0, 5, 0, 3]])"
      ]
     },
     "execution_count": 129,
     "metadata": {},
     "output_type": "execute_result"
    }
   ],
   "source": [
    "B"
   ]
  },
  {
   "cell_type": "code",
   "execution_count": null,
   "id": "cbeda7e6",
   "metadata": {},
   "outputs": [],
   "source": []
  }
 ],
 "metadata": {
  "kernelspec": {
   "display_name": "Python 3 (ipykernel)",
   "language": "python",
   "name": "python3"
  },
  "language_info": {
   "codemirror_mode": {
    "name": "ipython",
    "version": 3
   },
   "file_extension": ".py",
   "mimetype": "text/x-python",
   "name": "python",
   "nbconvert_exporter": "python",
   "pygments_lexer": "ipython3",
   "version": "3.11.4"
  }
 },
 "nbformat": 4,
 "nbformat_minor": 5
}
