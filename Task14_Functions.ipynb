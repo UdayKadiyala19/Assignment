{
 "cells": [
  {
   "cell_type": "markdown",
   "id": "dd9881f5",
   "metadata": {},
   "source": [
    "\n",
    "1. \n",
    "\n",
    "   - Create a lambda function that takes two arguments and returns their sum.\n",
    "   - Create another lambda function that takes a single argument and returns its square.\n",
    "   - Use the `lambda` functions to calculate the sum and square of various numbers and print the results.\n",
    "\n",
    "2. \n",
    "   - Define a list of integers.\n",
    "   - Use the `filter` function to create a new list that contains only the even numbers from the original list.\n",
    "   - Use the `filter` function again to create a new list that contains only numbers greater than 10 from the original list.\n",
    "   - Print both filtered lists.\n",
    "\n",
    "3. \n",
    "   - Define a list of strings where each string represents a number (e.g., `[\"1\", \"2\", \"3\"]`).\n",
    "   - Use the `map` function to convert each string to an integer and store the result in a new list.\n",
    "   - Use the `map` function again to square each integer in the new list and store the result in another new list.\n",
    "   - Print both new lists.\n",
    "\n",
    "4. \n",
    "   - Create a list of dictionaries, where each dictionary represents a person with keys \"name\" and \"age\". Example: ` [{\"name\": \"Alice\", \"age\": 30}, {\"name\": \"Bob\", \"age\": 25}, ...]`\n",
    "   - Use the `filter` function to create a new list that contains only the people who are older than 25.\n",
    "   - Use the `map` function to create a new list that contains the names of the filtered people.\n",
    "   - Print the list of names.\n",
    "\n",
    "5. \n",
    "   - Create a program that reads a list of numbers from the user (you can use the `input` function for this).\n",
    "   - Use `map` and `filter` functions to perform the following operations:\n",
    "     - Square each number.\n",
    "     - Filter out numbers that are not divisible by 3.\n",
    "   - Print the result.\n"
   ]
  },
  {
   "cell_type": "markdown",
   "id": "ea77c64c",
   "metadata": {},
   "source": [
    "\n",
    "1. \n",
    "\n",
    "   - Create a lambda function that takes two arguments and returns their sum.\n",
    "   - Create another lambda function that takes a single argument and returns its square.\n",
    "   - Use the `lambda` functions to calculate the sum and square of various numbers and print the results."
   ]
  },
  {
   "cell_type": "code",
   "execution_count": 5,
   "id": "65b4537e",
   "metadata": {},
   "outputs": [
    {
     "data": {
      "text/plain": [
       "5"
      ]
     },
     "execution_count": 5,
     "metadata": {},
     "output_type": "execute_result"
    }
   ],
   "source": [
    "add= lambda x,y:x+y\n",
    "add(2,3)"
   ]
  },
  {
   "cell_type": "code",
   "execution_count": 6,
   "id": "56695eb0",
   "metadata": {},
   "outputs": [
    {
     "data": {
      "text/plain": [
       "36"
      ]
     },
     "execution_count": 6,
     "metadata": {},
     "output_type": "execute_result"
    }
   ],
   "source": [
    "square= lambda n: n**2\n",
    "square(6)"
   ]
  },
  {
   "cell_type": "code",
   "execution_count": 14,
   "id": "c8b44602",
   "metadata": {},
   "outputs": [
    {
     "name": "stdout",
     "output_type": "stream",
     "text": [
      "10\n",
      "1\n"
     ]
    }
   ],
   "source": [
    "add1 = lambda *n:sum(n)\n",
    "square1 = lambda m: m*m\n",
    "\n",
    "print(add1(1,2,3,4))\n",
    "print(square1(1))"
   ]
  },
  {
   "cell_type": "markdown",
   "id": "5213ff79",
   "metadata": {},
   "source": [
    "2. \n",
    "   - Define a list of integers.\n",
    "   - Use the `filter` function to create a new list that contains only the even numbers from the original list.\n",
    "   - Use the `filter` function again to create a new list that contains only numbers greater than 10 from the original list.\n",
    "   - Print both filtered lists."
   ]
  },
  {
   "cell_type": "code",
   "execution_count": 30,
   "id": "1e8c58f8",
   "metadata": {},
   "outputs": [],
   "source": [
    "List1= [1,2,3,4,5,6,7,8,11,15,100,90]\n",
    "\n",
    "def fun(n):\n",
    "    if n%2==0:\n",
    "        return n\n",
    "    \n",
    "def fun2(n):\n",
    "    if n>10:\n",
    "        return n\n",
    "    \n",
    "New_list1= list(filter(fun,List1))\n",
    "New_list2= list(filter(fun2,List1))"
   ]
  },
  {
   "cell_type": "code",
   "execution_count": 31,
   "id": "4855e7bb",
   "metadata": {},
   "outputs": [
    {
     "data": {
      "text/plain": [
       "[2, 4, 6, 8, 100, 90]"
      ]
     },
     "execution_count": 31,
     "metadata": {},
     "output_type": "execute_result"
    }
   ],
   "source": [
    "New_list1"
   ]
  },
  {
   "cell_type": "code",
   "execution_count": 32,
   "id": "0df075bd",
   "metadata": {},
   "outputs": [
    {
     "data": {
      "text/plain": [
       "[11, 15, 100, 90]"
      ]
     },
     "execution_count": 32,
     "metadata": {},
     "output_type": "execute_result"
    }
   ],
   "source": [
    "New_list2"
   ]
  },
  {
   "cell_type": "markdown",
   "id": "dd543e15",
   "metadata": {},
   "source": [
    "3. \n",
    "   - Define a list of strings where each string represents a number (e.g., `[\"1\", \"2\", \"3\"]`).\n",
    "   - Use the `map` function to convert each string to an integer and store the result in a new list.\n",
    "   - Use the `map` function again to square each integer in the new list and store the result in another new list.\n",
    "   - Print both new lists."
   ]
  },
  {
   "cell_type": "code",
   "execution_count": 73,
   "id": "3c11f9ab",
   "metadata": {},
   "outputs": [],
   "source": [
    "string1 = [\"1\",\"2\",\"3\",\"5\",\"10\",\"11\"]\n",
    "\n",
    "New_list1 = list(map(int,string1))"
   ]
  },
  {
   "cell_type": "code",
   "execution_count": 74,
   "id": "00bde6f3",
   "metadata": {},
   "outputs": [
    {
     "data": {
      "text/plain": [
       "[1, 2, 3, 5, 10, 11]"
      ]
     },
     "execution_count": 74,
     "metadata": {},
     "output_type": "execute_result"
    }
   ],
   "source": [
    "New_list1"
   ]
  },
  {
   "cell_type": "code",
   "execution_count": 98,
   "id": "e39f86d1",
   "metadata": {},
   "outputs": [],
   "source": [
    "def fun(n):\n",
    "    \n",
    "    return n*n\n",
    "\n",
    "New_list2= list(map(fun,New_list1))"
   ]
  },
  {
   "cell_type": "code",
   "execution_count": 99,
   "id": "31c96dbc",
   "metadata": {},
   "outputs": [
    {
     "data": {
      "text/plain": [
       "[1, 4, 9, 25, 100, 121]"
      ]
     },
     "execution_count": 99,
     "metadata": {},
     "output_type": "execute_result"
    }
   ],
   "source": [
    "New_list2"
   ]
  },
  {
   "cell_type": "markdown",
   "id": "986fcf1d",
   "metadata": {},
   "source": [
    "4. \n",
    "   - Create a list of dictionaries, where each dictionary represents a person with keys \"name\" and \"age\". Example: ` [{\"name\": \"Alice\", \"age\": 30}, {\"name\": \"Bob\", \"age\": 25}, ...]`\n",
    "   - Use the `filter` function to create a new list that contains only the people who are older than 25.\n",
    "   - Use the `map` function to create a new list that contains the names of the filtered people.\n",
    "   - Print the list of names."
   ]
  },
  {
   "cell_type": "code",
   "execution_count": 29,
   "id": "c767168f",
   "metadata": {},
   "outputs": [
    {
     "data": {
      "text/plain": [
       "[{'name': 'Raju', 'age': 29}, {'name': 'Rani', 'age': 30}]"
      ]
     },
     "execution_count": 29,
     "metadata": {},
     "output_type": "execute_result"
    }
   ],
   "source": [
    "List= [{\"name\":\"Uday\",\"age\":22},{\"name\":\"Sathish\",\"age\":21},{\"name\":\"Raju\",\"age\":29},{\"name\":\"Rani\",\"age\":30}]\n",
    "\n",
    "def fun(n):\n",
    "    if n[\"age\"]>25:\n",
    "        return n\n",
    "\n",
    "list1= list(filter(fun,List))\n",
    "list1"
   ]
  },
  {
   "cell_type": "code",
   "execution_count": 33,
   "id": "bbfba1be",
   "metadata": {},
   "outputs": [
    {
     "data": {
      "text/plain": [
       "[{'name': 'Raju'}, {'name': 'Rani'}]"
      ]
     },
     "execution_count": 33,
     "metadata": {},
     "output_type": "execute_result"
    }
   ],
   "source": [
    "def fun1(n):\n",
    "    return {\"name\":n[\"name\"]}\n",
    "\n",
    "list(map(fun1,list1))"
   ]
  },
  {
   "cell_type": "markdown",
   "id": "2823c65a",
   "metadata": {},
   "source": [
    "5. \n",
    "   - Create a program that reads a list of numbers from the user (you can use the `input` function for this).\n",
    "   - Use `map` and `filter` functions to perform the following operations:\n",
    "     - Square each number.\n",
    "     - Filter out numbers that are not divisible by 3.\n",
    "   - Print the result."
   ]
  },
  {
   "cell_type": "code",
   "execution_count": 34,
   "id": "f191d0a6",
   "metadata": {},
   "outputs": [
    {
     "name": "stdout",
     "output_type": "stream",
     "text": [
      "Enter the list size:5\n",
      "input1::  1\n",
      "input2::  3\n",
      "input3::  5\n",
      "input4::  8\n",
      "input5::  10\n",
      "[1, 3, 5, 8, 10]\n"
     ]
    }
   ],
   "source": [
    "list1=[]\n",
    "n= int(input(\"Enter the list size:\"))\n",
    "\n",
    "for i in range(1,n+1):\n",
    "    A= int(input(f\"input{i}::  \"))\n",
    "    list1.append(A)\n",
    "print(list1)\n",
    "\n",
    "def num(n):\n",
    "    return n**2\n",
    "\n",
    "def num2(n):\n",
    "    return n%3 != 0\n",
    "\n",
    "square= list(map(num,list1))\n",
    "\n",
    "not_divisible= list(filter(num2,list1))"
   ]
  },
  {
   "cell_type": "code",
   "execution_count": 35,
   "id": "b679aeb7",
   "metadata": {},
   "outputs": [
    {
     "data": {
      "text/plain": [
       "[1, 9, 25, 64, 100]"
      ]
     },
     "execution_count": 35,
     "metadata": {},
     "output_type": "execute_result"
    }
   ],
   "source": [
    "square"
   ]
  },
  {
   "cell_type": "code",
   "execution_count": 36,
   "id": "756fb55c",
   "metadata": {},
   "outputs": [
    {
     "data": {
      "text/plain": [
       "[1, 5, 8, 10]"
      ]
     },
     "execution_count": 36,
     "metadata": {},
     "output_type": "execute_result"
    }
   ],
   "source": [
    "not_divisible"
   ]
  },
  {
   "cell_type": "code",
   "execution_count": null,
   "id": "2509a759",
   "metadata": {},
   "outputs": [],
   "source": []
  }
 ],
 "metadata": {
  "kernelspec": {
   "display_name": "Python 3 (ipykernel)",
   "language": "python",
   "name": "python3"
  },
  "language_info": {
   "codemirror_mode": {
    "name": "ipython",
    "version": 3
   },
   "file_extension": ".py",
   "mimetype": "text/x-python",
   "name": "python",
   "nbconvert_exporter": "python",
   "pygments_lexer": "ipython3",
   "version": "3.11.4"
  }
 },
 "nbformat": 4,
 "nbformat_minor": 5
}
