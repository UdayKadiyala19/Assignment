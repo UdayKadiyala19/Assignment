{
 "cells": [
  {
   "cell_type": "markdown",
   "id": "76893e9e",
   "metadata": {},
   "source": [
    "**while loops and their use in programming.**\n",
    "\n",
    "1. Write a Python program that uses a while loop to print the numbers from A to P.\n",
    "\n",
    "2. Modify the program to print only the even numbers from 1 to 20 except mutiple of 3 using a while loop.\n",
    "\n",
    "3. Create a program that prompts the user for an integer input and then uses a while loop to print the countdown from that number to 1.\n",
    "\n",
    "4. Write a Python program that uses a while loop to repeatedly ask the user to enter a number. If the user enters 0, exit the loop using the break statement. Otherwise, continue prompting for numbers.\n",
    "\n",
    "5. Create a program that uses a while loop to print the numbers from 1 to 20, but skip printing the numbers 5, 10, and 15 using the continue statement.\n",
    "\n",
    "6. Write a Python program that simulates a simple password entry system. Ask the user to enter a password, and use a while loop to repeatedly prompt for the password until the correct password \"abc123\" is entered. Once the correct password is entered, exit the loop.\n",
    "\n",
    "7. Calculate and print the sum of all the positive integers entered by the user."
   ]
  },
  {
   "cell_type": "markdown",
   "id": "96b3ee80",
   "metadata": {},
   "source": [
    "**1.** Write a Python program that uses a while loop to print the numbers from A to P."
   ]
  },
  {
   "cell_type": "code",
   "execution_count": 2,
   "id": "ba25ca86",
   "metadata": {},
   "outputs": [
    {
     "name": "stdout",
     "output_type": "stream",
     "text": [
      "A\n",
      "B\n",
      "C\n",
      "D\n",
      "E\n",
      "F\n",
      "G\n",
      "H\n",
      "I\n",
      "J\n",
      "K\n",
      "L\n",
      "M\n",
      "N\n",
      "O\n",
      "P\n"
     ]
    }
   ],
   "source": [
    "n=1\n",
    "while n<17:\n",
    "    print(chr(64+n))\n",
    "    n= n+1"
   ]
  },
  {
   "cell_type": "markdown",
   "id": "a1fab08e",
   "metadata": {},
   "source": [
    "**2.** Modify the program to print only the even numbers from 1 to 20 except mutiple of 3 using a while loop."
   ]
  },
  {
   "cell_type": "code",
   "execution_count": 2,
   "id": "9bb5f089",
   "metadata": {},
   "outputs": [
    {
     "name": "stdout",
     "output_type": "stream",
     "text": [
      "2\n",
      "4\n",
      "8\n",
      "10\n",
      "14\n",
      "16\n",
      "20\n"
     ]
    }
   ],
   "source": [
    "num= 1\n",
    "\n",
    "while num<=20:\n",
    "    if num%3==0:\n",
    "        pass\n",
    "    elif num%2==0:\n",
    "        print(num)\n",
    "    num= num+1"
   ]
  },
  {
   "cell_type": "markdown",
   "id": "c2d86766",
   "metadata": {},
   "source": [
    "**3.** Create a program that prompts the user for an integer input and then uses a while loop to print the countdown from that number to 1."
   ]
  },
  {
   "cell_type": "code",
   "execution_count": 1,
   "id": "213785c0",
   "metadata": {},
   "outputs": [
    {
     "name": "stdout",
     "output_type": "stream",
     "text": [
      "Enter a number:8\n",
      "8\n",
      "7\n",
      "6\n",
      "5\n",
      "4\n",
      "3\n",
      "2\n",
      "1\n"
     ]
    }
   ],
   "source": [
    "n= int(input(\"Enter a number:\"))\n",
    "while n>=1:\n",
    "    print(n)\n",
    "    n= n-1"
   ]
  },
  {
   "cell_type": "markdown",
   "id": "4c450855",
   "metadata": {},
   "source": [
    "**4.** Write a Python program that uses a while loop to repeatedly ask the user to enter a number. If the user enters 0, exit the loop using the break statement. Otherwise, continue prompting for numbers."
   ]
  },
  {
   "cell_type": "code",
   "execution_count": 14,
   "id": "00b0b4d1",
   "metadata": {},
   "outputs": [
    {
     "name": "stdout",
     "output_type": "stream",
     "text": [
      "Enter a number:0\n"
     ]
    }
   ],
   "source": [
    "N= int(input(\"Enter a number:\"))\n",
    "while N:\n",
    "    if N==0:\n",
    "        break\n",
    "    else:\n",
    "        N= int(input(\"Enter a number:\"))"
   ]
  },
  {
   "cell_type": "markdown",
   "id": "14e75677",
   "metadata": {},
   "source": [
    "**5.** Create a program that uses a while loop to print the numbers from 1 to 20, but skip printing the numbers 5, 10, and 15 using the `continue` statement."
   ]
  },
  {
   "cell_type": "code",
   "execution_count": 9,
   "id": "7de1f73f",
   "metadata": {},
   "outputs": [
    {
     "name": "stdout",
     "output_type": "stream",
     "text": [
      "1\n",
      "2\n",
      "3\n",
      "4\n",
      "6\n",
      "7\n",
      "8\n",
      "9\n",
      "11\n",
      "12\n",
      "13\n",
      "14\n",
      "16\n",
      "17\n",
      "18\n",
      "19\n",
      "20\n"
     ]
    }
   ],
   "source": [
    "num= 0\n",
    "while num <20:\n",
    "    num = num+1\n",
    "    if (num==5) or (num==10) or (num==15):\n",
    "        continue\n",
    "    else:\n",
    "        print(num)"
   ]
  },
  {
   "cell_type": "markdown",
   "id": "b5cce11f",
   "metadata": {},
   "source": [
    "**6.** Write a Python program that simulates a simple password entry system. Ask the user to enter a password, and use a while loop to repeatedly prompt for the password until the correct password \"abc123\" is entered. Once the correct password is entered, exit the loop."
   ]
  },
  {
   "cell_type": "code",
   "execution_count": 2,
   "id": "937d19db",
   "metadata": {},
   "outputs": [
    {
     "name": "stdout",
     "output_type": "stream",
     "text": [
      "Enter the password:12345678\n"
     ]
    }
   ],
   "source": [
    "password= input(\"Enter the password:\")"
   ]
  },
  {
   "cell_type": "code",
   "execution_count": 3,
   "id": "7734349c",
   "metadata": {},
   "outputs": [
    {
     "name": "stdout",
     "output_type": "stream",
     "text": [
      "Enter the password:12345\n",
      "Enter the correct password: 123\n",
      "Enter the correct password: 123456\n",
      "Enter the correct password: 12345678\n",
      "Password is verified\n"
     ]
    }
   ],
   "source": [
    "PassWord= input(\"Enter the password:\")\n",
    "while password:\n",
    "    if password==PassWord:\n",
    "        print(\"Password is verified\")\n",
    "        break\n",
    "    else:\n",
    "        PassWord= input(\"Enter the correct password: \")"
   ]
  },
  {
   "cell_type": "markdown",
   "id": "7dd6e26e",
   "metadata": {},
   "source": [
    "**7.** Calculate and print the sum of all the positive integers entered by the user."
   ]
  },
  {
   "cell_type": "code",
   "execution_count": 1,
   "id": "c776a1b5",
   "metadata": {},
   "outputs": [
    {
     "name": "stdout",
     "output_type": "stream",
     "text": [
      "Enter how many integers you want to add:3\n",
      "Enter number1 :1\n",
      "Enter number2 :2\n",
      "Enter number3 :3\n",
      "sum of all the positive integers is = 6\n"
     ]
    }
   ],
   "source": [
    "n= int(input(\"Enter how many integers you want to add:\"))\n",
    "a= 0\n",
    "while n:\n",
    "    for i in range(1,n+1):\n",
    "        if n>0:\n",
    "            b= int(input(f\"Enter number{i} :\"))\n",
    "            a= a+b\n",
    "        \n",
    "        else:\n",
    "            print(\"Enter positive integers\")\n",
    "\n",
    "    print(f\"sum of all the positive integers is = {a}\")\n",
    "    break"
   ]
  }
 ],
 "metadata": {
  "kernelspec": {
   "display_name": "Python 3 (ipykernel)",
   "language": "python",
   "name": "python3"
  },
  "language_info": {
   "codemirror_mode": {
    "name": "ipython",
    "version": 3
   },
   "file_extension": ".py",
   "mimetype": "text/x-python",
   "name": "python",
   "nbconvert_exporter": "python",
   "pygments_lexer": "ipython3",
   "version": "3.11.4"
  }
 },
 "nbformat": 4,
 "nbformat_minor": 5
}
