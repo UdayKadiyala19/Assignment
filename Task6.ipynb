{
 "cells": [
  {
   "cell_type": "markdown",
   "id": "e30e91f8",
   "metadata": {},
   "source": [
    "\n",
    "\n",
    "**Assignment Task 1:** Tuple Basics\n",
    "Create a Python tuple containing the names of your favorite fruits. Write a Python program to print `each fruit` name from the tuple.\n",
    "\n",
    "**Assignment Task 2:** Tuple Operations\n",
    "Given two tuples, write a Python program to `concatenate` them into a `single` tuple and then find the `length` of the resulting tuple.\n",
    "\n",
    "**Assignment Task 3:** Set Creation\n",
    "Create a Python set containing the first 10 `even` numbers (2, 4, 6, ...). Write a program to `display` this set.\n",
    "\n",
    "**Assignment Task 4:** Set Operations\n",
    "Given two sets, write a Python program to find the `union, intersection, and difference` of these sets.\n",
    "\n",
    "**Assignment Task 5:** Tuple and Set Conversion\n",
    "Write a Python program that takes a `tuple` of integers and converts it into a `set`. Then, find and print the `maximum and minimum` values from the set.\n",
    "\n",
    "**Assignment Task 6:** Tuple Immutability\n",
    "Explain the concept of immutability in Python tuples with examples. Discuss why tuples are considered immutable data structures.\n",
    "\n",
    "**Assignment Task 7:** Set Operations and Methods\n",
    "Write a Python program that takes a set of numbers and performs the following operations:\n",
    "   - Add a new number to the set.\n",
    "   - Remove a number from the set.\n",
    "   - Check if a specific number is in the set.\n",
    "   - Find the size of the set.\n",
    "\n",
    "**Assignment Task 8:** Tuple Slicing\n",
    "Given a tuple of 10 elements, write a Python program to print the elements from the `3rd to the 7th `position using slicing.\n",
    "\n",
    "**Assignment Task 9:** Set Operations with Lists\n",
    "Create a Python list with duplicate elements and convert it into a set to remove duplicates. Then, write a program to count how many duplicates were removed.\n",
    "\n",
    "**Assignment Task 10:** Tuple and Set Combinations\n",
    "Create a `tuple` containing the names of your friend's favorite movies and a `set` containing the names of your favorite movies. Write a Python program to find and display common elements (movies that feature your "
   ]
  },
  {
   "cell_type": "markdown",
   "id": "5b12840a",
   "metadata": {},
   "source": [
    "**Assignment Task 1:** Tuple Basics\n",
    "Create a Python tuple containing the names of your favorite fruits. Write a Python program to print `each fruit` name from the tuple."
   ]
  },
  {
   "cell_type": "code",
   "execution_count": 1,
   "id": "861ad52f",
   "metadata": {},
   "outputs": [],
   "source": [
    "fruits= (\"banana\",\"grape\",\"orange\",\"water melon\",\"kiwi\")"
   ]
  },
  {
   "cell_type": "code",
   "execution_count": 2,
   "id": "d44255d4",
   "metadata": {},
   "outputs": [
    {
     "name": "stdout",
     "output_type": "stream",
     "text": [
      "('banana', 'grape', 'orange', 'water melon', 'kiwi')\n"
     ]
    }
   ],
   "source": [
    "print(fruits)"
   ]
  },
  {
   "cell_type": "code",
   "execution_count": 52,
   "id": "af4b4ede",
   "metadata": {},
   "outputs": [
    {
     "data": {
      "text/plain": [
       "'banana'"
      ]
     },
     "execution_count": 52,
     "metadata": {},
     "output_type": "execute_result"
    }
   ],
   "source": [
    "fruits[0]"
   ]
  },
  {
   "cell_type": "code",
   "execution_count": 53,
   "id": "55299a04",
   "metadata": {},
   "outputs": [
    {
     "data": {
      "text/plain": [
       "'grape'"
      ]
     },
     "execution_count": 53,
     "metadata": {},
     "output_type": "execute_result"
    }
   ],
   "source": [
    "fruits[1]"
   ]
  },
  {
   "cell_type": "code",
   "execution_count": 54,
   "id": "c82d15d1",
   "metadata": {},
   "outputs": [
    {
     "data": {
      "text/plain": [
       "'orange'"
      ]
     },
     "execution_count": 54,
     "metadata": {},
     "output_type": "execute_result"
    }
   ],
   "source": [
    "fruits[2]"
   ]
  },
  {
   "cell_type": "code",
   "execution_count": 55,
   "id": "5b19c79a",
   "metadata": {},
   "outputs": [
    {
     "data": {
      "text/plain": [
       "'water melon'"
      ]
     },
     "execution_count": 55,
     "metadata": {},
     "output_type": "execute_result"
    }
   ],
   "source": [
    "fruits[3]"
   ]
  },
  {
   "cell_type": "code",
   "execution_count": 56,
   "id": "a2febc1b",
   "metadata": {},
   "outputs": [
    {
     "data": {
      "text/plain": [
       "'kiwi'"
      ]
     },
     "execution_count": 56,
     "metadata": {},
     "output_type": "execute_result"
    }
   ],
   "source": [
    "fruits[4]"
   ]
  },
  {
   "cell_type": "markdown",
   "id": "0348eda2",
   "metadata": {},
   "source": [
    "**Assignment Task 2:** Tuple Operations\n",
    "Given two tuples, write a Python program to `concatenate` them into a `single` tuple and then find the `length` of the resulting tuple."
   ]
  },
  {
   "cell_type": "code",
   "execution_count": 4,
   "id": "392a50c9",
   "metadata": {},
   "outputs": [],
   "source": [
    "A1= (1,2,3,4,5,6)\n",
    "B1= (7,8,9,10,11,12,13)"
   ]
  },
  {
   "cell_type": "code",
   "execution_count": 5,
   "id": "2bbee79e",
   "metadata": {},
   "outputs": [],
   "source": [
    "C1= A1+B1"
   ]
  },
  {
   "cell_type": "code",
   "execution_count": 7,
   "id": "45898ec8",
   "metadata": {},
   "outputs": [
    {
     "data": {
      "text/plain": [
       "(1, 2, 3, 4, 5, 6, 7, 8, 9, 10, 11, 12, 13)"
      ]
     },
     "execution_count": 7,
     "metadata": {},
     "output_type": "execute_result"
    }
   ],
   "source": [
    "C1"
   ]
  },
  {
   "cell_type": "code",
   "execution_count": 8,
   "id": "00a07130",
   "metadata": {},
   "outputs": [
    {
     "data": {
      "text/plain": [
       "13"
      ]
     },
     "execution_count": 8,
     "metadata": {},
     "output_type": "execute_result"
    }
   ],
   "source": [
    "len(C1)"
   ]
  },
  {
   "cell_type": "markdown",
   "id": "a928742d",
   "metadata": {},
   "source": [
    "**Assignment Task 3:** Set Creation\n",
    "Create a Python set containing the first 10 `even` numbers (2, 4, 6, ...). Write a program to `display` this set."
   ]
  },
  {
   "cell_type": "code",
   "execution_count": 9,
   "id": "5592e115",
   "metadata": {},
   "outputs": [
    {
     "name": "stdout",
     "output_type": "stream",
     "text": [
      "{2, 4, 6, 8, 10, 12, 14, 16, 18, 20}\n"
     ]
    }
   ],
   "source": [
    "Even= {2,4,6,8,10,12,14,16,18,20}\n",
    "print(Even)"
   ]
  },
  {
   "cell_type": "markdown",
   "id": "9e0a2cd5",
   "metadata": {},
   "source": [
    "**Assignment Task 4:** Set Operations\n",
    "Given two sets, write a Python program to find the `union, intersection, and difference` of these sets."
   ]
  },
  {
   "cell_type": "code",
   "execution_count": 14,
   "id": "b94e9776",
   "metadata": {},
   "outputs": [],
   "source": [
    "set1= {1,2,3,4,5}\n",
    "set2= {3,4,5,6,7,8,9}"
   ]
  },
  {
   "cell_type": "code",
   "execution_count": 13,
   "id": "c9acb514",
   "metadata": {},
   "outputs": [
    {
     "data": {
      "text/plain": [
       "{1, 2, 3, 4, 5, 6, 7, 8, 9}"
      ]
     },
     "execution_count": 13,
     "metadata": {},
     "output_type": "execute_result"
    }
   ],
   "source": [
    "set1.union(set2)"
   ]
  },
  {
   "cell_type": "code",
   "execution_count": 15,
   "id": "70ba13e2",
   "metadata": {},
   "outputs": [
    {
     "data": {
      "text/plain": [
       "{3, 4, 5}"
      ]
     },
     "execution_count": 15,
     "metadata": {},
     "output_type": "execute_result"
    }
   ],
   "source": [
    "set1.intersection(set2)"
   ]
  },
  {
   "cell_type": "code",
   "execution_count": 16,
   "id": "82575c20",
   "metadata": {},
   "outputs": [
    {
     "data": {
      "text/plain": [
       "{1, 2}"
      ]
     },
     "execution_count": 16,
     "metadata": {},
     "output_type": "execute_result"
    }
   ],
   "source": [
    "set1.difference(set2)"
   ]
  },
  {
   "cell_type": "markdown",
   "id": "f1c3eecc",
   "metadata": {},
   "source": [
    "**Assignment Task 5:** Tuple and Set Conversion\n",
    "Write a Python program that takes a `tuple` of integers and converts it into a `set`. Then, find and print the `maximum and minimum` values from the set."
   ]
  },
  {
   "cell_type": "code",
   "execution_count": 17,
   "id": "768944c4",
   "metadata": {},
   "outputs": [],
   "source": [
    "tuple1= (11,22,33,345,44,55,666)"
   ]
  },
  {
   "cell_type": "code",
   "execution_count": 18,
   "id": "45931bab",
   "metadata": {},
   "outputs": [],
   "source": [
    "set1= set(tuple1)"
   ]
  },
  {
   "cell_type": "code",
   "execution_count": 19,
   "id": "23ee1420",
   "metadata": {},
   "outputs": [
    {
     "data": {
      "text/plain": [
       "{11, 22, 33, 44, 55, 345, 666}"
      ]
     },
     "execution_count": 19,
     "metadata": {},
     "output_type": "execute_result"
    }
   ],
   "source": [
    "set1"
   ]
  },
  {
   "cell_type": "code",
   "execution_count": 20,
   "id": "803efcf8",
   "metadata": {},
   "outputs": [
    {
     "data": {
      "text/plain": [
       "11"
      ]
     },
     "execution_count": 20,
     "metadata": {},
     "output_type": "execute_result"
    }
   ],
   "source": [
    "min(set1)"
   ]
  },
  {
   "cell_type": "code",
   "execution_count": 21,
   "id": "934f5ea3",
   "metadata": {},
   "outputs": [
    {
     "data": {
      "text/plain": [
       "666"
      ]
     },
     "execution_count": 21,
     "metadata": {},
     "output_type": "execute_result"
    }
   ],
   "source": [
    "max(set1)"
   ]
  },
  {
   "cell_type": "markdown",
   "id": "aab26387",
   "metadata": {},
   "source": [
    "**Assignment Task 6:** Tuple Immutability\n",
    "Explain the concept of immutability in Python tuples with examples. Discuss why tuples are considered immutable data structures."
   ]
  },
  {
   "cell_type": "markdown",
   "id": "5220431c",
   "metadata": {},
   "source": [
    "**Tuple Immutability**\n",
    "- immutability in python means the changes that are made which does not effect the original tuple.\n",
    "- there is no any functions or methods that can change(adding/removing) the values from the tuple.\n",
    "- Tuple has only two functions(index and count) which does not effect the tuple.\n",
    "- we can add values through concatenation but it does not effect the original tuples"
   ]
  },
  {
   "cell_type": "code",
   "execution_count": 22,
   "id": "3c6a5fb1",
   "metadata": {},
   "outputs": [],
   "source": [
    "tuple1= (1,2,3,4,5,6)"
   ]
  },
  {
   "cell_type": "code",
   "execution_count": 24,
   "id": "0136adb0",
   "metadata": {},
   "outputs": [],
   "source": [
    "tuple2= (7,8,9,10)"
   ]
  },
  {
   "cell_type": "code",
   "execution_count": 25,
   "id": "be41e781",
   "metadata": {},
   "outputs": [
    {
     "data": {
      "text/plain": [
       "(1, 2, 3, 4, 5, 6, 7, 8, 9, 10)"
      ]
     },
     "execution_count": 25,
     "metadata": {},
     "output_type": "execute_result"
    }
   ],
   "source": [
    "tuple1+tuple2       #concatenation does not make any changes to the original tuples."
   ]
  },
  {
   "cell_type": "code",
   "execution_count": 26,
   "id": "5158f13f",
   "metadata": {},
   "outputs": [
    {
     "data": {
      "text/plain": [
       "(1, 2, 3, 4, 5, 6)"
      ]
     },
     "execution_count": 26,
     "metadata": {},
     "output_type": "execute_result"
    }
   ],
   "source": [
    "tuple1"
   ]
  },
  {
   "cell_type": "code",
   "execution_count": 27,
   "id": "f15d61eb",
   "metadata": {},
   "outputs": [
    {
     "data": {
      "text/plain": [
       "(7, 8, 9, 10)"
      ]
     },
     "execution_count": 27,
     "metadata": {},
     "output_type": "execute_result"
    }
   ],
   "source": [
    "tuple2"
   ]
  },
  {
   "cell_type": "markdown",
   "id": "8b38e1be",
   "metadata": {},
   "source": [
    "**Assignment Task 7:** Set Operations and Methods\n",
    "Write a Python program that takes a set of numbers and performs the following operations:\n",
    "   - Add a new number to the set.\n",
    "   - Remove a number from the set.\n",
    "   - Check if a specific number is in the set.\n",
    "   - Find the size of the set."
   ]
  },
  {
   "cell_type": "code",
   "execution_count": 28,
   "id": "c3495740",
   "metadata": {},
   "outputs": [],
   "source": [
    "set1={1,2,3,4,5,6,77,88,99}"
   ]
  },
  {
   "cell_type": "code",
   "execution_count": 29,
   "id": "1726600a",
   "metadata": {},
   "outputs": [],
   "source": [
    "set1.add(1098)"
   ]
  },
  {
   "cell_type": "code",
   "execution_count": 30,
   "id": "25004b9c",
   "metadata": {},
   "outputs": [
    {
     "data": {
      "text/plain": [
       "{1, 2, 3, 4, 5, 6, 77, 88, 99, 1098}"
      ]
     },
     "execution_count": 30,
     "metadata": {},
     "output_type": "execute_result"
    }
   ],
   "source": [
    "set1"
   ]
  },
  {
   "cell_type": "code",
   "execution_count": 31,
   "id": "35dc4ac7",
   "metadata": {},
   "outputs": [],
   "source": [
    "set1.remove(77)"
   ]
  },
  {
   "cell_type": "code",
   "execution_count": 32,
   "id": "1081f83b",
   "metadata": {},
   "outputs": [
    {
     "data": {
      "text/plain": [
       "{1, 2, 3, 4, 5, 6, 88, 99, 1098}"
      ]
     },
     "execution_count": 32,
     "metadata": {},
     "output_type": "execute_result"
    }
   ],
   "source": [
    "set1"
   ]
  },
  {
   "cell_type": "code",
   "execution_count": 33,
   "id": "983628ee",
   "metadata": {},
   "outputs": [
    {
     "data": {
      "text/plain": [
       "False"
      ]
     },
     "execution_count": 33,
     "metadata": {},
     "output_type": "execute_result"
    }
   ],
   "source": [
    "77 in set1"
   ]
  },
  {
   "cell_type": "code",
   "execution_count": 34,
   "id": "098b9bfd",
   "metadata": {},
   "outputs": [
    {
     "data": {
      "text/plain": [
       "True"
      ]
     },
     "execution_count": 34,
     "metadata": {},
     "output_type": "execute_result"
    }
   ],
   "source": [
    "99 in set1"
   ]
  },
  {
   "cell_type": "code",
   "execution_count": 35,
   "id": "93d9a881",
   "metadata": {},
   "outputs": [
    {
     "data": {
      "text/plain": [
       "9"
      ]
     },
     "execution_count": 35,
     "metadata": {},
     "output_type": "execute_result"
    }
   ],
   "source": [
    "len(set1)"
   ]
  },
  {
   "cell_type": "markdown",
   "id": "67d1137a",
   "metadata": {},
   "source": [
    "**Assignment Task 8:** Tuple Slicing\n",
    "Given a tuple of 10 elements, write a Python program to print the elements from the `3rd to the 7th `position using slicing."
   ]
  },
  {
   "cell_type": "code",
   "execution_count": 36,
   "id": "cd4e1663",
   "metadata": {},
   "outputs": [],
   "source": [
    "A= (1,3,5,7,9,11,13,15,17,19)"
   ]
  },
  {
   "cell_type": "code",
   "execution_count": 38,
   "id": "bd6428d9",
   "metadata": {},
   "outputs": [
    {
     "data": {
      "text/plain": [
       "(7, 9, 11, 13, 15)"
      ]
     },
     "execution_count": 38,
     "metadata": {},
     "output_type": "execute_result"
    }
   ],
   "source": [
    "A[3:8]"
   ]
  },
  {
   "cell_type": "markdown",
   "id": "fb9b84f7",
   "metadata": {},
   "source": [
    "**Assignment Task 9:** Set Operations with Lists\n",
    "Create a Python list with duplicate elements and convert it into a set to remove duplicates. Then, write a program to count how many duplicates were removed."
   ]
  },
  {
   "cell_type": "code",
   "execution_count": 39,
   "id": "c9f17232",
   "metadata": {},
   "outputs": [],
   "source": [
    "List1= [1,2,2,2,3,4,5,6,6,8,8]"
   ]
  },
  {
   "cell_type": "code",
   "execution_count": 40,
   "id": "de973d65",
   "metadata": {},
   "outputs": [
    {
     "data": {
      "text/plain": [
       "11"
      ]
     },
     "execution_count": 40,
     "metadata": {},
     "output_type": "execute_result"
    }
   ],
   "source": [
    "len(List1)"
   ]
  },
  {
   "cell_type": "code",
   "execution_count": 43,
   "id": "f59c892d",
   "metadata": {},
   "outputs": [],
   "source": [
    "Set1=set(List1)"
   ]
  },
  {
   "cell_type": "code",
   "execution_count": 44,
   "id": "29a64ff1",
   "metadata": {},
   "outputs": [
    {
     "data": {
      "text/plain": [
       "{1, 2, 3, 4, 5, 6, 8}"
      ]
     },
     "execution_count": 44,
     "metadata": {},
     "output_type": "execute_result"
    }
   ],
   "source": [
    "Set1"
   ]
  },
  {
   "cell_type": "code",
   "execution_count": 45,
   "id": "d80204d6",
   "metadata": {},
   "outputs": [
    {
     "data": {
      "text/plain": [
       "7"
      ]
     },
     "execution_count": 45,
     "metadata": {},
     "output_type": "execute_result"
    }
   ],
   "source": [
    "len(Set1)  # 4 duplicates removed"
   ]
  },
  {
   "cell_type": "markdown",
   "id": "4d63ebe3",
   "metadata": {},
   "source": [
    "**Assignment Task 10:** Tuple and Set Combinations\n",
    "Create a `tuple` containing the names of your friend's favorite movies and a `set` containing the names of your favorite movies. Write a Python program to find and display common elements (movies that feature your "
   ]
  },
  {
   "cell_type": "code",
   "execution_count": 50,
   "id": "35942381",
   "metadata": {},
   "outputs": [],
   "source": [
    "Tuple1= (\"RRR\",\"pushpa\",\"spider man\",\"iron man\",\"Hulk\")\n",
    "set1= {\"iron man\",\"black panther\",\"Hulk\", \"thor\", \"loki\",\"RRR\"}"
   ]
  },
  {
   "cell_type": "code",
   "execution_count": 51,
   "id": "2c0fe5f1",
   "metadata": {},
   "outputs": [
    {
     "data": {
      "text/plain": [
       "{'Hulk', 'RRR', 'iron man'}"
      ]
     },
     "execution_count": 51,
     "metadata": {},
     "output_type": "execute_result"
    }
   ],
   "source": [
    "set1.intersection(Tuple1)"
   ]
  }
 ],
 "metadata": {
  "kernelspec": {
   "display_name": "Python 3 (ipykernel)",
   "language": "python",
   "name": "python3"
  },
  "language_info": {
   "codemirror_mode": {
    "name": "ipython",
    "version": 3
   },
   "file_extension": ".py",
   "mimetype": "text/x-python",
   "name": "python",
   "nbconvert_exporter": "python",
   "pygments_lexer": "ipython3",
   "version": "3.11.4"
  }
 },
 "nbformat": 4,
 "nbformat_minor": 5
}
