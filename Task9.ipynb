{
 "cells": [
  {
   "cell_type": "markdown",
   "id": "dd8718fa",
   "metadata": {},
   "source": [
    "\n",
    "\n",
    "1. **Print Numbers from 1 to N:**\n",
    "   Write a Python program that uses a for loop to print all numbers from `1 to N` and `substract 5 `from each number.where N is a `positive integer` entered by the user.\n",
    "\n",
    "2. **Calculate the Sum of Numbers from 1 to N:**\n",
    "   Write a Python program that calculates and prints the `sum` of all numbers from `1 to N`, where N is a `positive integer` entered by the user, using a for loop.\n",
    "\n",
    "3. **Print Even Numbers:**\n",
    "   Write a Python program that prints all `even numbers` from `50 to 100` using a `for` loop.\n",
    "\n",
    "4. **Reverse a String:**\n",
    "   Write a Python program that takes a string as input and uses a `for loop` to print the characters of the string in `reverse order`.\n",
    "\n",
    "5. **Count Vowels in a String:**\n",
    "    `name = \"innomatics research labs\"`\n",
    "   Write a Python program uses a for loop to count the number of vowels (a, e, i, o, u) in the string. Ignore case sensitivity.\n",
    "\n",
    "6. **Generate a Multiplication Table:**\n",
    "   Write a Python program that generates and prints the multiplication table for  6.\n"
   ]
  },
  {
   "cell_type": "markdown",
   "id": "3bb7d6f8",
   "metadata": {},
   "source": [
    "1. **Print Numbers from 1 to N:**\n",
    "   Write a Python program that uses a for loop to print all numbers from `1 to N` and `substract 5 `from each number.where N is a `positive integer` entered by the user."
   ]
  },
  {
   "cell_type": "code",
   "execution_count": 25,
   "id": "2531363c",
   "metadata": {},
   "outputs": [
    {
     "name": "stdout",
     "output_type": "stream",
     "text": [
      "Enter N:10\n",
      "-4\n",
      "-3\n",
      "-2\n",
      "-1\n",
      "0\n",
      "1\n",
      "2\n",
      "3\n",
      "4\n",
      "5\n"
     ]
    }
   ],
   "source": [
    "N= int(input(\"Enter N:\"))\n",
    "for i in range(1,N+1):\n",
    "    if N > 0:\n",
    "        print(i-5)"
   ]
  },
  {
   "cell_type": "markdown",
   "id": "306f861a",
   "metadata": {},
   "source": [
    "2. **Calculate the Sum of Numbers from 1 to N:**\n",
    "   Write a Python program that calculates and prints the `sum` of all numbers from `1 to N`, where N is a `positive integer` entered by the user, using a for loop."
   ]
  },
  {
   "cell_type": "code",
   "execution_count": 28,
   "id": "57980b6e",
   "metadata": {},
   "outputs": [
    {
     "name": "stdout",
     "output_type": "stream",
     "text": [
      "Enter the number:5\n"
     ]
    }
   ],
   "source": [
    "N= int(input(\"Enter the number:\"))\n",
    "list1= list(range(1,N+1))\n",
    "total= 0\n",
    "for i in list1:\n",
    "    if (N>0):\n",
    "        total= total+i"
   ]
  },
  {
   "cell_type": "code",
   "execution_count": 29,
   "id": "9707f0d2",
   "metadata": {},
   "outputs": [
    {
     "name": "stdout",
     "output_type": "stream",
     "text": [
      "15\n"
     ]
    }
   ],
   "source": [
    " print(total)"
   ]
  },
  {
   "cell_type": "markdown",
   "id": "7be3f987",
   "metadata": {},
   "source": [
    "3. **Print Even Numbers:**\n",
    "   Write a Python program that prints all `even numbers` from `50 to 100` using a `for` loop."
   ]
  },
  {
   "cell_type": "code",
   "execution_count": 33,
   "id": "f27dbd7f",
   "metadata": {},
   "outputs": [
    {
     "name": "stdout",
     "output_type": "stream",
     "text": [
      "50\n",
      "52\n",
      "54\n",
      "56\n",
      "58\n",
      "60\n",
      "62\n",
      "64\n",
      "66\n",
      "68\n",
      "70\n",
      "72\n",
      "74\n",
      "76\n",
      "78\n",
      "80\n",
      "82\n",
      "84\n",
      "86\n",
      "88\n",
      "90\n",
      "92\n",
      "94\n",
      "96\n",
      "98\n"
     ]
    }
   ],
   "source": [
    "even= tuple(range(50,100))\n",
    "for i in even:\n",
    "    if i % 2 == 0:\n",
    "        print(i)"
   ]
  },
  {
   "cell_type": "markdown",
   "id": "ddce1fc8",
   "metadata": {},
   "source": [
    "4. **Reverse a String:**\n",
    "   Write a Python program that takes a string as input and uses a `for loop` to print the characters of the string in `reverse order`."
   ]
  },
  {
   "cell_type": "code",
   "execution_count": 49,
   "id": "6b1abe9b",
   "metadata": {},
   "outputs": [
    {
     "name": "stdout",
     "output_type": "stream",
     "text": [
      "Enter a string:innomatics\n",
      "s\n",
      "c\n",
      "i\n",
      "t\n",
      "a\n",
      "m\n",
      "o\n",
      "n\n",
      "n\n",
      "i\n"
     ]
    }
   ],
   "source": [
    "string= input(\"Enter a string:\")\n",
    "for i in string[-1::-1]:\n",
    "            print(i)\n",
    "        "
   ]
  },
  {
   "cell_type": "markdown",
   "id": "5936c6d2",
   "metadata": {},
   "source": [
    "5. **Count Vowels in a String:**\n",
    "    `name = \"innomatics research labs\"`\n",
    "   Write a Python program uses a for loop to count the number of vowels (a, e, i, o, u) in the string. Ignore case sensitivity."
   ]
  },
  {
   "cell_type": "code",
   "execution_count": 81,
   "id": "8cb0a798",
   "metadata": {},
   "outputs": [
    {
     "name": "stdout",
     "output_type": "stream",
     "text": [
      "8\n"
     ]
    }
   ],
   "source": [
    "name = \"innomatics research labs\"\n",
    "vowel= []\n",
    "for i in name :\n",
    "    if i in (\"a\",\"e\",\"i\",\"o\",\"u\"):\n",
    "        vowel.append(i)\n",
    "print(len(vowel))"
   ]
  },
  {
   "cell_type": "markdown",
   "id": "e488b3e1",
   "metadata": {},
   "source": [
    "6. **Generate a Multiplication Table:**\n",
    "   Write a Python program that generates and prints the multiplication table for  6."
   ]
  },
  {
   "cell_type": "code",
   "execution_count": 66,
   "id": "e114a4b4",
   "metadata": {},
   "outputs": [
    {
     "name": "stdout",
     "output_type": "stream",
     "text": [
      "Enter number :20\n",
      "6*1= 6\n",
      "6*2= 12\n",
      "6*3= 18\n",
      "6*4= 24\n",
      "6*5= 30\n",
      "6*6= 36\n",
      "6*7= 42\n",
      "6*8= 48\n",
      "6*9= 54\n",
      "6*10= 60\n",
      "6*11= 66\n",
      "6*12= 72\n",
      "6*13= 78\n",
      "6*14= 84\n",
      "6*15= 90\n",
      "6*16= 96\n",
      "6*17= 102\n",
      "6*18= 108\n",
      "6*19= 114\n",
      "6*20= 120\n"
     ]
    }
   ],
   "source": [
    "N= 6\n",
    "num=int(input(\"Enter number :\"))\n",
    "for i in range(1,num+1):\n",
    "            print(f\"{N}*{i}=\",N*i)"
   ]
  }
 ],
 "metadata": {
  "kernelspec": {
   "display_name": "Python 3 (ipykernel)",
   "language": "python",
   "name": "python3"
  },
  "language_info": {
   "codemirror_mode": {
    "name": "ipython",
    "version": 3
   },
   "file_extension": ".py",
   "mimetype": "text/x-python",
   "name": "python",
   "nbconvert_exporter": "python",
   "pygments_lexer": "ipython3",
   "version": "3.11.4"
  }
 },
 "nbformat": 4,
 "nbformat_minor": 5
}
