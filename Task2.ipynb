{
 "cells": [
  {
   "cell_type": "markdown",
   "id": "b8536ea7",
   "metadata": {},
   "source": [
    "* Write a program that calculates the `sum, difference, product, and quotient` of two numbers: 10 and 5.\n"
   ]
  },
  {
   "cell_type": "code",
   "execution_count": 5,
   "id": "259f4de3",
   "metadata": {},
   "outputs": [
    {
     "name": "stdout",
     "output_type": "stream",
     "text": [
      "15\n",
      "5\n",
      "50\n",
      "2\n"
     ]
    }
   ],
   "source": [
    "A= 10\n",
    "B= 5\n",
    "print(A+B)\n",
    "print(A-B)\n",
    "print(A*B)\n",
    "print(A//B)"
   ]
  },
  {
   "cell_type": "markdown",
   "id": "e829941d",
   "metadata": {},
   "source": [
    "*  Create a program that calculates the `area of a circle` with a radius of 4.5 units."
   ]
  },
  {
   "cell_type": "code",
   "execution_count": 7,
   "id": "6ed97e1b",
   "metadata": {},
   "outputs": [
    {
     "name": "stdout",
     "output_type": "stream",
     "text": [
      "63.585\n"
     ]
    }
   ],
   "source": [
    "radius= 4.5\n",
    "pi= 3.14\n",
    "Area_of_circle= pi*(radius)**2\n",
    "print(Area_of_circle)"
   ]
  },
  {
   "cell_type": "markdown",
   "id": "cd4ddbec",
   "metadata": {},
   "source": [
    "*  Write a program that `swaps` the values of two variables: x with a value of 5 and \"y\" with a value of 10."
   ]
  },
  {
   "cell_type": "code",
   "execution_count": 24,
   "id": "3a3c4c76",
   "metadata": {},
   "outputs": [
    {
     "name": "stdout",
     "output_type": "stream",
     "text": [
      "5\n",
      "10\n"
     ]
    }
   ],
   "source": [
    "x=5\n",
    "y=10\n",
    "temp=x    #assigning x(5) to the variable.Now temp=5\n",
    "x=y       #assigning y(10) to the x. Now x=10\n",
    "y=temp    #assigning temp(5) to the y. Now y=5 ,so the values are swapped.\n",
    "print(y)\n",
    "print(x)"
   ]
  },
  {
   "cell_type": "markdown",
   "id": "194aab50",
   "metadata": {},
   "source": [
    "* Create a program that calculates `compound interest` for a principal amount of $1000, an interest rate of 5%, and a time period of 3 years."
   ]
  },
  {
   "cell_type": "code",
   "execution_count": 32,
   "id": "5f35c683",
   "metadata": {},
   "outputs": [
    {
     "name": "stdout",
     "output_type": "stream",
     "text": [
      "157.62500000000023\n"
     ]
    }
   ],
   "source": [
    "principle_amount= 1000\n",
    "interest_rate= 5\n",
    "time= 3\n",
    "Amount=(principle_amount)*(1+interest_rate/100)**time\n",
    "Compound_interest= Amount-principle_amount\n",
    "print(Compound_interest)"
   ]
  },
  {
   "cell_type": "markdown",
   "id": "768483d0",
   "metadata": {},
   "source": [
    "* Write a program that `compares` two numbers: 7 and 12, and determines whether the first number is greater than, less than, or equal to the second number."
   ]
  },
  {
   "cell_type": "code",
   "execution_count": 11,
   "id": "65462a1e",
   "metadata": {},
   "outputs": [
    {
     "name": "stdout",
     "output_type": "stream",
     "text": [
      "False\n",
      "True\n",
      "False\n"
     ]
    }
   ],
   "source": [
    "A= 7\n",
    "B= 12\n",
    "print(A>B)\n",
    "print(A<B)\n",
    "print(A==B)"
   ]
  },
  {
   "cell_type": "markdown",
   "id": "2e1b8b10",
   "metadata": {},
   "source": [
    "* Create a program that `checks` if a person of age 18 is eligible to vote based on the voting age requirement.(True/False)"
   ]
  },
  {
   "cell_type": "code",
   "execution_count": 44,
   "id": "29d5d8ef",
   "metadata": {},
   "outputs": [
    {
     "name": "stdout",
     "output_type": "stream",
     "text": [
      "Enter the Age:20\n",
      "True\n"
     ]
    }
   ],
   "source": [
    "age=int(input(\"Enter the Age:\"))\n",
    "if age>=18:\n",
    "    print(\"True\")\n",
    "else:\n",
    "    print(\"False\")\n"
   ]
  },
  {
   "cell_type": "markdown",
   "id": "7881a204",
   "metadata": {},
   "source": [
    "* Create a program that `swaps` the values of two integers: `a` with a value of 10 and `b` with a value of 20 using\n",
    " *  bitwise XOR (^) operator.\n",
    " * Logical AND\n",
    " * Logical OR\n",
    " * Logical NOT"
   ]
  },
  {
   "cell_type": "code",
   "execution_count": 47,
   "id": "f2273eee",
   "metadata": {},
   "outputs": [
    {
     "name": "stdout",
     "output_type": "stream",
     "text": [
      "20\n",
      "10\n",
      "30\n",
      "10\n",
      "20\n",
      "False\n"
     ]
    }
   ],
   "source": [
    "a=10\n",
    "b=20\n",
    "temp=a\n",
    "a=b\n",
    "b=temp\n",
    "print(a)\n",
    "\n",
    "print(b)\n",
    "\n",
    "print(a^b)\n",
    "\n",
    "print(a and b)\n",
    "\n",
    "print(a or b)\n",
    "print(not(a,b))"
   ]
  },
  {
   "cell_type": "markdown",
   "id": "e0cb0451",
   "metadata": {},
   "source": [
    "*  Create a Python program that calculates the `area of a rectangle`. Prompt the `user to enter` the length and width of the rectangle, `store them` in variables, and compute the area using the formula:area length width.Finally, `print the calculated area."
   ]
  },
  {
   "cell_type": "code",
   "execution_count": 21,
   "id": "e442e343",
   "metadata": {},
   "outputs": [
    {
     "name": "stdout",
     "output_type": "stream",
     "text": [
      "Enter the length:2\n",
      "Enter the width:4\n",
      "Area of the rectangle: 8\n"
     ]
    }
   ],
   "source": [
    "Length= int(input(\"Enter the length:\"))\n",
    "Width= int(input(\"Enter the width:\"))\n",
    "Area= Length * Width\n",
    "print(\"Area of the rectangle:\",Area)"
   ]
  },
  {
   "cell_type": "markdown",
   "id": "1c31f79e",
   "metadata": {},
   "source": [
    "* Create a Python program that calculates the `average` of three exam scores. Prompt the user to enter the scores, `store them` in variables, calculate the average, and print the result."
   ]
  },
  {
   "cell_type": "code",
   "execution_count": 17,
   "id": "cc28d87d",
   "metadata": {},
   "outputs": [
    {
     "name": "stdout",
     "output_type": "stream",
     "text": [
      "enter the score1:80\n",
      "enter the score2:90\n",
      "enter the score3:100\n",
      "Average score is: 90.0\n"
     ]
    }
   ],
   "source": [
    "Exam1 =int(input(\"enter the score1:\"))\n",
    "Exam2 =int(input(\"enter the score2:\"))\n",
    "Exam3 =int(input(\"enter the score3:\"))\n",
    "Average= (Exam1+Exam2+Exam3)/3\n",
    "print(\"Average score is:\",Average)"
   ]
  },
  {
   "cell_type": "markdown",
   "id": "1e32265e",
   "metadata": {},
   "source": [
    "* Write a Python program that `converts` temperature from Celsius to Fahrenheit. Prompt the user to enter a temperature in Celsius, store it in a variable, and convert it to Fahrenheit using the formula: `Fahrenheit = (Celsius* 9/5)+32`, and print the converted temperature."
   ]
  },
  {
   "cell_type": "code",
   "execution_count": 22,
   "id": "ad515170",
   "metadata": {},
   "outputs": [
    {
     "name": "stdout",
     "output_type": "stream",
     "text": [
      "Enter the value:30\n",
      "86.0\n"
     ]
    }
   ],
   "source": [
    "Celsius= int(input(\"Enter the value:\"))\n",
    "Fahrenheit = (Celsius* 9/5)+32\n",
    "print(Fahrenheit)"
   ]
  },
  {
   "cell_type": "markdown",
   "id": "2978d8a5",
   "metadata": {},
   "source": [
    "* What are the `logical operators` in Python? Explain `each one` with an example."
   ]
  },
  {
   "cell_type": "markdown",
   "id": "9799316b",
   "metadata": {},
   "source": [
    "### Logical Operators \n",
    "* Logical operators can be used for both `conditions` and `values`\n",
    "* **1.Logical AND**\n",
    "  * The Logical AND operator returns True if `all the conditions are True(1,1).`\n",
    "  * The Logical AND operator returns False if one condition is False[(0,1),(1,0),(0,0)]\n",
    "  * The Logical AND operator returns the `last value` when we are dealing with values\n",
    "* **2.Logical OR**\n",
    "  * The Logical OR operator returns True if any one condition is True[(1,0),(1,1),(0,1)]\n",
    "  * The Logical OR operator returns False if both the the conditions are false(0,0)\n",
    "  * The Logical OR operator returns the `first value` when we are dealing with values\n",
    "* **3.Logical NOT**\n",
    "  * The Logical NOT operator returns False when the condition is True and vice-versa. "
   ]
  },
  {
   "cell_type": "markdown",
   "id": "b8e8f835",
   "metadata": {},
   "source": [
    "#### 1.Logical AND\n",
    "\n",
    "**Examples**"
   ]
  },
  {
   "cell_type": "code",
   "execution_count": 51,
   "id": "da9b6bf8",
   "metadata": {},
   "outputs": [
    {
     "data": {
      "text/plain": [
       "False"
      ]
     },
     "execution_count": 51,
     "metadata": {},
     "output_type": "execute_result"
    }
   ],
   "source": [
    "A= 20\n",
    "B= 21\n",
    "(A>B) and (A<=B)"
   ]
  },
  {
   "cell_type": "code",
   "execution_count": 52,
   "id": "ca72b57b",
   "metadata": {},
   "outputs": [
    {
     "data": {
      "text/plain": [
       "True"
      ]
     },
     "execution_count": 52,
     "metadata": {},
     "output_type": "execute_result"
    }
   ],
   "source": [
    "(A<B) and (A<=B) and (A!=B) and (B>A)"
   ]
  },
  {
   "cell_type": "code",
   "execution_count": 53,
   "id": "a0970a04",
   "metadata": {},
   "outputs": [
    {
     "data": {
      "text/plain": [
       "False"
      ]
     },
     "execution_count": 53,
     "metadata": {},
     "output_type": "execute_result"
    }
   ],
   "source": [
    "(A==B) and (A<=B)"
   ]
  },
  {
   "cell_type": "code",
   "execution_count": 54,
   "id": "82a37acb",
   "metadata": {},
   "outputs": [
    {
     "data": {
      "text/plain": [
       "21"
      ]
     },
     "execution_count": 54,
     "metadata": {},
     "output_type": "execute_result"
    }
   ],
   "source": [
    "A and B"
   ]
  },
  {
   "cell_type": "markdown",
   "id": "61df9a14",
   "metadata": {},
   "source": [
    "#### 2.Logical OR\n",
    "\n",
    "**Examples**"
   ]
  },
  {
   "cell_type": "code",
   "execution_count": 55,
   "id": "3027e8eb",
   "metadata": {},
   "outputs": [
    {
     "data": {
      "text/plain": [
       "True"
      ]
     },
     "execution_count": 55,
     "metadata": {},
     "output_type": "execute_result"
    }
   ],
   "source": [
    "x= 20\n",
    "y= 30\n",
    "\n",
    "(x>y) or (x<y)"
   ]
  },
  {
   "cell_type": "code",
   "execution_count": 56,
   "id": "dfb3623a",
   "metadata": {},
   "outputs": [
    {
     "data": {
      "text/plain": [
       "True"
      ]
     },
     "execution_count": 56,
     "metadata": {},
     "output_type": "execute_result"
    }
   ],
   "source": [
    "(x<=y) or (x>=y) or (x!=y)"
   ]
  },
  {
   "cell_type": "code",
   "execution_count": 57,
   "id": "34eaf0c3",
   "metadata": {},
   "outputs": [
    {
     "data": {
      "text/plain": [
       "False"
      ]
     },
     "execution_count": 57,
     "metadata": {},
     "output_type": "execute_result"
    }
   ],
   "source": [
    "(x==y) or (x>=y)"
   ]
  },
  {
   "cell_type": "code",
   "execution_count": 58,
   "id": "4a8a6f44",
   "metadata": {},
   "outputs": [
    {
     "data": {
      "text/plain": [
       "20"
      ]
     },
     "execution_count": 58,
     "metadata": {},
     "output_type": "execute_result"
    }
   ],
   "source": [
    "x or y"
   ]
  },
  {
   "cell_type": "markdown",
   "id": "77ff7a60",
   "metadata": {},
   "source": [
    "#### 3.Logical NOT\n",
    "\n",
    "**Examples**"
   ]
  },
  {
   "cell_type": "code",
   "execution_count": 59,
   "id": "b3630452",
   "metadata": {},
   "outputs": [],
   "source": [
    "a= 20\n",
    "b= 30"
   ]
  },
  {
   "cell_type": "code",
   "execution_count": 60,
   "id": "facda21f",
   "metadata": {},
   "outputs": [
    {
     "data": {
      "text/plain": [
       "True"
      ]
     },
     "execution_count": 60,
     "metadata": {},
     "output_type": "execute_result"
    }
   ],
   "source": [
    "not(a>b)"
   ]
  },
  {
   "cell_type": "code",
   "execution_count": 61,
   "id": "a37d2f13",
   "metadata": {},
   "outputs": [
    {
     "data": {
      "text/plain": [
       "True"
      ]
     },
     "execution_count": 61,
     "metadata": {},
     "output_type": "execute_result"
    }
   ],
   "source": [
    "not(a==b)"
   ]
  },
  {
   "cell_type": "code",
   "execution_count": 62,
   "id": "b72df6d6",
   "metadata": {},
   "outputs": [
    {
     "data": {
      "text/plain": [
       "False"
      ]
     },
     "execution_count": 62,
     "metadata": {},
     "output_type": "execute_result"
    }
   ],
   "source": [
    "not(a!=b)"
   ]
  },
  {
   "cell_type": "code",
   "execution_count": 63,
   "id": "f81518de",
   "metadata": {},
   "outputs": [
    {
     "data": {
      "text/plain": [
       "True"
      ]
     },
     "execution_count": 63,
     "metadata": {},
     "output_type": "execute_result"
    }
   ],
   "source": [
    "not 0"
   ]
  },
  {
   "cell_type": "code",
   "execution_count": 64,
   "id": "63e0c934",
   "metadata": {},
   "outputs": [
    {
     "data": {
      "text/plain": [
       "True"
      ]
     },
     "execution_count": 64,
     "metadata": {},
     "output_type": "execute_result"
    }
   ],
   "source": [
    "not 0.0"
   ]
  },
  {
   "cell_type": "code",
   "execution_count": 65,
   "id": "e1d82bd7",
   "metadata": {},
   "outputs": [
    {
     "data": {
      "text/plain": [
       "True"
      ]
     },
     "execution_count": 65,
     "metadata": {},
     "output_type": "execute_result"
    }
   ],
   "source": [
    "not \"\""
   ]
  },
  {
   "cell_type": "markdown",
   "id": "e81e038e",
   "metadata": {},
   "source": [
    "* What are the `membership` operators in Python? Explain their usage with examples"
   ]
  },
  {
   "cell_type": "markdown",
   "id": "44767418",
   "metadata": {},
   "source": [
    "### Membership operators\n",
    "* membership operator can be used for `string datatype`\n",
    "* **in** and **not in**\n",
    "* To check wether the particular character is present in the string or not.\n",
    "\n",
    "**Examples**"
   ]
  },
  {
   "cell_type": "code",
   "execution_count": 66,
   "id": "1b87bf80",
   "metadata": {},
   "outputs": [
    {
     "data": {
      "text/plain": [
       "True"
      ]
     },
     "execution_count": 66,
     "metadata": {},
     "output_type": "execute_result"
    }
   ],
   "source": [
    "A= \"Innomatics Research Labs\"\n",
    "\"I\" in A"
   ]
  },
  {
   "cell_type": "code",
   "execution_count": 67,
   "id": "e042505e",
   "metadata": {},
   "outputs": [
    {
     "data": {
      "text/plain": [
       "True"
      ]
     },
     "execution_count": 67,
     "metadata": {},
     "output_type": "execute_result"
    }
   ],
   "source": [
    "'A'not in A"
   ]
  },
  {
   "cell_type": "code",
   "execution_count": 68,
   "id": "a89b3fdb",
   "metadata": {},
   "outputs": [
    {
     "data": {
      "text/plain": [
       "True"
      ]
     },
     "execution_count": 68,
     "metadata": {},
     "output_type": "execute_result"
    }
   ],
   "source": [
    "'nno' in A"
   ]
  },
  {
   "cell_type": "code",
   "execution_count": 69,
   "id": "cc618c5d",
   "metadata": {},
   "outputs": [
    {
     "data": {
      "text/plain": [
       "True"
      ]
     },
     "execution_count": 69,
     "metadata": {},
     "output_type": "execute_result"
    }
   ],
   "source": [
    "'' in A"
   ]
  },
  {
   "cell_type": "code",
   "execution_count": 70,
   "id": "ed03ac06",
   "metadata": {},
   "outputs": [
    {
     "data": {
      "text/plain": [
       "False"
      ]
     },
     "execution_count": 70,
     "metadata": {},
     "output_type": "execute_result"
    }
   ],
   "source": [
    "\"How\" in A"
   ]
  },
  {
   "cell_type": "markdown",
   "id": "d40a528e",
   "metadata": {},
   "source": [
    "* List and briefly explain the `basic data types` available in Python."
   ]
  },
  {
   "cell_type": "markdown",
   "id": "6a2d46af",
   "metadata": {},
   "source": [
    "#### Basic Data Types\n",
    "* **1.int**\n",
    "  * int is a whole number which can be positive or negative and can be starts from 0 to infinity.\n",
    "  * Example: a=10,b=-10,c=0\n",
    "  * keyword: int\n",
    "* **2.float**\n",
    "  * float is a number with decimal point \n",
    "  * Example: a=5.09, b=0.0001, c= -1.2\n",
    "  * complex: float\n",
    "* **3.complex**\n",
    "  * complex number is a combination of real and imaginary values.\n",
    "  * Example: a=1+10j, b=10+20j, c=2-1j\n",
    "  * keyword: complex\n",
    "* **4.boolean**\n",
    "  * boolean datatype can be used for the conditions to check wether the condition is True or False.\n",
    "  * Example: True and False\n",
    "  * keyword: bool\n",
    "* **5.string**\n",
    "  * string is a collection of characters and numbers can be enclosed in single quotes or double qoutes.\n",
    "  * Example: a=\"Hello world!\", b='Hi', c=\"123\"\n",
    "  * keyword: str"
   ]
  },
  {
   "cell_type": "markdown",
   "id": "8de9d54d",
   "metadata": {},
   "source": [
    "* Write a Python code snippet that `assigns a value to a variable `and determines its `data type` using the type() function."
   ]
  },
  {
   "cell_type": "code",
   "execution_count": 76,
   "id": "8ab63dab",
   "metadata": {},
   "outputs": [
    {
     "name": "stdout",
     "output_type": "stream",
     "text": [
      "Enter the value or character:45\n"
     ]
    },
    {
     "data": {
      "text/plain": [
       "str"
      ]
     },
     "execution_count": 76,
     "metadata": {},
     "output_type": "execute_result"
    }
   ],
   "source": [
    "value= input(\"Enter the value or character:\") #input() function in python by default returns string datatype\n",
    "type(value)"
   ]
  },
  {
   "cell_type": "code",
   "execution_count": 72,
   "id": "e553513e",
   "metadata": {},
   "outputs": [
    {
     "data": {
      "text/plain": [
       "int"
      ]
     },
     "execution_count": 72,
     "metadata": {},
     "output_type": "execute_result"
    }
   ],
   "source": [
    "Value= 20\n",
    "type(Value)"
   ]
  },
  {
   "cell_type": "code",
   "execution_count": 73,
   "id": "852e8d8a",
   "metadata": {},
   "outputs": [
    {
     "data": {
      "text/plain": [
       "float"
      ]
     },
     "execution_count": 73,
     "metadata": {},
     "output_type": "execute_result"
    }
   ],
   "source": [
    "Value= 20.1\n",
    "type(Value)"
   ]
  },
  {
   "cell_type": "code",
   "execution_count": 75,
   "id": "1b2ba4fe",
   "metadata": {},
   "outputs": [
    {
     "data": {
      "text/plain": [
       "complex"
      ]
     },
     "execution_count": 75,
     "metadata": {},
     "output_type": "execute_result"
    }
   ],
   "source": [
    "Value= 1+0j\n",
    "type(Value)"
   ]
  },
  {
   "cell_type": "code",
   "execution_count": 77,
   "id": "b3821db2",
   "metadata": {},
   "outputs": [
    {
     "data": {
      "text/plain": [
       "bool"
      ]
     },
     "execution_count": 77,
     "metadata": {},
     "output_type": "execute_result"
    }
   ],
   "source": [
    "value= True\n",
    "type(value)"
   ]
  },
  {
   "cell_type": "markdown",
   "id": "5404f3b7",
   "metadata": {},
   "source": [
    "Assignment: Basic Python Operators\n",
    "\n",
    "**Task 1: Arithmetic Operators**\n",
    "\n",
    "**1.** Write a Python program that takes two user-input numbers and displays their sum using the addition operator."
   ]
  },
  {
   "cell_type": "code",
   "execution_count": 80,
   "id": "f38d4ca1",
   "metadata": {},
   "outputs": [
    {
     "name": "stdout",
     "output_type": "stream",
     "text": [
      "Enter number1:30\n",
      "Enter number2:30\n",
      "sum is: 60\n"
     ]
    }
   ],
   "source": [
    "a= int(input(\"Enter number1:\"))\n",
    "b= int(input(\"Enter number2:\"))\n",
    "print(\"sum is:\",a+b)"
   ]
  },
  {
   "cell_type": "markdown",
   "id": "3bf8220d",
   "metadata": {},
   "source": [
    "**2.** Create a program to calculate the area of a rectangle. Prompt the user for the length and width, then use multiplication to find the area."
   ]
  },
  {
   "cell_type": "code",
   "execution_count": 81,
   "id": "5c326b3b",
   "metadata": {},
   "outputs": [
    {
     "name": "stdout",
     "output_type": "stream",
     "text": [
      "Enter the length:3\n",
      "Enter the width:6\n",
      "Area of the rectangle: 18\n"
     ]
    }
   ],
   "source": [
    "Length= int(input(\"Enter the length:\"))\n",
    "Width= int(input(\"Enter the width:\"))\n",
    "Area= Length * Width\n",
    "print(\"Area of the rectangle:\",Area)"
   ]
  },
  {
   "cell_type": "markdown",
   "id": "5fa5b315",
   "metadata": {},
   "source": [
    "**3.** Implement a program that converts temperature from Celsius to Fahrenheit using the formula: Fahrenheit = (Celsius * 9/5) + 32."
   ]
  },
  {
   "cell_type": "code",
   "execution_count": 82,
   "id": "2b6a7871",
   "metadata": {},
   "outputs": [
    {
     "name": "stdout",
     "output_type": "stream",
     "text": [
      "Enter the value:28\n",
      "82.4\n"
     ]
    }
   ],
   "source": [
    "Celsius= int(input(\"Enter the value:\"))\n",
    "Fahrenheit = (Celsius* 9/5)+32\n",
    "print(Fahrenheit)"
   ]
  },
  {
   "cell_type": "markdown",
   "id": "43beebe1",
   "metadata": {},
   "source": [
    "**Task 2: Comparison Operators**\n",
    "\n",
    "**1.** Write a program that compares two user-input numbers and prints whether the first number is greater than the second number or not."
   ]
  },
  {
   "cell_type": "code",
   "execution_count": 83,
   "id": "014b3382",
   "metadata": {},
   "outputs": [
    {
     "name": "stdout",
     "output_type": "stream",
     "text": [
      "Enter the first number:23\n",
      "Enter the second number:22\n",
      "A is greater than B\n"
     ]
    }
   ],
   "source": [
    "A= int(input(\"Enter the first number:\"))\n",
    "B= int(input(\"Enter the second number:\"))\n",
    "if A>B:\n",
    "    print(\"A is greater than B\")\n",
    "else:\n",
    "    print(\"A is less than B\")"
   ]
  },
  {
   "cell_type": "markdown",
   "id": "82b8863a",
   "metadata": {},
   "source": [
    "**2.** Create a program that determines whether a user-input year is a leap year or not. A leap year is divisible by 4 and not divisible by 100, unless it is also divisible by 400."
   ]
  },
  {
   "cell_type": "code",
   "execution_count": 1,
   "id": "cc8c7050",
   "metadata": {},
   "outputs": [
    {
     "name": "stdout",
     "output_type": "stream",
     "text": [
      "Enter the year:2001\n",
      "X is not a leap year\n"
     ]
    }
   ],
   "source": [
    "X= int(input(\"Enter the year:\"))\n",
    "if (X%4==0) and (x%100!=0) or (X%400==0):\n",
    "    print(\"X is a leap year\")\n",
    "else:\n",
    "    print(\"X is not a leap year\")"
   ]
  },
  {
   "cell_type": "markdown",
   "id": "fe7a5cb8",
   "metadata": {},
   "source": [
    "**3.** Implement a simple guessing game. Generate a random number between 1 and 100 and have the user guess the number. Provide feedback if their guess is too high or too low, and let them know when they've guessed correctly."
   ]
  },
  {
   "cell_type": "code",
   "execution_count": null,
   "id": "f2df9961",
   "metadata": {},
   "outputs": [],
   "source": []
  },
  {
   "cell_type": "markdown",
   "id": "b718c894",
   "metadata": {},
   "source": [
    "**Task 3: Logical Operators**\n",
    "\n",
    "**1.** Write a program that checks whether a user-input number is positive and even using logical AND (`and`) operator."
   ]
  },
  {
   "cell_type": "code",
   "execution_count": 7,
   "id": "bb129b84",
   "metadata": {},
   "outputs": [
    {
     "name": "stdout",
     "output_type": "stream",
     "text": [
      "Enter any number:5\n",
      "A is positive\n"
     ]
    }
   ],
   "source": [
    "A= int(input(\"Enter any number:\"))\n",
    "if (A>0):\n",
    "    print(\"A is positive\")\n",
    "elif (A==0):\n",
    "    print(\"A is zero\")\n",
    "else:\n",
    "        print(\"A is negative\")"
   ]
  },
  {
   "cell_type": "code",
   "execution_count": 17,
   "id": "0c86d06f",
   "metadata": {},
   "outputs": [
    {
     "name": "stdout",
     "output_type": "stream",
     "text": [
      "Enter any number:1\n",
      "X is positive\n"
     ]
    }
   ],
   "source": [
    "X= int(input(\"Enter any number:\"))\n",
    "if (X>0) and (X>=1):\n",
    "    print(\"X is positive\")\n",
    "elif (X==0):\n",
    "    print(\"X is Zero\")\n",
    "else:\n",
    "    print(\"X is negative\")"
   ]
  },
  {
   "cell_type": "markdown",
   "id": "f7de7912",
   "metadata": {},
   "source": [
    "**2.** Create a login system where you define a correct username and password. Ask the user for their input and compare it with the correct credentials using logical OR (`or`) operator. Provide access if either the username or password is correct."
   ]
  },
  {
   "cell_type": "code",
   "execution_count": 8,
   "id": "d7c06453",
   "metadata": {},
   "outputs": [
    {
     "name": "stdout",
     "output_type": "stream",
     "text": [
      "Enter the username:Uday kadiyala\n",
      "Enter the password:123546\n",
      "The access is provided\n"
     ]
    }
   ],
   "source": [
    "username= \"Uday kadiyala\"\n",
    "password= \"123456\"\n",
    "User_Name= input(\"Enter the username:\")\n",
    "Password= input(\"Enter the password:\")\n",
    "if (username==User_Name) or (password==Password):\n",
    "    print(\"The access is provided\")\n",
    "else:\n",
    "    print(\"The access is denied\")"
   ]
  },
  {
   "cell_type": "markdown",
   "id": "2b616efe",
   "metadata": {},
   "source": [
    "**3.** Implement a program that determines whether a given year is a leap year and divisible by 7 using logical NOT (`not`) operator."
   ]
  },
  {
   "cell_type": "code",
   "execution_count": 1,
   "id": "e8a5b349",
   "metadata": {},
   "outputs": [
    {
     "name": "stdout",
     "output_type": "stream",
     "text": [
      "Enter the year:2020\n",
      "X is a leap year\n"
     ]
    }
   ],
   "source": [
    "X= int(input(\"Enter the year:\"))\n",
    "if (X%4==0) and (X%100!=0) or (X%400==0)and not(X%7!=0):\n",
    "    print(\"X is a leap year\")\n",
    "else:\n",
    "    print(\"X is not a leap year\")"
   ]
  },
  {
   "cell_type": "markdown",
   "id": "4e11a8ca",
   "metadata": {},
   "source": [
    "**Task 4: Assignment Operators**\n",
    "\n",
    "**1.** Write a program to calculate the square of a number using the exponentiation operator (**) and assign it back to the same variable."
   ]
  },
  {
   "cell_type": "code",
   "execution_count": 2,
   "id": "16a306a3",
   "metadata": {},
   "outputs": [
    {
     "name": "stdout",
     "output_type": "stream",
     "text": [
      "Enter any number:2\n",
      "4\n"
     ]
    }
   ],
   "source": [
    "A= int(input(\"Enter any number:\"))\n",
    "A= A**2\n",
    "print(A)"
   ]
  },
  {
   "cell_type": "markdown",
   "id": "cca61065",
   "metadata": {},
   "source": [
    "**2.** Create a program that keeps track of the total score in a game. Prompt the user for their latest score and update the total score using the addition assignment operator (`+=`)."
   ]
  },
  {
   "cell_type": "code",
   "execution_count": null,
   "id": "81a31f03",
   "metadata": {},
   "outputs": [],
   "source": []
  },
  {
   "cell_type": "markdown",
   "id": "26f30b4c",
   "metadata": {},
   "source": [
    "**3.** Implement a program to convert seconds into hours, minutes, and remaining seconds using both division and modulo operators, and then assign each value using assignment operators."
   ]
  },
  {
   "cell_type": "code",
   "execution_count": null,
   "id": "43abf8a6",
   "metadata": {},
   "outputs": [],
   "source": []
  },
  {
   "cell_type": "markdown",
   "id": "ac5122d1",
   "metadata": {},
   "source": [
    "**Task 5: Bitwise Operators**\n",
    "\n",
    "**1.** Write a program that performs a bitwise AND operation between two user-input numbers and displays the result."
   ]
  },
  {
   "cell_type": "code",
   "execution_count": 6,
   "id": "83ad0342",
   "metadata": {},
   "outputs": [
    {
     "name": "stdout",
     "output_type": "stream",
     "text": [
      "Enter the num1:15\n",
      "Enter the num2:12\n",
      "12\n"
     ]
    }
   ],
   "source": [
    "a= int(input(\"Enter the num1:\"))\n",
    "b= int(input(\"Enter the num2:\"))\n",
    "print(a & b)"
   ]
  },
  {
   "cell_type": "markdown",
   "id": "355214d7",
   "metadata": {},
   "source": [
    "**2.** Create a program to toggle the nth bit of a given number. Ask the user for the number and the value of n, then use bitwise XOR (^) operator to toggle the bit."
   ]
  },
  {
   "cell_type": "code",
   "execution_count": null,
   "id": "a8a35568",
   "metadata": {},
   "outputs": [],
   "source": []
  },
  {
   "cell_type": "markdown",
   "id": "38668261",
   "metadata": {},
   "source": [
    "**3.** Implement a program to swap the values of two variables without using a temporary variable, only using bitwise XOR (^) operator."
   ]
  },
  {
   "cell_type": "code",
   "execution_count": 5,
   "id": "9b79e955",
   "metadata": {},
   "outputs": [
    {
     "name": "stdout",
     "output_type": "stream",
     "text": [
      "20\n",
      "10\n"
     ]
    }
   ],
   "source": [
    "A= 10\n",
    "B= 20\n",
    "A= A^B\n",
    "B= A^B\n",
    "A= A^B\n",
    "print(A)\n",
    "print(B)"
   ]
  }
 ],
 "metadata": {
  "kernelspec": {
   "display_name": "Python 3 (ipykernel)",
   "language": "python",
   "name": "python3"
  },
  "language_info": {
   "codemirror_mode": {
    "name": "ipython",
    "version": 3
   },
   "file_extension": ".py",
   "mimetype": "text/x-python",
   "name": "python",
   "nbconvert_exporter": "python",
   "pygments_lexer": "ipython3",
   "version": "3.11.4"
  }
 },
 "nbformat": 4,
 "nbformat_minor": 5
}
