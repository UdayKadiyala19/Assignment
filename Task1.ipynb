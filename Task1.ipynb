{
 "cells": [
  {
   "cell_type": "markdown",
   "id": "5efd181d",
   "metadata": {},
   "source": [
    "# Check the valid Identifiers and invalid identifers using Python"
   ]
  },
  {
   "cell_type": "markdown",
   "id": "aebe5a40",
   "metadata": {},
   "source": [
    "1. **Run all the identifiers and seprate valid and Invalid Identifiers?**\n",
    "\n",
    "2. **Why Python treating them as invalid Identifers.Explain?**"
   ]
  },
  {
   "cell_type": "markdown",
   "id": "77c112d3",
   "metadata": {},
   "source": [
    "* my_variable = 25- `valid`\n",
    "\n",
    "\n",
    "* counter = 40.7-  `valid`\n",
    "\n",
    "\n",
    "* _total = \"Hello\"- `valid`\n",
    "\n",
    "\n",
    " - 123abc   = 34-    `invalid`\n",
    " \n",
    " \n",
    " - my variable   =6.7-  `invalid`\n",
    " \n",
    " \n",
    " - @count  = \"hi\"-  `invalid`\n",
    " \n",
    " \n",
    " - for   = \"True\"-  `invalid`\n",
    "\n",
    "\n",
    "* Name123 = 136- `valid`\n",
    "\n",
    "\n",
    "* myFunction = True- `valid`\n",
    "\n",
    "\n",
    "* _data = False-  `valid`\n",
    "\n",
    "\n",
    "- if_condition? = \"Innomatics\"- `invalid`\n",
    "\n",
    "\n",
    "- class = \"Hyderabad\"-   `invalid`"
   ]
  },
  {
   "cell_type": "code",
   "execution_count": 1,
   "id": "e8dfc0e5",
   "metadata": {},
   "outputs": [],
   "source": [
    "my_variable = 25"
   ]
  },
  {
   "cell_type": "code",
   "execution_count": 2,
   "id": "b78baafc",
   "metadata": {},
   "outputs": [],
   "source": [
    "counter = 40.7"
   ]
  },
  {
   "cell_type": "code",
   "execution_count": 3,
   "id": "b5845f47",
   "metadata": {},
   "outputs": [],
   "source": [
    "_total = \"Hello\""
   ]
  },
  {
   "cell_type": "code",
   "execution_count": 4,
   "id": "bbaa5319",
   "metadata": {},
   "outputs": [
    {
     "ename": "SyntaxError",
     "evalue": "invalid decimal literal (2882410871.py, line 1)",
     "output_type": "error",
     "traceback": [
      "\u001b[1;36m  Cell \u001b[1;32mIn[4], line 1\u001b[1;36m\u001b[0m\n\u001b[1;33m    123abc   = 34\u001b[0m\n\u001b[1;37m      ^\u001b[0m\n\u001b[1;31mSyntaxError\u001b[0m\u001b[1;31m:\u001b[0m invalid decimal literal\n"
     ]
    }
   ],
   "source": [
    "123abc   = 34 #The variable name should not start with number."
   ]
  },
  {
   "cell_type": "code",
   "execution_count": 5,
   "id": "9a958b3e",
   "metadata": {},
   "outputs": [
    {
     "ename": "SyntaxError",
     "evalue": "invalid syntax (2946485415.py, line 1)",
     "output_type": "error",
     "traceback": [
      "\u001b[1;36m  Cell \u001b[1;32mIn[5], line 1\u001b[1;36m\u001b[0m\n\u001b[1;33m    my variable   =6.7\u001b[0m\n\u001b[1;37m       ^\u001b[0m\n\u001b[1;31mSyntaxError\u001b[0m\u001b[1;31m:\u001b[0m invalid syntax\n"
     ]
    }
   ],
   "source": [
    "my variable   =6.7 #The variable should not contain spaces."
   ]
  },
  {
   "cell_type": "code",
   "execution_count": 6,
   "id": "0d8a3af4",
   "metadata": {},
   "outputs": [
    {
     "ename": "SyntaxError",
     "evalue": "invalid syntax. Maybe you meant '==' or ':=' instead of '='? (1203231611.py, line 1)",
     "output_type": "error",
     "traceback": [
      "\u001b[1;36m  Cell \u001b[1;32mIn[6], line 1\u001b[1;36m\u001b[0m\n\u001b[1;33m    @count  = \"hi\"\u001b[0m\n\u001b[1;37m     ^\u001b[0m\n\u001b[1;31mSyntaxError\u001b[0m\u001b[1;31m:\u001b[0m invalid syntax. Maybe you meant '==' or ':=' instead of '='?\n"
     ]
    }
   ],
   "source": [
    " @count  = \"hi\" #The variable should not contain special symbols except underscore(_)."
   ]
  },
  {
   "cell_type": "code",
   "execution_count": 7,
   "id": "5c2f3f67",
   "metadata": {},
   "outputs": [
    {
     "ename": "SyntaxError",
     "evalue": "invalid syntax (6420569.py, line 1)",
     "output_type": "error",
     "traceback": [
      "\u001b[1;36m  Cell \u001b[1;32mIn[7], line 1\u001b[1;36m\u001b[0m\n\u001b[1;33m    for   = \"True\"\u001b[0m\n\u001b[1;37m          ^\u001b[0m\n\u001b[1;31mSyntaxError\u001b[0m\u001b[1;31m:\u001b[0m invalid syntax\n"
     ]
    }
   ],
   "source": [
    "for   = \"True\" # The variable should not be a keyword"
   ]
  },
  {
   "cell_type": "code",
   "execution_count": 8,
   "id": "7864538c",
   "metadata": {},
   "outputs": [],
   "source": [
    " Name123 = 136"
   ]
  },
  {
   "cell_type": "code",
   "execution_count": 9,
   "id": "646b696d",
   "metadata": {},
   "outputs": [],
   "source": [
    "myFunction = True"
   ]
  },
  {
   "cell_type": "code",
   "execution_count": 10,
   "id": "6b0f034f",
   "metadata": {},
   "outputs": [],
   "source": [
    " _data = False"
   ]
  },
  {
   "cell_type": "code",
   "execution_count": 11,
   "id": "62807d04",
   "metadata": {},
   "outputs": [
    {
     "ename": "SyntaxError",
     "evalue": "invalid syntax (51595175.py, line 1)",
     "output_type": "error",
     "traceback": [
      "\u001b[1;36m  Cell \u001b[1;32mIn[11], line 1\u001b[1;36m\u001b[0m\n\u001b[1;33m    if_condition? = \"Innomatics\"\u001b[0m\n\u001b[1;37m                ^\u001b[0m\n\u001b[1;31mSyntaxError\u001b[0m\u001b[1;31m:\u001b[0m invalid syntax\n"
     ]
    }
   ],
   "source": [
    "if_condition? = \"Innomatics\" #The variable should not contain special symbols except underscore(_)."
   ]
  },
  {
   "cell_type": "code",
   "execution_count": 12,
   "id": "ccb64543",
   "metadata": {},
   "outputs": [
    {
     "ename": "SyntaxError",
     "evalue": "invalid syntax (423682886.py, line 1)",
     "output_type": "error",
     "traceback": [
      "\u001b[1;36m  Cell \u001b[1;32mIn[12], line 1\u001b[1;36m\u001b[0m\n\u001b[1;33m    class = \"Hyderabad\"\u001b[0m\n\u001b[1;37m          ^\u001b[0m\n\u001b[1;31mSyntaxError\u001b[0m\u001b[1;31m:\u001b[0m invalid syntax\n"
     ]
    }
   ],
   "source": [
    "class = \"Hyderabad\"  #The variable should not be a keyword"
   ]
  },
  {
   "cell_type": "markdown",
   "id": "35c32a6f",
   "metadata": {},
   "source": [
    "### Use different identifiers and assign the below values"
   ]
  },
  {
   "cell_type": "markdown",
   "id": "d606e5ac",
   "metadata": {},
   "source": [
    "10\n",
    "\n",
    "-5\n",
    "\n",
    "3.14159\n",
    "\n",
    "-0.12345\n",
    "\n",
    "1000\n",
    "\n",
    "\"Hello, World!\"\n",
    "\n",
    "\"Python\"\n",
    "\n",
    "\"I am learning\"\n",
    "\n",
    "\"Text type\"\n",
    "\n",
    "\"String\"\n",
    "\n",
    "True\n",
    "\n",
    "False\n",
    "\n",
    "True\n",
    "\n",
    "False\n",
    "\n",
    "True\n",
    "\n"
   ]
  },
  {
   "cell_type": "code",
   "execution_count": 13,
   "id": "a8ce7a79",
   "metadata": {},
   "outputs": [],
   "source": [
    "My_value = 10"
   ]
  },
  {
   "cell_type": "code",
   "execution_count": 14,
   "id": "b132eea9",
   "metadata": {},
   "outputs": [],
   "source": [
    "_VALUE = -5"
   ]
  },
  {
   "cell_type": "code",
   "execution_count": 15,
   "id": "4b71cffd",
   "metadata": {},
   "outputs": [],
   "source": [
    "Float_Value = 3.14159"
   ]
  },
  {
   "cell_type": "code",
   "execution_count": 16,
   "id": "2e1b745e",
   "metadata": {},
   "outputs": [],
   "source": [
    "__VaLuE__ = -0.12345"
   ]
  },
  {
   "cell_type": "code",
   "execution_count": 17,
   "id": "12ade5ec",
   "metadata": {},
   "outputs": [],
   "source": [
    "A = 1000"
   ]
  },
  {
   "cell_type": "code",
   "execution_count": 18,
   "id": "6716ea76",
   "metadata": {},
   "outputs": [],
   "source": [
    "Hi = \"Hello, World!\""
   ]
  },
  {
   "cell_type": "code",
   "execution_count": 19,
   "id": "2de140f3",
   "metadata": {},
   "outputs": [],
   "source": [
    "hi = \"Python\""
   ]
  },
  {
   "cell_type": "code",
   "execution_count": 20,
   "id": "7a4d44c8",
   "metadata": {},
   "outputs": [],
   "source": [
    "Hello_123 = \"I am learning\""
   ]
  },
  {
   "cell_type": "code",
   "execution_count": 21,
   "id": "b879068a",
   "metadata": {},
   "outputs": [],
   "source": [
    "_123_ = \"Text type\""
   ]
  },
  {
   "cell_type": "code",
   "execution_count": 22,
   "id": "39be79c3",
   "metadata": {},
   "outputs": [],
   "source": [
    "Data_Type =\"String\""
   ]
  },
  {
   "cell_type": "code",
   "execution_count": 23,
   "id": "9357b689",
   "metadata": {},
   "outputs": [],
   "source": [
    "bool_1 = True"
   ]
  },
  {
   "cell_type": "code",
   "execution_count": 24,
   "id": "aee87949",
   "metadata": {},
   "outputs": [],
   "source": [
    "Bool_12_ = False"
   ]
  },
  {
   "cell_type": "code",
   "execution_count": 25,
   "id": "e65ad8b6",
   "metadata": {},
   "outputs": [],
   "source": [
    "Boolean_type = True"
   ]
  },
  {
   "cell_type": "code",
   "execution_count": 26,
   "id": "8e681813",
   "metadata": {},
   "outputs": [],
   "source": [
    "data= False"
   ]
  },
  {
   "cell_type": "code",
   "execution_count": 27,
   "id": "b51135b3",
   "metadata": {},
   "outputs": [],
   "source": [
    "_b_o_o_l = True"
   ]
  }
 ],
 "metadata": {
  "kernelspec": {
   "display_name": "Python 3 (ipykernel)",
   "language": "python",
   "name": "python3"
  },
  "language_info": {
   "codemirror_mode": {
    "name": "ipython",
    "version": 3
   },
   "file_extension": ".py",
   "mimetype": "text/x-python",
   "name": "python",
   "nbconvert_exporter": "python",
   "pygments_lexer": "ipython3",
   "version": "3.11.4"
  }
 },
 "nbformat": 4,
 "nbformat_minor": 5
}
