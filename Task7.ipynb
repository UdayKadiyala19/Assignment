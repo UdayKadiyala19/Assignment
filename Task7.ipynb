{
 "cells": [
  {
   "cell_type": "markdown",
   "id": "f02710a3",
   "metadata": {},
   "source": [
    "\n",
    "**Task 1: Dictionary Basics**\n",
    "Create a Python program that defines a dictionary to store information about your `favorite book`. Include the title, author, publication year, and genre as key-value pairs. Print out the dictionary.and do atleast 5 dictionary methods on it.\n",
    "\n",
    "**Task 2: Dictionary Lookup**\n",
    "Write a Python program that simulates a simple dictionary for translating `English words to Spanish`. Define a dictionary containing a few English words as `keys` and their corresponding Spanish translations as `values`. Allow `users to enter` an English word, and then display its Spanish translation `if it exists` in the dictionary.(use google for English to Spanish translator)\n",
    "\n",
    "**Task 3: Student Grades**\n",
    "Create a Python program that stores the `grades of five students` in a dictionary. Allow users to input the names of the students and their respective grades. Calculate and display the `average grade` of the students.\n",
    "\n",
    "**Task 4: Contact List**\n",
    "Build a basic contact list using a dictionary. Initially, the dictionary can be `empty`. Allow users to `add new contacts` with `names and phone numbers`. Users should also be able to search for contacts by name and display their phone numbers(use in operator).\n",
    "\n",
    "**Task 5: Dictionary Iteration**\n",
    "Write a Python program that defines a dictionary containing the names of `fruits as keys` and their corresponding `colors as values` (e.g., 'apple': 'red').Do atleast 5 dictionary methods on it.\n"
   ]
  },
  {
   "cell_type": "markdown",
   "id": "0c83cb16",
   "metadata": {},
   "source": [
    "**Task 1: Dictionary Basics**\n",
    "Create a Python program that defines a dictionary to store information about your `favorite book`. Include the title, author, publication year, and genre as key-value pairs. Print out the dictionary.and do atleast 5 dictionary methods on it."
   ]
  },
  {
   "cell_type": "code",
   "execution_count": 1,
   "id": "9ffe6d70",
   "metadata": {},
   "outputs": [],
   "source": [
    "Favorite_book= {'title':\"Harry potter\",'author':\"j.k.Rowling\",'publication year':\"1997\",'genre':\"Fantasy\"}"
   ]
  },
  {
   "cell_type": "code",
   "execution_count": 2,
   "id": "5657c751",
   "metadata": {},
   "outputs": [
    {
     "data": {
      "text/plain": [
       "{'title': 'Harry potter',\n",
       " 'author': 'j.k.Rowling',\n",
       " 'publication year': '1997',\n",
       " 'genre': 'Fantasy'}"
      ]
     },
     "execution_count": 2,
     "metadata": {},
     "output_type": "execute_result"
    }
   ],
   "source": [
    "Favorite_book"
   ]
  },
  {
   "cell_type": "code",
   "execution_count": 3,
   "id": "3ef72ae0",
   "metadata": {},
   "outputs": [
    {
     "data": {
      "text/plain": [
       "'Harry potter'"
      ]
     },
     "execution_count": 3,
     "metadata": {},
     "output_type": "execute_result"
    }
   ],
   "source": [
    "Favorite_book.get('title')"
   ]
  },
  {
   "cell_type": "code",
   "execution_count": 4,
   "id": "58f2e51e",
   "metadata": {},
   "outputs": [
    {
     "data": {
      "text/plain": [
       "dict_items([('title', 'Harry potter'), ('author', 'j.k.Rowling'), ('publication year', '1997'), ('genre', 'Fantasy')])"
      ]
     },
     "execution_count": 4,
     "metadata": {},
     "output_type": "execute_result"
    }
   ],
   "source": [
    "Favorite_book.items()"
   ]
  },
  {
   "cell_type": "code",
   "execution_count": 5,
   "id": "22b5170b",
   "metadata": {},
   "outputs": [
    {
     "data": {
      "text/plain": [
       "dict_keys(['title', 'author', 'publication year', 'genre'])"
      ]
     },
     "execution_count": 5,
     "metadata": {},
     "output_type": "execute_result"
    }
   ],
   "source": [
    "Favorite_book.keys()"
   ]
  },
  {
   "cell_type": "code",
   "execution_count": 6,
   "id": "ffca5108",
   "metadata": {},
   "outputs": [
    {
     "data": {
      "text/plain": [
       "dict_values(['Harry potter', 'j.k.Rowling', '1997', 'Fantasy'])"
      ]
     },
     "execution_count": 6,
     "metadata": {},
     "output_type": "execute_result"
    }
   ],
   "source": [
    "Favorite_book.values()"
   ]
  },
  {
   "cell_type": "code",
   "execution_count": 7,
   "id": "766acd7e",
   "metadata": {},
   "outputs": [
    {
     "data": {
      "text/plain": [
       "'1997'"
      ]
     },
     "execution_count": 7,
     "metadata": {},
     "output_type": "execute_result"
    }
   ],
   "source": [
    "Favorite_book.pop(\"publication year\")"
   ]
  },
  {
   "cell_type": "code",
   "execution_count": 8,
   "id": "380bab56",
   "metadata": {},
   "outputs": [
    {
     "data": {
      "text/plain": [
       "{'title': 'Harry potter', 'author': 'j.k.Rowling', 'genre': 'Fantasy'}"
      ]
     },
     "execution_count": 8,
     "metadata": {},
     "output_type": "execute_result"
    }
   ],
   "source": [
    "Favorite_book"
   ]
  },
  {
   "cell_type": "code",
   "execution_count": 9,
   "id": "7c50008c",
   "metadata": {},
   "outputs": [
    {
     "data": {
      "text/plain": [
       "('genre', 'Fantasy')"
      ]
     },
     "execution_count": 9,
     "metadata": {},
     "output_type": "execute_result"
    }
   ],
   "source": [
    "Favorite_book.popitem()"
   ]
  },
  {
   "cell_type": "code",
   "execution_count": 10,
   "id": "68a202f7",
   "metadata": {},
   "outputs": [
    {
     "data": {
      "text/plain": [
       "{'title': 'Harry potter', 'author': 'j.k.Rowling'}"
      ]
     },
     "execution_count": 10,
     "metadata": {},
     "output_type": "execute_result"
    }
   ],
   "source": [
    "Favorite_book"
   ]
  },
  {
   "cell_type": "markdown",
   "id": "9aeff731",
   "metadata": {},
   "source": [
    "**Task 2: Dictionary Lookup**\n",
    "Write a Python program that simulates a simple dictionary for translating `English words to Spanish`. Define a dictionary containing a few English words as `keys` and their corresponding Spanish translations as `values`. Allow `users to enter` an English word, and then display its Spanish translation `if it exists` in the dictionary.(use google for English to Spanish translator)\n"
   ]
  },
  {
   "cell_type": "code",
   "execution_count": 11,
   "id": "14a0cca9",
   "metadata": {},
   "outputs": [],
   "source": [
    "translate= {'hi':'Hola','how':'cómo','what':'qué','where':'dónde'}"
   ]
  },
  {
   "cell_type": "code",
   "execution_count": 17,
   "id": "e9936e82",
   "metadata": {},
   "outputs": [
    {
     "data": {
      "text/plain": [
       "'Hola'"
      ]
     },
     "execution_count": 17,
     "metadata": {},
     "output_type": "execute_result"
    }
   ],
   "source": [
    "translate['hi']"
   ]
  },
  {
   "cell_type": "code",
   "execution_count": 18,
   "id": "fe31999a",
   "metadata": {},
   "outputs": [
    {
     "data": {
      "text/plain": [
       "'qué'"
      ]
     },
     "execution_count": 18,
     "metadata": {},
     "output_type": "execute_result"
    }
   ],
   "source": [
    "translate['what']"
   ]
  },
  {
   "cell_type": "code",
   "execution_count": 13,
   "id": "48f9fd20",
   "metadata": {},
   "outputs": [
    {
     "data": {
      "text/plain": [
       "'cómo'"
      ]
     },
     "execution_count": 13,
     "metadata": {},
     "output_type": "execute_result"
    }
   ],
   "source": [
    "translate.get('how')"
   ]
  },
  {
   "cell_type": "code",
   "execution_count": 14,
   "id": "db680f0d",
   "metadata": {},
   "outputs": [
    {
     "data": {
      "text/plain": [
       "'Hola'"
      ]
     },
     "execution_count": 14,
     "metadata": {},
     "output_type": "execute_result"
    }
   ],
   "source": [
    "translate.get('hi')"
   ]
  },
  {
   "cell_type": "code",
   "execution_count": 16,
   "id": "62f4cf71",
   "metadata": {},
   "outputs": [
    {
     "name": "stdout",
     "output_type": "stream",
     "text": [
      "None\n"
     ]
    }
   ],
   "source": [
    "print(translate.get(\"hello\"))  #there is no such key so it is showing None"
   ]
  },
  {
   "cell_type": "markdown",
   "id": "ee53f9af",
   "metadata": {},
   "source": [
    "**Task 3: Student Grades**\n",
    "Create a Python program that stores the `grades of five students` in a dictionary. Allow users to input the names of the students and their respective grades. Calculate and display the `average grade` of the students."
   ]
  },
  {
   "cell_type": "code",
   "execution_count": 1,
   "id": "3d224296",
   "metadata": {},
   "outputs": [
    {
     "name": "stdout",
     "output_type": "stream",
     "text": [
      "Enter the name of student1:Uday\n",
      "enter the grade of student1:8.8\n",
      "Enter the name of student2:sathish\n",
      "enter the grade of student2:10\n",
      "Enter the name of student3:sai\n",
      "enter the grade of student3:9.0\n",
      "Enter the name of student4:harsha\n",
      "enter the grade of student4:9.7\n",
      "Enter the name of student5:ravi\n",
      "enter the grade of student5:9\n"
     ]
    }
   ],
   "source": [
    "students={}\n",
    "name1= input(\"Enter the name of student1:\")\n",
    "grade1= float(input(\"enter the grade of student1:\"))\n",
    "\n",
    "name2= input(\"Enter the name of student2:\")\n",
    "grade2= float(input(\"enter the grade of student2:\"))\n",
    "\n",
    "name3= input(\"Enter the name of student3:\")\n",
    "grade3= float(input(\"enter the grade of student3:\"))\n",
    "\n",
    "name4= input(\"Enter the name of student4:\")\n",
    "grade4= float(input(\"enter the grade of student4:\"))\n",
    "\n",
    "name5= input(\"Enter the name of student5:\")\n",
    "grade5= float(input(\"enter the grade of student5:\"))"
   ]
  },
  {
   "cell_type": "code",
   "execution_count": 8,
   "id": "a02bd849",
   "metadata": {},
   "outputs": [],
   "source": [
    "students.update({name1:grade1,name2:grade2,name3:grade3,name4:grade4,name5:grade5})"
   ]
  },
  {
   "cell_type": "code",
   "execution_count": 9,
   "id": "c65e745e",
   "metadata": {},
   "outputs": [
    {
     "data": {
      "text/plain": [
       "{'Uday': 8.8, 'sathish': 10.0, 'sai': 9.0, 'harsha': 9.7, 'ravi': 9.0}"
      ]
     },
     "execution_count": 9,
     "metadata": {},
     "output_type": "execute_result"
    }
   ],
   "source": [
    "students"
   ]
  },
  {
   "cell_type": "code",
   "execution_count": 6,
   "id": "35005b8d",
   "metadata": {},
   "outputs": [],
   "source": [
    "A= sum(students.values())\n",
    "B= len(students.values())"
   ]
  },
  {
   "cell_type": "code",
   "execution_count": 7,
   "id": "9d43b9f0",
   "metadata": {},
   "outputs": [
    {
     "data": {
      "text/plain": [
       "9.3"
      ]
     },
     "execution_count": 7,
     "metadata": {},
     "output_type": "execute_result"
    }
   ],
   "source": [
    "average= A/B\n",
    "average"
   ]
  },
  {
   "cell_type": "markdown",
   "id": "ae2e0e94",
   "metadata": {},
   "source": [
    "**Task 4: Contact List**\n",
    "Build a basic contact list using a dictionary. Initially, the dictionary can be `empty`. Allow users to `add new contacts` with `names and phone numbers`. Users should also be able to search for contacts by name and display their phone numbers(use in operator)."
   ]
  },
  {
   "cell_type": "code",
   "execution_count": 12,
   "id": "ec7ad5ed",
   "metadata": {},
   "outputs": [],
   "source": [
    "contact_list= {}"
   ]
  },
  {
   "cell_type": "code",
   "execution_count": 13,
   "id": "692f6a57",
   "metadata": {},
   "outputs": [
    {
     "name": "stdout",
     "output_type": "stream",
     "text": [
      "Enter name1:police\n",
      "enter contact1:100\n",
      "Enter name2:ambulance\n",
      "enter contact2:108\n",
      "Enter name3:fire\n",
      "enter contact3:101\n"
     ]
    }
   ],
   "source": [
    "name1= input(\"Enter name1:\")\n",
    "contact1= int(input(\"enter contact1:\"))\n",
    "\n",
    "name2= input(\"Enter name2:\")\n",
    "contact2= int(input(\"enter contact2:\"))\n",
    "\n",
    "name3= input(\"Enter name3:\")\n",
    "contact3= int(input(\"enter contact3:\"))"
   ]
  },
  {
   "cell_type": "code",
   "execution_count": 14,
   "id": "80cab2a5",
   "metadata": {},
   "outputs": [],
   "source": [
    "contact_list.update({name1:contact1,name2:contact2,name3:contact3})"
   ]
  },
  {
   "cell_type": "code",
   "execution_count": 15,
   "id": "15574f97",
   "metadata": {},
   "outputs": [
    {
     "data": {
      "text/plain": [
       "{'police': 100, 'ambulance': 108, 'fire': 101}"
      ]
     },
     "execution_count": 15,
     "metadata": {},
     "output_type": "execute_result"
    }
   ],
   "source": [
    "contact_list"
   ]
  },
  {
   "cell_type": "code",
   "execution_count": 19,
   "id": "3a444ebd",
   "metadata": {},
   "outputs": [
    {
     "data": {
      "text/plain": [
       "100"
      ]
     },
     "execution_count": 19,
     "metadata": {},
     "output_type": "execute_result"
    }
   ],
   "source": [
    "contact_list.get(name1)     #1st method"
   ]
  },
  {
   "cell_type": "code",
   "execution_count": 17,
   "id": "1a038908",
   "metadata": {},
   "outputs": [
    {
     "data": {
      "text/plain": [
       "108"
      ]
     },
     "execution_count": 17,
     "metadata": {},
     "output_type": "execute_result"
    }
   ],
   "source": [
    "contact_list[name2]          #2nd method"
   ]
  },
  {
   "cell_type": "code",
   "execution_count": 18,
   "id": "60d9a9cb",
   "metadata": {},
   "outputs": [
    {
     "data": {
      "text/plain": [
       "101"
      ]
     },
     "execution_count": 18,
     "metadata": {},
     "output_type": "execute_result"
    }
   ],
   "source": [
    "contact_list[name3]"
   ]
  },
  {
   "cell_type": "markdown",
   "id": "f6c6a05f",
   "metadata": {},
   "source": [
    "**Task 5: Dictionary Iteration**\n",
    "Write a Python program that defines a dictionary containing the names of `fruits as keys` and their corresponding `colors as values` (e.g., 'apple': 'red').Do atleast 5 dictionary methods on it."
   ]
  },
  {
   "cell_type": "code",
   "execution_count": 8,
   "id": "86b4396c",
   "metadata": {},
   "outputs": [],
   "source": [
    "Fruits= {\"banana\":'yellow',\"grape\":'black',\"strawberry\":'pink',\"guava\":'green'}"
   ]
  },
  {
   "cell_type": "code",
   "execution_count": 9,
   "id": "c234053e",
   "metadata": {},
   "outputs": [
    {
     "data": {
      "text/plain": [
       "'yellow'"
      ]
     },
     "execution_count": 9,
     "metadata": {},
     "output_type": "execute_result"
    }
   ],
   "source": [
    "Fruits.get('banana')"
   ]
  },
  {
   "cell_type": "code",
   "execution_count": 10,
   "id": "2fa70975",
   "metadata": {},
   "outputs": [
    {
     "data": {
      "text/plain": [
       "dict_items([('banana', 'yellow'), ('grape', 'black'), ('strawberry', 'pink'), ('guava', 'green')])"
      ]
     },
     "execution_count": 10,
     "metadata": {},
     "output_type": "execute_result"
    }
   ],
   "source": [
    "Fruits.items()"
   ]
  },
  {
   "cell_type": "code",
   "execution_count": 11,
   "id": "c419925d",
   "metadata": {},
   "outputs": [
    {
     "data": {
      "text/plain": [
       "dict_keys(['banana', 'grape', 'strawberry', 'guava'])"
      ]
     },
     "execution_count": 11,
     "metadata": {},
     "output_type": "execute_result"
    }
   ],
   "source": [
    "Fruits.keys()"
   ]
  },
  {
   "cell_type": "code",
   "execution_count": 12,
   "id": "7e68378b",
   "metadata": {},
   "outputs": [
    {
     "data": {
      "text/plain": [
       "dict_values(['yellow', 'black', 'pink', 'green'])"
      ]
     },
     "execution_count": 12,
     "metadata": {},
     "output_type": "execute_result"
    }
   ],
   "source": [
    "Fruits.values()"
   ]
  },
  {
   "cell_type": "code",
   "execution_count": 13,
   "id": "d7de4814",
   "metadata": {},
   "outputs": [
    {
     "data": {
      "text/plain": [
       "('guava', 'green')"
      ]
     },
     "execution_count": 13,
     "metadata": {},
     "output_type": "execute_result"
    }
   ],
   "source": [
    "Fruits.popitem()"
   ]
  },
  {
   "cell_type": "code",
   "execution_count": 14,
   "id": "88a76d7c",
   "metadata": {},
   "outputs": [
    {
     "data": {
      "text/plain": [
       "{'banana': 'yellow', 'grape': 'black', 'strawberry': 'pink'}"
      ]
     },
     "execution_count": 14,
     "metadata": {},
     "output_type": "execute_result"
    }
   ],
   "source": [
    "Fruits"
   ]
  },
  {
   "cell_type": "code",
   "execution_count": 16,
   "id": "90de94a2",
   "metadata": {},
   "outputs": [
    {
     "data": {
      "text/plain": [
       "'yellow'"
      ]
     },
     "execution_count": 16,
     "metadata": {},
     "output_type": "execute_result"
    }
   ],
   "source": [
    "Fruits.pop('banana')"
   ]
  },
  {
   "cell_type": "code",
   "execution_count": 17,
   "id": "3fbaabb2",
   "metadata": {},
   "outputs": [
    {
     "data": {
      "text/plain": [
       "{'grape': 'black', 'strawberry': 'pink'}"
      ]
     },
     "execution_count": 17,
     "metadata": {},
     "output_type": "execute_result"
    }
   ],
   "source": [
    "Fruits"
   ]
  },
  {
   "cell_type": "code",
   "execution_count": null,
   "id": "61d3f70d",
   "metadata": {},
   "outputs": [],
   "source": []
  }
 ],
 "metadata": {
  "kernelspec": {
   "display_name": "Python 3 (ipykernel)",
   "language": "python",
   "name": "python3"
  },
  "language_info": {
   "codemirror_mode": {
    "name": "ipython",
    "version": 3
   },
   "file_extension": ".py",
   "mimetype": "text/x-python",
   "name": "python",
   "nbconvert_exporter": "python",
   "pygments_lexer": "ipython3",
   "version": "3.11.4"
  }
 },
 "nbformat": 4,
 "nbformat_minor": 5
}
